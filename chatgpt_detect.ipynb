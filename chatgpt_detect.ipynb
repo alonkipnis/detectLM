{
 "cells": [
  {
   "cell_type": "code",
   "execution_count": 1,
   "id": "9f302d2c",
   "metadata": {
    "ExecuteTime": {
     "start_time": "2023-04-02T19:16:58.896469Z",
     "end_time": "2023-04-02T19:16:59.713726Z"
    }
   },
   "outputs": [],
   "source": [
    "import numpy as np\n",
    "import scipy\n",
    "import matplotlib.pyplot as plt\n",
    "import matplotlib as mpl\n",
    "mpl.style.use('ggplot')\n",
    "%matplotlib inline\n",
    "from tqdm import tqdm\n",
    "from multitest import MultiTest\n"
   ]
  },
  {
   "cell_type": "code",
   "execution_count": 2,
   "id": "0782bd8a",
   "metadata": {
    "ExecuteTime": {
     "start_time": "2023-04-02T19:16:59.714541Z",
     "end_time": "2023-04-02T19:16:59.977865Z"
    }
   },
   "outputs": [],
   "source": [
    "from scipy.interpolate import interp1d\n",
    "import pandas as pd"
   ]
  },
  {
   "cell_type": "code",
   "execution_count": 3,
   "id": "6be03ee2",
   "metadata": {
    "ExecuteTime": {
     "start_time": "2023-04-02T19:16:59.979444Z",
     "end_time": "2023-04-02T19:17:00.657824Z"
    }
   },
   "outputs": [],
   "source": [
    "import numpy as np\n",
    "import torch\n",
    "import os\n",
    "#from transformers import AutoTokenizer, AutoModelForSeq2SeqLM, AutoModelForCausalLM, GPT2LMHeadModel"
   ]
  },
  {
   "cell_type": "code",
   "execution_count": 32,
   "outputs": [],
   "source": [
    "import numpy as np\n",
    "import pandas as pd\n",
    "from multitest import MultiTest\n",
    "from tqdm import tqdm\n",
    "import torch\n",
    "import logging\n",
    "import spacy\n",
    "nlp = spacy.load(\"en_core_web_sm\")\n",
    "\n",
    "def break_text(text):\n",
    "    return [str(s) for s in nlp(text).sents]\n",
    "\n",
    "text = \"\"\"\n",
    "AFTER an unequivocal experience of the inefficacy of the subsisting\n",
    "federal government, you are called upon to deliberate on a new\n",
    "Constitution for the United States of America. The subject speaks its\n",
    "own importance; comprehending in its consequences nothing less than the\n",
    "existence of the UNION, the safety and welfare of the parts of which it\n",
    "is composed, the fate of an empire in many respects the most interesting\n",
    "in the world. It has been frequently remarked that it seems to have been\n",
    "reserved to the people of this country, by their conduct and example,\n",
    "to decide the important question, whether societies of men are really\n",
    "capable or not of establishing good government from reflection and\n",
    "choice, or whether they are forever destined to depend for their\n",
    "political constitutions on accident and force. If there be any truth\n",
    "in the remark, the crisis at which we are arrived may with propriety be\n",
    "regarded as the era in which that decision is to be made; and a wrong\n",
    "election of the part we shall act may, in this view, deserve to be\n",
    "considered as the general misfortune of mankind.\n",
    "\n",
    "This idea will add the inducements of philanthropy to those of\n",
    "patriotism, to heighten the solicitude which all considerate and good\n",
    "men must feel for the event. Happy will it be if our choice should be\n",
    "directed by a judicious estimate of our true interests, unperplexed and\n",
    "unbiased by considerations not connected with the public good. But this\n",
    "is a thing more ardently to be wished than seriously to be expected. The\n",
    "plan offered to our deliberations affects too many particular interests,\n",
    "innovates upon too many local institutions, not to involve in its\n",
    "discussion a variety of objects foreign to its merits, and of views,\n",
    "passions and prejudices little favorable to the discovery of truth.\n",
    "\n",
    "Among the most formidable of the obstacles which the new Constitution\n",
    "will have to encounter may readily be distinguished the obvious interest\n",
    "of a certain class of men in every State to resist all changes which\n",
    "may hazard a diminution of the power, emolument, and consequence of\n",
    "the offices they hold under the State establishments; and the perverted\n",
    "ambition of another class of men, who will either hope to aggrandize\n",
    "themselves by the confusions of their country, or will flatter\n",
    "themselves with fairer prospects of elevation from the subdivision of\n",
    "the empire into several partial confederacies than from its union under\n",
    "one government.\n",
    "\"\"\"\n",
    "\n",
    "doc = nlp(text)"
   ],
   "metadata": {
    "collapsed": false,
    "ExecuteTime": {
     "start_time": "2023-04-02T19:40:57.357692Z",
     "end_time": "2023-04-02T19:40:58.153295Z"
    }
   }
  },
  {
   "cell_type": "code",
   "execution_count": 44,
   "outputs": [
    {
     "data": {
      "text/plain": "'themselves with fairer prospects of elevation from the subdivision of\\nthe empire into several partial confederacies than from its union under\\none government.\\n'"
     },
     "execution_count": 44,
     "metadata": {},
     "output_type": "execute_result"
    }
   ],
   "source": [
    "str(sent.sent)"
   ],
   "metadata": {
    "collapsed": false,
    "ExecuteTime": {
     "start_time": "2023-04-02T21:46:03.117216Z",
     "end_time": "2023-04-02T21:46:03.120576Z"
    }
   }
  },
  {
   "cell_type": "code",
   "execution_count": 38,
   "outputs": [
    {
     "data": {
      "text/plain": "['_',\n '__bytes__',\n '__class__',\n '__delattr__',\n '__dir__',\n '__doc__',\n '__eq__',\n '__format__',\n '__ge__',\n '__getattribute__',\n '__gt__',\n '__hash__',\n '__init__',\n '__init_subclass__',\n '__le__',\n '__len__',\n '__lt__',\n '__ne__',\n '__new__',\n '__pyx_vtable__',\n '__reduce__',\n '__reduce_ex__',\n '__repr__',\n '__setattr__',\n '__sizeof__',\n '__str__',\n '__subclasshook__',\n '__unicode__',\n 'ancestors',\n 'check_flag',\n 'children',\n 'cluster',\n 'conjuncts',\n 'dep',\n 'dep_',\n 'doc',\n 'ent_id',\n 'ent_id_',\n 'ent_iob',\n 'ent_iob_',\n 'ent_kb_id',\n 'ent_kb_id_',\n 'ent_type',\n 'ent_type_',\n 'get_extension',\n 'has_extension',\n 'has_vector',\n 'head',\n 'i',\n 'idx',\n 'is_alpha',\n 'is_ancestor',\n 'is_ascii',\n 'is_bracket',\n 'is_currency',\n 'is_digit',\n 'is_left_punct',\n 'is_lower',\n 'is_oov',\n 'is_punct',\n 'is_quote',\n 'is_right_punct',\n 'is_sent_start',\n 'is_space',\n 'is_stop',\n 'is_title',\n 'is_upper',\n 'lang',\n 'lang_',\n 'left_edge',\n 'lefts',\n 'lemma',\n 'lemma_',\n 'lex_id',\n 'like_email',\n 'like_num',\n 'like_url',\n 'lower',\n 'lower_',\n 'morph',\n 'n_lefts',\n 'n_rights',\n 'nbor',\n 'norm',\n 'norm_',\n 'orth',\n 'orth_',\n 'pos',\n 'pos_',\n 'prefix',\n 'prefix_',\n 'prob',\n 'rank',\n 'remove_extension',\n 'right_edge',\n 'rights',\n 'sent',\n 'sent_start',\n 'sentiment',\n 'set_extension',\n 'shape',\n 'shape_',\n 'similarity',\n 'string',\n 'subtree',\n 'suffix',\n 'suffix_',\n 'tag',\n 'tag_',\n 'tensor',\n 'text',\n 'text_with_ws',\n 'vector',\n 'vector_norm',\n 'vocab',\n 'whitespace_']"
     },
     "execution_count": 38,
     "metadata": {},
     "output_type": "execute_result"
    }
   ],
   "source": [
    "dir(sent)"
   ],
   "metadata": {
    "collapsed": false,
    "ExecuteTime": {
     "start_time": "2023-04-02T21:44:21.423303Z",
     "end_time": "2023-04-02T21:44:21.429859Z"
    }
   }
  },
  {
   "cell_type": "code",
   "execution_count": 36,
   "outputs": [
    {
     "name": "stdout",
     "output_type": "stream",
     "text": [
      "\n",
      "\n",
      "AFTER\n",
      "an\n",
      "unequivocal\n",
      "experience\n",
      "of\n",
      "the\n",
      "inefficacy\n",
      "of\n",
      "the\n",
      "subsisting\n",
      "\n",
      "\n",
      "federal\n",
      "government\n",
      ",\n",
      "you\n",
      "are\n",
      "called\n",
      "upon\n",
      "to\n",
      "deliberate\n",
      "on\n",
      "a\n",
      "new\n",
      "\n",
      "\n",
      "Constitution\n",
      "for\n",
      "the\n",
      "United\n",
      "States\n",
      "of\n",
      "America\n",
      ".\n",
      "The\n",
      "subject\n",
      "speaks\n",
      "its\n",
      "\n",
      "\n",
      "own\n",
      "importance\n",
      ";\n",
      "comprehending\n",
      "in\n",
      "its\n",
      "consequences\n",
      "nothing\n",
      "less\n",
      "than\n",
      "the\n",
      "\n",
      "\n",
      "existence\n",
      "of\n",
      "the\n",
      "UNION\n",
      ",\n",
      "the\n",
      "safety\n",
      "and\n",
      "welfare\n",
      "of\n",
      "the\n",
      "parts\n",
      "of\n",
      "which\n",
      "it\n",
      "\n",
      "\n",
      "is\n",
      "composed\n",
      ",\n",
      "the\n",
      "fate\n",
      "of\n",
      "an\n",
      "empire\n",
      "in\n",
      "many\n",
      "respects\n",
      "the\n",
      "most\n",
      "interesting\n",
      "\n",
      "\n",
      "in\n",
      "the\n",
      "world\n",
      ".\n",
      "It\n",
      "has\n",
      "been\n",
      "frequently\n",
      "remarked\n",
      "that\n",
      "it\n",
      "seems\n",
      "to\n",
      "have\n",
      "been\n",
      "\n",
      "\n",
      "reserved\n",
      "to\n",
      "the\n",
      "people\n",
      "of\n",
      "this\n",
      "country\n",
      ",\n",
      "by\n",
      "their\n",
      "conduct\n",
      "and\n",
      "example\n",
      ",\n",
      "\n",
      "\n",
      "to\n",
      "decide\n",
      "the\n",
      "important\n",
      "question\n",
      ",\n",
      "whether\n",
      "societies\n",
      "of\n",
      "men\n",
      "are\n",
      "really\n",
      "\n",
      "\n",
      "capable\n",
      "or\n",
      "not\n",
      "of\n",
      "establishing\n",
      "good\n",
      "government\n",
      "from\n",
      "reflection\n",
      "and\n",
      "\n",
      "\n",
      "choice\n",
      ",\n",
      "or\n",
      "whether\n",
      "they\n",
      "are\n",
      "forever\n",
      "destined\n",
      "to\n",
      "depend\n",
      "for\n",
      "their\n",
      "\n",
      "\n",
      "political\n",
      "constitutions\n",
      "on\n",
      "accident\n",
      "and\n",
      "force\n",
      ".\n",
      "If\n",
      "there\n",
      "be\n",
      "any\n",
      "truth\n",
      "\n",
      "\n",
      "in\n",
      "the\n",
      "remark\n",
      ",\n",
      "the\n",
      "crisis\n",
      "at\n",
      "which\n",
      "we\n",
      "are\n",
      "arrived\n",
      "may\n",
      "with\n",
      "propriety\n",
      "be\n",
      "\n",
      "\n",
      "regarded\n",
      "as\n",
      "the\n",
      "era\n",
      "in\n",
      "which\n",
      "that\n",
      "decision\n",
      "is\n",
      "to\n",
      "be\n",
      "made\n",
      ";\n",
      "and\n",
      "a\n",
      "wrong\n",
      "\n",
      "\n",
      "election\n",
      "of\n",
      "the\n",
      "part\n",
      "we\n",
      "shall\n",
      "act\n",
      "may\n",
      ",\n",
      "in\n",
      "this\n",
      "view\n",
      ",\n",
      "deserve\n",
      "to\n",
      "be\n",
      "\n",
      "\n",
      "considered\n",
      "as\n",
      "the\n",
      "general\n",
      "misfortune\n",
      "of\n",
      "mankind\n",
      ".\n",
      "\n",
      "\n",
      "\n",
      "This\n",
      "idea\n",
      "will\n",
      "add\n",
      "the\n",
      "inducements\n",
      "of\n",
      "philanthropy\n",
      "to\n",
      "those\n",
      "of\n",
      "\n",
      "\n",
      "patriotism\n",
      ",\n",
      "to\n",
      "heighten\n",
      "the\n",
      "solicitude\n",
      "which\n",
      "all\n",
      "considerate\n",
      "and\n",
      "good\n",
      "\n",
      "\n",
      "men\n",
      "must\n",
      "feel\n",
      "for\n",
      "the\n",
      "event\n",
      ".\n",
      "Happy\n",
      "will\n",
      "it\n",
      "be\n",
      "if\n",
      "our\n",
      "choice\n",
      "should\n",
      "be\n",
      "\n",
      "\n",
      "directed\n",
      "by\n",
      "a\n",
      "judicious\n",
      "estimate\n",
      "of\n",
      "our\n",
      "true\n",
      "interests\n",
      ",\n",
      "unperplexed\n",
      "and\n",
      "\n",
      "\n",
      "unbiased\n",
      "by\n",
      "considerations\n",
      "not\n",
      "connected\n",
      "with\n",
      "the\n",
      "public\n",
      "good\n",
      ".\n",
      "But\n",
      "this\n",
      "\n",
      "\n",
      "is\n",
      "a\n",
      "thing\n",
      "more\n",
      "ardently\n",
      "to\n",
      "be\n",
      "wished\n",
      "than\n",
      "seriously\n",
      "to\n",
      "be\n",
      "expected\n",
      ".\n",
      "The\n",
      "\n",
      "\n",
      "plan\n",
      "offered\n",
      "to\n",
      "our\n",
      "deliberations\n",
      "affects\n",
      "too\n",
      "many\n",
      "particular\n",
      "interests\n",
      ",\n",
      "\n",
      "\n",
      "innovates\n",
      "upon\n",
      "too\n",
      "many\n",
      "local\n",
      "institutions\n",
      ",\n",
      "not\n",
      "to\n",
      "involve\n",
      "in\n",
      "its\n",
      "\n",
      "\n",
      "discussion\n",
      "a\n",
      "variety\n",
      "of\n",
      "objects\n",
      "foreign\n",
      "to\n",
      "its\n",
      "merits\n",
      ",\n",
      "and\n",
      "of\n",
      "views\n",
      ",\n",
      "\n",
      "\n",
      "passions\n",
      "and\n",
      "prejudices\n",
      "little\n",
      "favorable\n",
      "to\n",
      "the\n",
      "discovery\n",
      "of\n",
      "truth\n",
      ".\n",
      "\n",
      "\n",
      "\n",
      "Among\n",
      "the\n",
      "most\n",
      "formidable\n",
      "of\n",
      "the\n",
      "obstacles\n",
      "which\n",
      "the\n",
      "new\n",
      "Constitution\n",
      "\n",
      "\n",
      "will\n",
      "have\n",
      "to\n",
      "encounter\n",
      "may\n",
      "readily\n",
      "be\n",
      "distinguished\n",
      "the\n",
      "obvious\n",
      "interest\n",
      "\n",
      "\n",
      "of\n",
      "a\n",
      "certain\n",
      "class\n",
      "of\n",
      "men\n",
      "in\n",
      "every\n",
      "State\n",
      "to\n",
      "resist\n",
      "all\n",
      "changes\n",
      "which\n",
      "\n",
      "\n",
      "may\n",
      "hazard\n",
      "a\n",
      "diminution\n",
      "of\n",
      "the\n",
      "power\n",
      ",\n",
      "emolument\n",
      ",\n",
      "and\n",
      "consequence\n",
      "of\n",
      "\n",
      "\n",
      "the\n",
      "offices\n",
      "they\n",
      "hold\n",
      "under\n",
      "the\n",
      "State\n",
      "establishments\n",
      ";\n",
      "and\n",
      "the\n",
      "perverted\n",
      "\n",
      "\n",
      "ambition\n",
      "of\n",
      "another\n",
      "class\n",
      "of\n",
      "men\n",
      ",\n",
      "who\n",
      "will\n",
      "either\n",
      "hope\n",
      "to\n",
      "aggrandize\n",
      "\n",
      "\n",
      "themselves\n",
      "by\n",
      "the\n",
      "confusions\n",
      "of\n",
      "their\n",
      "country\n",
      ",\n",
      "or\n",
      "will\n",
      "flatter\n",
      "\n",
      "\n",
      "themselves\n",
      "with\n",
      "fairer\n",
      "prospects\n",
      "of\n",
      "elevation\n",
      "from\n",
      "the\n",
      "subdivision\n",
      "of\n",
      "\n",
      "\n",
      "the\n",
      "empire\n",
      "into\n",
      "several\n",
      "partial\n",
      "confederacies\n",
      "than\n",
      "from\n",
      "its\n",
      "union\n",
      "under\n",
      "\n",
      "\n",
      "one\n",
      "government\n",
      ".\n",
      "\n",
      "\n"
     ]
    }
   ],
   "source": [
    "for sent in doc:\n",
    "    print(sent)"
   ],
   "metadata": {
    "collapsed": false,
    "ExecuteTime": {
     "start_time": "2023-04-02T21:44:03.006081Z",
     "end_time": "2023-04-02T21:44:03.021702Z"
    }
   }
  },
  {
   "cell_type": "code",
   "execution_count": 30,
   "outputs": [
    {
     "data": {
      "text/plain": "['_',\n '__class__',\n '__delattr__',\n '__dir__',\n '__doc__',\n '__eq__',\n '__format__',\n '__ge__',\n '__getattribute__',\n '__getitem__',\n '__gt__',\n '__hash__',\n '__init__',\n '__init_subclass__',\n '__iter__',\n '__le__',\n '__len__',\n '__lt__',\n '__ne__',\n '__new__',\n '__pyx_vtable__',\n '__reduce__',\n '__reduce_ex__',\n '__repr__',\n '__setattr__',\n '__sizeof__',\n '__str__',\n '__subclasshook__',\n '_fix_dep_copy',\n '_recalculate_indices',\n '_vector',\n '_vector_norm',\n 'as_doc',\n 'char_span',\n 'conjuncts',\n 'doc',\n 'end',\n 'end_char',\n 'ent_id',\n 'ent_id_',\n 'ents',\n 'get_extension',\n 'get_lca_matrix',\n 'has_extension',\n 'has_vector',\n 'kb_id',\n 'kb_id_',\n 'label',\n 'label_',\n 'lefts',\n 'lemma_',\n 'lower_',\n 'merge',\n 'n_lefts',\n 'n_rights',\n 'noun_chunks',\n 'orth_',\n 'remove_extension',\n 'rights',\n 'root',\n 'sent',\n 'sentiment',\n 'set_extension',\n 'similarity',\n 'start',\n 'start_char',\n 'string',\n 'subtree',\n 'tensor',\n 'text',\n 'text_with_ws',\n 'to_array',\n 'upper_',\n 'vector',\n 'vector_norm',\n 'vocab']"
     },
     "execution_count": 30,
     "metadata": {},
     "output_type": "execute_result"
    }
   ],
   "source": [
    "dir(d)"
   ],
   "metadata": {
    "collapsed": false,
    "ExecuteTime": {
     "start_time": "2023-04-02T19:39:47.417790Z",
     "end_time": "2023-04-02T19:39:47.426722Z"
    }
   }
  },
  {
   "cell_type": "code",
   "execution_count": 27,
   "outputs": [
    {
     "name": "stdout",
     "output_type": "stream",
     "text": [
      "\n",
      "AFTER an unequivocal experience of the inefficacy of the subsisting\n",
      "federal government, you are called upon to deliberate on a new\n",
      "Constitution for the United States of America.\n",
      "+\n",
      "length =  33\n",
      "The subject speaks its\n",
      "own importance; comprehending in its consequences nothing less than the\n",
      "existence of the UNION, the safety and welfare of the parts of which it\n",
      "is composed, the fate of an empire in many respects the most interesting\n",
      "in the world.\n",
      "+\n",
      "length =  52\n",
      "It has been frequently remarked that it seems to have been\n",
      "reserved to the people of this country, by their conduct and example,\n",
      "to decide the important question, whether societies of men are really\n",
      "capable or not of establishing good government from reflection and\n",
      "choice, or whether they are forever destined to depend for their\n",
      "political constitutions on accident and force.\n",
      "+\n",
      "length =  71\n",
      "If there be any truth\n",
      "in the remark, the crisis at which we are arrived may with propriety be\n",
      "regarded as the era in which that decision is to be made; and a wrong\n",
      "election of the part we shall act may, in this view, deserve to be\n",
      "considered as the general misfortune of mankind.\n",
      "\n",
      "+\n",
      "length =  65\n"
     ]
    }
   ],
   "source": [
    "for d in doc.sents:\n",
    "    print(d)\n",
    "    print('+')\n",
    "    print('length = ', len(d))"
   ],
   "metadata": {
    "collapsed": false,
    "ExecuteTime": {
     "start_time": "2023-04-02T19:37:57.913209Z",
     "end_time": "2023-04-02T19:37:57.915787Z"
    }
   }
  },
  {
   "cell_type": "code",
   "execution_count": 5,
   "outputs": [],
   "source": [
    "for w in .sents:\n",
    "    print(w)\n",
    "text = \"\"\"Finally, educating nursing students about academic integrity and the value of gaining knowledge and skills from focused in-depth reading, critical thinking, and scientific writing is of upmost importance as these can be applied in professional practice throughout a nurse’s career to improve patient care and the delivery of health services.\"\"\"\n"
   ],
   "metadata": {
    "collapsed": false,
    "ExecuteTime": {
     "start_time": "2023-04-02T19:17:31.417790Z",
     "end_time": "2023-04-02T19:17:31.420468Z"
    }
   }
  },
  {
   "cell_type": "code",
   "execution_count": null,
   "outputs": [],
   "source": [],
   "metadata": {
    "collapsed": false
   }
  },
  {
   "cell_type": "markdown",
   "id": "e2979e56",
   "metadata": {},
   "source": [
    "# Process\n",
    "\n",
    "\n",
    "### At Training\n",
    " - Decide on a model + context (or a proxy model)\n",
    " - Get data generated by the model with the relevant context\n",
    " - Evaluate log-perplexity of the data wrt to the model and the context\n",
    " - Interpolate to get an estimated survival function\n",
    " \n",
    "### At inference:\n",
    " - Classifier: model, survival function, log-perplixity function (matched context policy)\n",
    " - Input: test text\n",
    " - Outputs: HC score, Fisher score, sentences\n",
    " - Reject if HC score or Fisher are large."
   ]
  },
  {
   "cell_type": "markdown",
   "id": "8e6dc5b0",
   "metadata": {},
   "source": [
    "### What can we say:\n",
    "- Test whether a document was written by a model against an alternative: \"some edits\"\n",
    "- If we detect some edits, indicate which ones are they likely to be. We can then examine the text and apply the detecotr to larger chunks (e.g., to verify that the non-selected parts were indeed AI-generated). \n",
    "- Determine maximal number of edits so that the text is indetectable from \"AI model generated\"\n",
    "- Determine minimal number of edits needed so that the text cannot be reliably labaled as \"entirely AI-generated\" (becasue there exists)\n",
    "- Determine the number of sentences needed to distinguish between AI-generated and AI-generated with some edits. \n"
   ]
  },
  {
   "cell_type": "markdown",
   "source": [
    "# Logloss"
   ],
   "metadata": {
    "collapsed": false
   }
  },
  {
   "cell_type": "code",
   "execution_count": 3,
   "outputs": [],
   "source": [],
   "metadata": {
    "collapsed": false,
    "ExecuteTime": {
     "start_time": "2023-04-02T18:14:58.294189Z",
     "end_time": "2023-04-02T18:14:58.296065Z"
    }
   }
  },
  {
   "cell_type": "code",
   "execution_count": 3,
   "outputs": [],
   "source": [],
   "metadata": {
    "collapsed": false,
    "ExecuteTime": {
     "start_time": "2023-04-02T18:14:58.622855Z",
     "end_time": "2023-04-02T18:14:58.632246Z"
    }
   }
  },
  {
   "cell_type": "code",
   "execution_count": null,
   "outputs": [],
   "source": [
    "import torch\n",
    "from transformers import AutoTokenizer, AutoModelForCausalLM\n",
    "from text_detect import PerplexityEvaluator"
   ],
   "metadata": {
    "collapsed": false,
    "pycharm": {
     "is_executing": true
    }
   }
  },
  {
   "cell_type": "code",
   "execution_count": 1,
   "outputs": [],
   "source": [
    "lm_name = \"gpt2\"\n",
    "tokenizer = AutoTokenizer.from_pretrained(lm_name)\n",
    "model = AutoModelForCausalLM.from_pretrained(lm_name)\n",
    "\n",
    "device = 'mps' if torch.backends.mps.is_available() else 'cpu'\n",
    "model.to(device)\n",
    "\n",
    "sentence_detector = PerplexityEvaluator(model, tokenizer)"
   ],
   "metadata": {
    "collapsed": false
   }
  },
  {
   "cell_type": "code",
   "execution_count": null,
   "outputs": [],
   "source": [
    "text = \"\"\"Finally, educating nursing students about academic integrity and the value of gaining knowledge and skills from focused in-depth reading, critical thinking, and scientific writing is of upmost importance as these can be applied in professional practice throughout a nurse’s career to improve patient care and the delivery of health services.\"\"\"\n",
    "\n"
   ],
   "metadata": {
    "collapsed": false
   }
  },
  {
   "cell_type": "markdown",
   "id": "a10fe6e4",
   "metadata": {},
   "source": [
    "# Analyze Data"
   ]
  },
  {
   "cell_type": "code",
   "execution_count": 10,
   "id": "f4f1c8f3",
   "metadata": {},
   "outputs": [],
   "source": [
    "data = pd.read_csv(\"~/Google Drive/Data/gpt_wiki.csv\")[['gpt', 'wiki']]"
   ]
  },
  {
   "cell_type": "code",
   "execution_count": 4,
   "id": "b778a47f",
   "metadata": {},
   "outputs": [],
   "source": [
    "data_gpt = pd.read_csv(\"results/gpt_sent_perp_0.csv\")"
   ]
  },
  {
   "cell_type": "code",
   "execution_count": 6,
   "id": "7cee4cba",
   "metadata": {
    "ExecuteTime": {
     "start_time": "2023-04-02T12:17:06.558896Z",
     "end_time": "2023-04-02T12:17:06.573389Z"
    }
   },
   "outputs": [],
   "source": [
    "from glob import glob\n",
    "\n",
    "def read_all_csv_files(pattern):\n",
    "    df = pd.DataFrame()\n",
    "    for f in glob(pattern):\n",
    "        df = pd.concat([df, pd.read_csv(f)])\n",
    "    return df"
   ]
  },
  {
   "cell_type": "code",
   "execution_count": 7,
   "id": "e265ae41",
   "metadata": {
    "ExecuteTime": {
     "start_time": "2023-04-02T12:17:06.843923Z",
     "end_time": "2023-04-02T12:17:09.443534Z"
    }
   },
   "outputs": [
    {
     "name": "stdout",
     "output_type": "stream",
     "text": [
      "(474514, 5)\n",
      "(654773, 5)\n"
     ]
    }
   ],
   "source": [
    "data_wiki = read_all_csv_files(\"results/wiki_sent_perp_*.csv\")\n",
    "data_gpt = read_all_csv_files(\"results/gpt_sent_perp_*.csv\")\n",
    "print(data_wiki.shape)\n",
    "print(data_gpt.shape)"
   ]
  },
  {
   "cell_type": "code",
   "execution_count": 8,
   "id": "42e0f06f",
   "metadata": {
    "ExecuteTime": {
     "start_time": "2023-04-02T12:17:13.672097Z",
     "end_time": "2023-04-02T12:17:13.696237Z"
    }
   },
   "outputs": [],
   "source": [
    "data_wiki['author'] = 'wiki'\n",
    "data_gpt['author'] = 'gpt'"
   ]
  },
  {
   "cell_type": "code",
   "execution_count": 9,
   "id": "7d1ea721",
   "metadata": {
    "ExecuteTime": {
     "start_time": "2023-04-02T12:17:14.997192Z",
     "end_time": "2023-04-02T12:17:15.176636Z"
    }
   },
   "outputs": [],
   "source": [
    "datam = pd.concat([data_gpt, data_wiki])"
   ]
  },
  {
   "cell_type": "code",
   "execution_count": 10,
   "id": "d7b86ce7",
   "metadata": {
    "ExecuteTime": {
     "start_time": "2023-04-02T12:17:16.452009Z",
     "end_time": "2023-04-02T12:17:18.150197Z"
    }
   },
   "outputs": [],
   "source": [
    "import matplotlib.pyplot as plt\n",
    "from sklearn.metrics import roc_curve, RocCurveDisplay\n",
    "fpr, tpr, thresholds = roc_curve(y_true=datam.author, y_score=datam.logloss, pos_label='wiki')"
   ]
  },
  {
   "cell_type": "code",
   "execution_count": 125,
   "id": "b505d775",
   "metadata": {},
   "outputs": [
    {
     "data": {
      "image/png": "[encoded data removed]",
      "text/plain": [
       "<Figure size 720x720 with 1 Axes>"
      ]
     },
     "metadata": {
      "needs_background": "light"
     },
     "output_type": "display_data"
    }
   ],
   "source": [
    "display = RocCurveDisplay(fpr=fpr, tpr=tpr)\n",
    "display.plot(label='logloss')\n",
    "plt.plot([0, 1], [0, 1], \"k\", alpha=.25)\n",
    "plt.axis(\"square\")\n",
    "plt.xlabel(\"False Positive Rate\", fontsize=18)\n",
    "plt.ylabel(\"True Positive Rate\", fontsize=18)\n",
    "plt.xticks(fontsize=16); plt.yticks(fontsize=16)\n",
    "fig = plt.gcf()\n",
    "fig.set_size_inches(10, 10, forward=True)\n",
    "plt.legend([],fontsize=16)\n",
    "plt.title(\"sentence perplexity detector\")\n",
    "plt.savefig(\"ROC_sentences.png\")\n",
    "plt.show()"
   ]
  },
  {
   "cell_type": "code",
   "execution_count": 139,
   "id": "bff47032",
   "metadata": {},
   "outputs": [
    {
     "data": {
      "text/html": [
       "<div>\n",
       "<style scoped>\n",
       "    .dataframe tbody tr th:only-of-type {\n",
       "        vertical-align: middle;\n",
       "    }\n",
       "\n",
       "    .dataframe tbody tr th {\n",
       "        vertical-align: top;\n",
       "    }\n",
       "\n",
       "    .dataframe thead th {\n",
       "        text-align: right;\n",
       "    }\n",
       "</style>\n",
       "<table border=\"1\" class=\"dataframe\">\n",
       "  <thead>\n",
       "    <tr style=\"text-align: right;\">\n",
       "      <th></th>\n",
       "      <th>mean</th>\n",
       "      <th>median</th>\n",
       "      <th>std</th>\n",
       "      <th>skew</th>\n",
       "      <th>&lt;lambda_0&gt;</th>\n",
       "    </tr>\n",
       "    <tr>\n",
       "      <th>author</th>\n",
       "      <th></th>\n",
       "      <th></th>\n",
       "      <th></th>\n",
       "      <th></th>\n",
       "      <th></th>\n",
       "    </tr>\n",
       "  </thead>\n",
       "  <tbody>\n",
       "    <tr>\n",
       "      <th>gpt</th>\n",
       "      <td>3.530244</td>\n",
       "      <td>3.452712</td>\n",
       "      <td>0.758076</td>\n",
       "      <td>0.69616</td>\n",
       "      <td>1.202960</td>\n",
       "    </tr>\n",
       "    <tr>\n",
       "      <th>wiki</th>\n",
       "      <td>4.257753</td>\n",
       "      <td>4.191270</td>\n",
       "      <td>0.856725</td>\n",
       "      <td>0.60649</td>\n",
       "      <td>1.218302</td>\n",
       "    </tr>\n",
       "  </tbody>\n",
       "</table>\n",
       "</div>"
      ],
      "text/plain": [
       "            mean    median       std     skew  <lambda_0>\n",
       "author                                                   \n",
       "gpt     3.530244  3.452712  0.758076  0.69616    1.202960\n",
       "wiki    4.257753  4.191270  0.856725  0.60649    1.218302"
      ]
     },
     "execution_count": 139,
     "metadata": {},
     "output_type": "execute_result"
    }
   ],
   "source": [
    "kurt = lambda x : scipy.stats.kurtosis(x)\n",
    "agg_stats = datam.groupby('author').logloss.agg(['mean','median', 'std', 'skew', kurt])\n",
    "agg_stats"
   ]
  },
  {
   "cell_type": "code",
   "execution_count": 127,
   "id": "f68eeca1",
   "metadata": {},
   "outputs": [
    {
     "data": {
      "image/png": "[encoded data removed]",
      "text/plain": [
       "<Figure size 576x360 with 1 Axes>"
      ]
     },
     "metadata": {
      "needs_background": "light"
     },
     "output_type": "display_data"
    }
   ],
   "source": [
    "from scipy.stats import norm\n",
    "tt = np.linspace(0,10,100)\n",
    "datam.groupby('author').logloss.plot.hist(bins = tt, density=True)\n",
    "plt.plot(tt, norm.pdf(tt, loc=agg_stats.loc['gpt','mean'], scale=agg_stats.loc['gpt','std']), 'r', alpha=0.5)\n",
    "plt.plot(tt, norm.pdf(tt, loc=agg_stats.loc['wiki','mean'], scale=agg_stats.loc['wiki','std']), 'b',  alpha=0.5)\n",
    "plt.show()"
   ]
  },
  {
   "cell_type": "markdown",
   "id": "86a5a1fd",
   "metadata": {},
   "source": [
    "## Under noraml approximation:\n",
    "$$\n",
    "Z_1 \\sim N(\\mu_1, \\sigma^2),\\quad Z_2 \\sim N(\\mu_2, \\sigma^2)\n",
    "$$\n",
    "$$\n",
    "Z = \\frac{Z_1 - Z_2}{\\sqrt{2}\\sigma} \\sim N(\\mu_1 - \\mu_2 , 1) \n",
    "$$\n"
   ]
  },
  {
   "cell_type": "code",
   "execution_count": 109,
   "id": "f50b1570",
   "metadata": {},
   "outputs": [
    {
     "data": {
      "text/plain": [
       "0.63722705594959"
      ]
     },
     "execution_count": 109,
     "metadata": {},
     "output_type": "execute_result"
    }
   ],
   "source": [
    "m1, m2 = datam.groupby('author').logloss.mean()\n",
    "s1, s2 = datam.groupby('author').logloss.std()\n",
    "s = (s1 + s2) / 2\n",
    "m = (m2 - m1) / s / np.sqrt(2)\n",
    "m"
   ]
  },
  {
   "cell_type": "code",
   "execution_count": 40,
   "id": "c9f336cf",
   "metadata": {},
   "outputs": [
    {
     "name": "stdout",
     "output_type": "stream",
     "text": [
      "~ num of edits needed:  99.98139079989893\n"
     ]
    }
   ],
   "source": [
    "n = 10000\n",
    "r = m**2 / 2 / n\n",
    "\n",
    "def rho_inv(r):\n",
    "    if r > 1: return np.nan\n",
    "    return (r + 1/2) * (r < .25) + (1 - (1 - np.sqrt(r))**2) * (r >= 0.25) \n",
    "\n",
    "beta = rho_inv(r)\n",
    "k = n ** (1-beta)\n",
    "print(\"~ num of edits needed: \", k)"
   ]
  },
  {
   "cell_type": "code",
   "execution_count": 46,
   "id": "4f44fa25",
   "metadata": {},
   "outputs": [],
   "source": [
    "def fit_pval_func(xx, G = 501):\n",
    "    qq = np.linspace(0, 1, G)\n",
    "    yy = [np.quantile(xx, q) for q in qq]\n",
    "    return interp1d(yy, 1-qq, fill_value = (1,0), bounds_error=False)"
   ]
  },
  {
   "cell_type": "code",
   "execution_count": 62,
   "id": "959f7fbe",
   "metadata": {},
   "outputs": [],
   "source": [
    "pval_func = {}\n",
    "for c in data_gpt.groupby(['length']):\n",
    "    pval_func[c[0]] = fit_pval_func(c[1].logloss)"
   ]
  },
  {
   "cell_type": "code",
   "execution_count": 39,
   "id": "593d3cb0",
   "metadata": {},
   "outputs": [],
   "source": [
    "def pval_per_sentence(texts, model, tokenizer, pval_func):\n",
    "    pvals = []\n",
    "    for text in texts:\n",
    "        x = logloss(model, tokenizer, text)\n",
    "        pval = pval_func()\n",
    "        pvals.append(pval) \n",
    "    return pvals"
   ]
  },
  {
   "cell_type": "code",
   "execution_count": 77,
   "id": "fb43335a",
   "metadata": {},
   "outputs": [
    {
     "data": {
      "image/png": "[encoded data removed]",
      "text/plain": [
       "<Figure size 576x360 with 1 Axes>"
      ]
     },
     "metadata": {
      "needs_background": "light"
     },
     "output_type": "display_data"
    }
   ],
   "source": [
    "def plot_perp_vs_len(data, min_len=5, max_len=40):\n",
    "    df_grouped = (\n",
    "        data[['length', 'logloss']][(data['length'] >= min_len) \n",
    "                                        & (data['length'] <= max_len)\n",
    "                                       ].groupby(['length']).agg(['mean', 'std', 'count'])\n",
    "    )\n",
    "    df_grouped = df_grouped.droplevel(axis=1, level=0).reset_index()\n",
    "    # Calculate a confidence interval as well.\n",
    "    df_grouped['ci'] = 1.96 * df_grouped['std'] / np.sqrt(df_grouped['count'])\n",
    "    df_grouped['ci_lower'] = df_grouped['mean'] - df_grouped['ci']\n",
    "    df_grouped['ci_upper'] = df_grouped['mean'] + df_grouped['ci']\n",
    "    df_grouped.head()\n",
    "\n",
    "\n",
    "    fig, ax = plt.subplots()\n",
    "    x = df_grouped['length']\n",
    "    ax.plot(x, df_grouped['mean'])\n",
    "    ax.fill_between(\n",
    "        x, df_grouped['ci_lower'], df_grouped['ci_upper'], color='b', alpha=.15)\n",
    "    ax.set_ylim(ymin=0)\n",
    "    ax.set_title('log perplexity vs. length')\n",
    "    ax.set_xlabel(\"Sentence Length [tokens]\")\n",
    "    ax.set_ylabel(\"Log Perplexity [nats]\")\n",
    "    ax.set_ylim((2,4))\n",
    "    plt.rcParams[\"figure.figsize\"] = (8,5)\n",
    "    \n",
    "\n",
    "plot_perp_vs_len(data_gpt, min_len=5, max_len=40)\n",
    "plt.savefig(\"logperp_vs_len_gpt.png\")\n",
    "plt.show()"
   ]
  },
  {
   "cell_type": "code",
   "execution_count": 90,
   "id": "c9d023b6",
   "metadata": {},
   "outputs": [
    {
     "data": {
      "text/plain": [
       "length\n",
       "5     Axes(0.125,0.125;0.775x0.755)\n",
       "10    Axes(0.125,0.125;0.775x0.755)\n",
       "20    Axes(0.125,0.125;0.775x0.755)\n",
       "Name: logloss, dtype: object"
      ]
     },
     "execution_count": 90,
     "metadata": {},
     "output_type": "execute_result"
    },
    {
     "data": {
      "image/png": "[encoded data removed]",
      "text/plain": [
       "<Figure size 576x360 with 1 Axes>"
      ]
     },
     "metadata": {
      "needs_background": "light"
     },
     "output_type": "display_data"
    }
   ],
   "source": [
    "data_gpt[data_gpt.length.isin([5, 10, 20])].groupby('length').logloss.hist(bins=np.linspace(0,8,101))"
   ]
  },
  {
   "cell_type": "code",
   "execution_count": null,
   "id": "e11b4ebc",
   "metadata": {},
   "outputs": [],
   "source": []
  }
 ],
 "metadata": {
  "kernelspec": {
   "display_name": "Python 3",
   "language": "python",
   "name": "python3"
  },
  "language_info": {
   "codemirror_mode": {
    "name": "ipython",
    "version": 3
   },
   "file_extension": ".py",
   "mimetype": "text/x-python",
   "name": "python",
   "nbconvert_exporter": "python",
   "pygments_lexer": "ipython3",
   "version": "3.8.5"
  }
 },
 "nbformat": 4,
 "nbformat_minor": 5
}
