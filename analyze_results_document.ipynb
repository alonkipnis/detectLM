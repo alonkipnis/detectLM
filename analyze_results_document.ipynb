{
 "cells": [
  {
   "cell_type": "code",
   "execution_count": 60,
   "id": "9f302d2c",
   "metadata": {
    "ExecuteTime": {
     "end_time": "2023-05-15T18:33:43.398907Z",
     "start_time": "2023-05-15T18:33:43.397256Z"
    }
   },
   "outputs": [],
   "source": [
    "import numpy as np\n",
    "import scipy\n",
    "import matplotlib.pyplot as plt\n",
    "import matplotlib as mpl\n",
    "mpl.style.use('ggplot')\n",
    "%matplotlib inline\n",
    "import pandas as pd\n",
    "import numpy as np"
   ]
  },
  {
   "cell_type": "markdown",
   "id": "1a0c8a5c",
   "metadata": {},
   "source": [
    "### Print table"
   ]
  },
  {
   "cell_type": "code",
   "execution_count": 63,
   "id": "7c8cc177",
   "metadata": {},
   "outputs": [
    {
     "name": "stdout",
     "output_type": "stream",
     "text": [
      "Could not find a match to the following titles:\n",
      "14    Agatha Christie\n",
      "Name: title, dtype: object\n",
      "\\begin{tabular}{lrllrrrll}\n",
      "\\toprule\n",
      " & edit-rate & length & HC & HC-pvalue & HC (null) & HC-pvalue (null) & bonf & F1 \\\\\n",
      "title &  &  &  &  &  &  &  &  \\\\\n",
      "\\midrule\n",
      "\\texttt{Camus} & 0.17 & 71 & 1.52 & 0.13 & 0.32 & 0.82 & 0.34 & NA \\\\\n",
      "\\texttt{Kafka} & 0.21 & 64 & \\color{blue} \\textbf{1.836} & 0.04 & 0.98 & 0.42 & 0.20 & 0.29 \\\\\n",
      "\\texttt{Garcia Marquez} & 0.19 & 53 & -0.22 & 0.92 & -1.44 & 0.98 & 2.33 & NA \\\\\n",
      "\\texttt{Chekhov} & 0.10 & 65 & 1.59 & 0.10 & 1.38 & 0.19 & \\color{red} \\textbf{0.048} & NA \\\\\n",
      "\\texttt{Morrison} & 0.22 & 60 & 0.47 & 0.75 & -0.96 & 0.98 & 2.51 & NA \\\\\n",
      "\\texttt{Hesse} & 0.20 & 66 & \\color{blue} \\textbf{2.003} & 0.02 & 1.22 & 0.27 & 0.07 & 0.52 \\\\\n",
      "\\texttt{Simenon} & 0.18 & 69 & 1.28 & 0.24 & -0.06 & 0.91 & \\color{red} \\textbf{0.047} & NA \\\\\n",
      "\\texttt{Tolstoy} & 0.24 & 65 & 1.49 & 0.14 & -0.38 & 0.95 & 1.35 & NA \\\\\n",
      "\\texttt{Rice} & 0.18 & 52 & 0.95 & 0.43 & -1.18 & 0.99 & 0.06 & NA \\\\\n",
      "\\texttt{JK Rowling} & 0.27 & 60 & 1.34 & 0.19 & 0.93 & 0.44 & 2.19 & NA \\\\\n",
      "\\texttt{Mishima} & 0.21 & 56 & \\color{blue} \\textbf{2.189} & 0.01 & 0.87 & 0.49 & \\color{red} \\textbf{0.046} & 0.45 \\\\\n",
      "\\texttt{Verne} & 0.23 & 64 & -0.25 & 0.94 & -1.37 & 0.99 & 2.18 & NA \\\\\n",
      "\\texttt{Dickinson} & 0.26 & 70 & \\color{blue} \\textbf{2.874} & 0.00 & 1.10 & 0.34 & 0.06 & 0.59 \\\\\n",
      "\\texttt{Allan Po} & 0.21 & 52 & 0.50 & 0.72 & -0.56 & 0.96 & 2.25 & NA \\\\\n",
      "\\texttt{Dahl} & 0.15 & 59 & \\color{blue} \\textbf{2.198} & 0.01 & 1.56 & 0.11 & 0.05 & 0.27 \\\\\n",
      "\\bottomrule\n",
      "\\end{tabular}\n",
      "\n"
     ]
    }
   ],
   "source": [
    "import os, re, logging\n",
    "import pandas as pd\n",
    "#results_edited_filename = \"out_bio_publish.csv\"\n",
    "#results_null_filename = \"out_null_publish.csv\"\n",
    "\n",
    "results_edited_filename = \"publish_out_bio_gpt2_pre.csv\"\n",
    "results_null_filename = \"publish_out_bio_null_gpt2_pre.csv\"\n",
    "\n",
    "df = pd.read_csv(results_edited_filename)\n",
    "# get basename of the file, and extract the title of the document.\n",
    "# column 0 contains the filename, and the title is the part between the last '/' and '_edited.txt'\n",
    "basenames = df.iloc[:,0].apply(os.path.basename)\n",
    "# now extract the name of the document\n",
    "df.loc[:, 'title'] = [re.findall(r\"([A-Za-z \\(\\)]+)_edited[1-10]?\\.*\", x)[0] for x in basenames]\n",
    "#df.loc[:, 'title'] = df.iloc[:,0].str.extract(r\"/([A-Za-z \\(\\)]+)_edited[1-10]?.txt\")\n",
    "\n",
    "logging.info(f\"Loaded {len(df)} rows from {results_edited_filename}\")\n",
    "\n",
    "df0 = pd.read_csv(results_null_filename)\n",
    "\n",
    "# first extract the basename of the file:\n",
    "basenames = df0.iloc[:,0].apply(os.path.basename)\n",
    "# now extract the name of the document\n",
    "df0.loc[:, 'title'] = [re.findall(r\"([A-Za-z \\(\\)]+)\\.*\", x)[0] for x in basenames]\n",
    "\n",
    "logging.info(f\"Loaded {len(df0)} rows from {results_null_filename}\")\n",
    "\n",
    "df['F1'] = 2 * df['precision'] * df['recall'] / (df['precision'] + df['recall'])\n",
    "df['TPR'] = df['recall']\n",
    "df_disp = df.merge(df0, on = 'title', suffixes=[\"\", \" (null)\"], how='inner').filter(\n",
    "    ['title', 'length', 'HC (null)', 'HC_pvalue (null)', 'edit_rate','HC', 'HC_pvalue', 'bonf', 'F1'])\n",
    "print(\"Could not find a match to the following titles:\")\n",
    "print(df_disp[df_disp.isna().any(axis=1)]['title'])\n",
    "df_disp = df_disp.dropna()\n",
    "\n",
    "columns = ['title',  'edit_rate', 'length', 'HC', 'HC_pvalue', 'HC (null)',  'HC_pvalue (null)',  'bonf', 'F1']\n",
    "\n",
    "def round_and_bold_blue(x):\n",
    "    return f\"\\\\color{{blue}} \\\\textbf{{{np.round(x,3)}}}\"\n",
    "    \n",
    "def round_and_bold_red(x):\n",
    "    return f\"\\\\color{{red}} \\\\textbf{{{np.round(x,3)}}}\"\n",
    "    \n",
    "df_disp = df_disp.filter(columns)\n",
    "df_disp.loc[df_disp['HC_pvalue'] > 0.05, 'F1'] = \"NA\"\n",
    "df_disp.loc[:,'length'] = df_disp['length'].apply(lambda x: f\"{int(x)}\")\n",
    "df_disp.loc[:, 'title'] = df_disp['title'].apply(lambda x: f\"\\\\texttt{{{x}}}\")\n",
    "# repalce first names with initials:\n",
    "df_disp.loc[:, 'title'] = df_disp['title'].apply(lambda x: re.sub(r\"([A-Z])[a-z]+ ([A-Z][a-z]+)\", r\"\\2\", x))\n",
    "\n",
    "sig_pval = df_disp['HC_pvalue'] < 0.05\n",
    "df_disp.loc[sig_pval, 'HC'] = df_disp.loc[sig_pval, 'HC'].apply(round_and_bold_blue)\n",
    "sig_pval_null = df_disp['HC_pvalue (null)'] < 0.05\n",
    "df_disp.loc[sig_pval_null, 'HC (null)'] = df_disp.loc[sig_pval_null, 'HC (null)'].apply(round_and_bold_red)\n",
    "sig_pval_bonf = df_disp['bonf'] < 0.05\n",
    "df_disp.loc[sig_pval_bonf, 'bonf'] = df_disp.loc[sig_pval_bonf, 'bonf'].apply(round_and_bold_red)\n",
    "#df_disp.loc[:, 'HC_pvalue (null)'] = df_disp['HC_pvalue (null)'].apply(round_and_bold_red)\n",
    "#df_disp.loc[:, 'HC_pvalue'] = df_disp['HC_pvalue'].apply(round_and_bold)\n",
    "# for all column name, replace all '_' in column title with '-'\n",
    "df_disp.columns = df_disp.columns.str.replace(\"_\", \"-\")\n",
    "aa = df_disp.set_index('title')\n",
    "print(aa.to_latex(float_format=lambda x: '%.2f' % x))"
   ]
  },
  {
   "cell_type": "markdown",
   "id": "72fab283",
   "metadata": {},
   "source": [
    "## Combine two experiments"
   ]
  },
  {
   "cell_type": "code",
   "execution_count": 57,
   "id": "5547de90",
   "metadata": {},
   "outputs": [
    {
     "name": "stderr",
     "output_type": "stream",
     "text": [
      "INFO:root:Loaded 18 rows from publish_out_bio_gpt2_pre.csv\n"
     ]
    },
    {
     "name": "stderr",
     "output_type": "stream",
     "text": [
      "INFO:root:Loaded 18 rows from publish_out_bio_phi2_pre.csv\n",
      "INFO:root:Loaded 18 rows from publish_out_bio_null_gpt2_pre.csv\n",
      "INFO:root:Loaded 18 rows from publish_out_bio_null_phi2_pre.csv\n"
     ]
    },
    {
     "name": "stdout",
     "output_type": "stream",
     "text": [
      "Could not find a match to the following titles:\n",
      "Series([], Name: title, dtype: object)\n",
      "Series([], Name: title, dtype: object)\n"
     ]
    }
   ],
   "source": [
    "import logging\n",
    "import os, re\n",
    "logging.basicConfig(level=logging.INFO)\n",
    "\n",
    "\n",
    "def arrange_results(results_edited_filename, results_null_filename):\n",
    "    df = pd.read_csv(results_edited_filename)\n",
    "    # get basename of the file, and extract the title of the document.\n",
    "    basenames = df.iloc[:,0].apply(os.path.basename)\n",
    "    # now extract the name of the document\n",
    "    df.loc[:, 'title'] = [re.findall(r\"([A-Za-z \\(\\)]+)_edited[1-10]?\\.*\", x)[0] for x in basenames]\n",
    "    logging.info(f\"Loaded {len(df)} rows from {results_edited_filename}\")\n",
    "\n",
    "    df_null = pd.read_csv(results_null_filename)\n",
    "    # first extract the basename of the file:\n",
    "    basenames = df_null.iloc[:,0].apply(os.path.basename)\n",
    "    # now extract the name of the document\n",
    "    df_null.loc[:, 'title'] = [re.findall(r\"([A-Za-z \\(\\)]+)\\.*\", x)[0] for x in basenames]\n",
    "    logging.info(f\"Loaded {len(df_null)} rows from {results_null_filename}\")\n",
    "\n",
    "    df_disp = df.merge(df_null, on = 'title', suffixes=[\"\", \" (null)\"], how='inner')\n",
    "        \n",
    "    print(\"Could not find a match to the following titles:\")\n",
    "    #print(df_disp[df_disp.filter(['title', 'length']).isna().any(axis=1)]['title'])\n",
    "\n",
    "    df['F1'] = 2 * df['precision'] * df['recall'] / (df['precision'] + df['recall'])\n",
    "    df['TPR'] = df['recall']\n",
    "\n",
    "    columns = ['title',  'edit_rate', 'length', 'HC', 'HC_pvalue', 'HC (null)',  'HC_pvalue (null)',  'bonf', 'bonf (null)', 'F1']\n",
    "    \n",
    "    return df_disp.filter(columns)\n"
   ]
  },
  {
   "cell_type": "code",
   "execution_count": 59,
   "id": "ac854c3d",
   "metadata": {},
   "outputs": [
    {
     "name": "stderr",
     "output_type": "stream",
     "text": [
      "INFO:root:Loaded 18 rows from publish_out_bio_gpt2_pre.csv\n",
      "INFO:root:Loaded 18 rows from publish_out_bio_null_gpt2_pre.csv\n",
      "INFO:root:Loaded 18 rows from publish_out_bio_phi2_pre.csv\n",
      "INFO:root:Loaded 18 rows from publish_out_bio_null_phi2_pre.csv\n"
     ]
    },
    {
     "name": "stdout",
     "output_type": "stream",
     "text": [
      "Could not find a match to the following titles:\n",
      "Could not find a match to the following titles:\n"
     ]
    }
   ],
   "source": [
    "df_disp1 = arrange_results(results_edited_filename1, results_null_filename1)\n",
    "df_disp2 = arrange_results(results_edited_filename2, results_null_filename2)"
   ]
  },
  {
   "cell_type": "markdown",
   "id": "c1053e47",
   "metadata": {},
   "source": [
    "### Merge results of both models to one table:"
   ]
  },
  {
   "cell_type": "code",
   "execution_count": 41,
   "id": "6351a117",
   "metadata": {},
   "outputs": [
    {
     "name": "stdout",
     "output_type": "stream",
     "text": [
      "\\begin{tabular}{lrrllllllll}\n",
      "\\toprule\n",
      " & length & edit-rate & HC (null) (gpt2) & HC (gpt2) & bonf (gpt2) & bonf (null) (gpt2) & HC (null) (phi2) & HC (phi2) & bonf (phi2) & bonf (null) (phi2) \\\\\n",
      "title &  &  &  &  &  &  &  &  &  &  \\\\\n",
      "\\midrule\n",
      "Camus & 71 & 0.17 & 0.32 (0.816) & 1.52 (0.1298) & 0.27 & 2.69 & {\\color{red} {1.82}} (\\textbf{0.0458}) & {\\color{blue} {3.06}} (\\textbf{0.0}) & {\\color{blue} {0.05}} & 0.63 \\\\\n",
      "Kafka & 64 & 0.21 & 0.98 (0.4222) & {\\color{blue} {1.84}} (\\textbf{0.0432}) & 0.16 & 1.92 & 1.7 (0.0634) & {\\color{blue} {2.71}} (\\textbf{0.0005}) & 0.06 & 0.05 \\\\\n",
      "Marquez & 53 & 0.19 & -1.44 (0.9847) & -0.22 (0.925) & 2.31 & 5.21 & 0.98 (0.4025) & 1.6 (0.0836) & {\\color{blue} {0.03}} & {\\color{red} {0.03}} \\\\\n",
      "Chekhov & 65 & 0.10 & 1.4 (0.1821) & 1.66 (0.0783) & {\\color{blue} {0.04}} & {\\color{red} {0.04}} & 1.39 (0.1838) & {\\color{blue} {2.38}} (\\textbf{0.0046}) & 0.05 & 0.05 \\\\\n",
      "Morrison & 60 & 0.22 & -0.96 (0.9845) & 0.49 (0.743) & 2.34 & 2.43 & -1.01 (0.9864) & 0.88 (0.5047) & 1.92 & 5.5 \\\\\n",
      "Hesse & 66 & 0.20 & 1.26 (0.2451) & {\\color{blue} {2.0}} (\\textbf{0.0235}) & 0.05 & 0.22 & 1.61 (0.0919) & {\\color{blue} {2.52}} (\\textbf{0.0022}) & 0.05 & 0.08 \\\\\n",
      "Austen & 60 & 0.14 & 0.73 (0.6136) & {\\color{blue} {2.52}} (\\textbf{0.0015}) & {\\color{blue} {0.04}} & 1.47 & 0.78 (0.582) & {\\color{blue} {2.47}} (\\textbf{0.002}) & {\\color{blue} {0.05}} & 0.77 \\\\\n",
      "Simenon & 69 & 0.18 & -0.06 (0.9087) & 1.29 (0.2392) & {\\color{blue} {0.03}} & 4.78 & 1.38 (0.1933) & {\\color{blue} {2.27}} (\\textbf{0.008}) & 0.05 & 0.06 \\\\\n",
      "Tolstoy & 65 & 0.24 & -0.38 (0.9488) & 1.49 (0.137) & 1.34 & 1.4 & 0.52 (0.7267) & {\\color{blue} {2.0}} (\\textbf{0.0229}) & 0.07 & 0.6 \\\\\n",
      "Rice & 52 & 0.18 & -1.18 (0.985) & 0.96 (0.4173) & {\\color{blue} {0.05}} & 4.14 & 0.78 (0.5591) & 1.68 (0.0588) & {\\color{blue} {0.04}} & 1.38 \\\\\n",
      "Rowling & 60 & 0.27 & 0.93 (0.4445) & 1.34 (0.1937) & 2.19 & 1.9 & 1.33 (0.1841) & {\\color{blue} {2.49}} (\\textbf{0.0019}) & {\\color{blue} {0.05}} & 0.11 \\\\\n",
      "Andersen & 85 & 0.29 & 1.06 (0.3877) & {\\color{blue} {3.27}} (\\textbf{0.0}) & 0.06 & 1.2 & 1.5 (0.1428) & {\\color{blue} {3.63}} (\\textbf{0.0}) & 0.06 & 0.08 \\\\\n",
      "Mishima & 56 & 0.21 & 0.89 (0.4714) & {\\color{blue} {2.19}} (\\textbf{0.0069}) & {\\color{blue} {0.03}} & 0.12 & 1.56 (0.0922) & {\\color{blue} {2.7}} (\\textbf{0.0005}) & {\\color{blue} {0.04}} & 0.23 \\\\\n",
      "Verne & 64 & 0.23 & -1.37 (0.9864) & -0.25 (0.9354) & 2.18 & 3.91 & -0.06 (0.9013) & 1.55 (0.1111) & 0.06 & 1.06 \\\\\n",
      "Dickinson & 70 & 0.26 & 1.1 (0.3402) & {\\color{blue} {2.87}} (\\textbf{0.0001}) & {\\color{blue} {0.04}} & 1.87 & 1.09 (0.3472) & {\\color{blue} {3.16}} (\\textbf{0.0}) & {\\color{blue} {0.04}} & 0.62 \\\\\n",
      "Po & 52 & 0.21 & -0.57 (0.9617) & 0.5 (0.7224) & 2.25 & 2.29 & 0.95 (0.4288) & 1.47 (0.124) & 0.06 & 0.06 \\\\\n",
      "Christie & 79 & 0.20 & 0.45 (0.7848) & 0.43 (0.7907) & 1.1 & 1.08 & 0.86 (0.5479) & 1.08 (0.3862) & 0.15 & 0.15 \\\\\n",
      "Dahl & 59 & 0.15 & 1.61 (0.0924) & {\\color{blue} {2.24}} (\\textbf{0.0066}) & {\\color{blue} {0.04}} & {\\color{red} {0.05}} & -0.01 (0.8978) & 1.39 (0.169) & {\\color{blue} {0.04}} & 1.01 \\\\\n",
      "\\bottomrule\n",
      "\\end{tabular}\n",
      "\n"
     ]
    }
   ],
   "source": [
    "model1 = 'gpt2'\n",
    "model2 = 'phi2'\n",
    "\n",
    "df_merged = df_disp1.merge(df_disp2, on = ['title', 'edit_rate', 'length'], suffixes=[\" (gpt2)\", \" (phi2)\"], how='outer')\n",
    "\n",
    "df_merged.to_csv(\"publich_bio_merged.csv\")\n",
    "\n",
    "columns = ['title',  'length', 'edit_rate', \n",
    "        f'HC (null) ({model1})', f'HC_pvalue (null) ({model1})', f'HC ({model1})', f'HC_pvalue ({model1})', f'bonf ({model1})', f'bonf (null) ({model1})',\n",
    "        f'HC (null) ({model2})', f'HC_pvalue (null) ({model2})', f'HC ({model2})', f'HC_pvalue ({model2})', f'bonf ({model2})', f'bonf (null) ({model2})',\n",
    "]\n",
    "df_disp = df_merged.filter(columns)\n",
    "\n",
    "# def round_and_bold_blue(x):\n",
    "#     return f\"\\\\color{{blue}} \\\\textbf{{{np.round(x,3)}}}\"\n",
    "    \n",
    "# def round_and_bold_red(x):\n",
    "#     return f\"\\\\color{{red}} \\\\textbf{{{np.round(x,3)}}}\"\n",
    "\n",
    "def arrange_and_color(x: float, pvalue, color) -> str:\n",
    "    # round x to 2 decilmal places and pvalue to 4 decimal places:\n",
    "    if pvalue < 0.05:\n",
    "        stat_str = f\"{{\\\\color{{{color}}} {{{np.round(x,2)}}}}}\"\n",
    "        pvalue_str = f\"\\\\textbf{{{np.round(pvalue, 4)}}}\"\n",
    "    else:\n",
    "        stat_str = f\"{np.round(x, 2)}\"\n",
    "        pvalue_str = str(np.round(pvalue, 4))\n",
    "    return f\"{stat_str} ({pvalue_str})\"\n",
    "\n",
    "def arrange_and_color_red(x: float, pvalue) -> str:\n",
    "    return arrange_and_color(x, pvalue, 'red')\n",
    "def arrange_and_color_blue(x: float, pvalue) -> str:\n",
    "    return arrange_and_color(x, pvalue, 'blue')\n",
    "def add_color_scaler(x: float, color='blue') -> str:\n",
    "    if x < 0.05:\n",
    "        return f\"{{\\\\color{{{color}}} {{{np.round(x,2)}}}}}\"\n",
    "    else:\n",
    "        return f\"{np.round(x, 2)}\"\n",
    "    \n",
    "\n",
    "for model in [model1, model2]: # write Pvalues in the format stat (pvalue):\n",
    "    df_disp[f'HC ({model})'] = df_disp.apply(lambda row: arrange_and_color_blue(row[f'HC ({model})'], row[f'HC_pvalue ({model})']), axis=1)\n",
    "    df_disp[f'HC (null) ({model})'] = df_disp.apply(lambda row: arrange_and_color_red(row[f'HC (null) ({model})'], row[f'HC_pvalue (null) ({model})']), axis=1)\n",
    "\n",
    "    df_disp[f'bonf ({model})'] = df_disp[f'bonf ({model})'].apply(add_color_scaler, color='blue')\n",
    "    df_disp[f'bonf (null) ({model})'] = df_disp[f'bonf (null) ({model})'].apply(add_color_scaler, color='red')\n",
    "\n",
    "# remove the pvalues from the dataframe:\n",
    "df_disp = df_disp.drop(columns=[f'HC_pvalue ({model1})', f'HC_pvalue ({model2})', f'HC_pvalue (null) ({model1})', f'HC_pvalue (null) ({model2})'])\n",
    "\n",
    "df_disp.columns = df_disp.columns.str.replace(\"_\", \"-\")\n",
    "\n",
    "# only keep the last name:\n",
    "df_disp.loc[:, 'title'] = df_disp['title'].apply(lambda x: x.split()[-1])\n",
    "\n",
    "aa = df_disp.set_index('title')\n",
    "print(aa.to_latex(\n",
    "    float_format=lambda x: '%.2f' % x\n",
    "    ))"
   ]
  },
  {
   "cell_type": "markdown",
   "id": "22ff9d49",
   "metadata": {},
   "source": [
    "## Sentences in a single article"
   ]
  },
  {
   "cell_type": "code",
   "execution_count": 3,
   "id": "7c62ee8d",
   "metadata": {},
   "outputs": [
    {
     "data": {
      "image/png": "[encoded data removed]",
      "text/plain": [
       "<Figure size 1000x1000 with 2 Axes>"
      ]
     },
     "metadata": {},
     "output_type": "display_data"
    },
    {
     "name": "stdout",
     "output_type": "stream",
     "text": [
      "(1.4925783532718189, 0.1083)\n"
     ]
    },
    {
     "name": "stderr",
     "output_type": "stream",
     "text": [
      "/var/folders/3n/c1thdb3136qc3c_4t5br9r6c0000gq/T/ipykernel_56688/1098204810.py:25: UserWarning: Boolean Series key will be reindexed to match DataFrame index.\n",
      "  df_disp[~df_disp.pvalue.isna()].sort_values('pvalue')[df_disp['mask']]\n"
     ]
    },
    {
     "data": {
      "text/html": [
       "<div>\n",
       "<style scoped>\n",
       "    .dataframe tbody tr th:only-of-type {\n",
       "        vertical-align: middle;\n",
       "    }\n",
       "\n",
       "    .dataframe tbody tr th {\n",
       "        vertical-align: top;\n",
       "    }\n",
       "\n",
       "    .dataframe thead th {\n",
       "        text-align: right;\n",
       "    }\n",
       "</style>\n",
       "<table border=\"1\" class=\"dataframe\">\n",
       "  <thead>\n",
       "    <tr style=\"text-align: right;\">\n",
       "      <th></th>\n",
       "      <th>Unnamed: 0</th>\n",
       "      <th>sentence</th>\n",
       "      <th>response</th>\n",
       "      <th>pvalue</th>\n",
       "      <th>context</th>\n",
       "      <th>comment</th>\n",
       "      <th>mask</th>\n",
       "      <th>tag</th>\n",
       "      <th>len</th>\n",
       "    </tr>\n",
       "  </thead>\n",
       "  <tbody>\n",
       "    <tr>\n",
       "      <th>55</th>\n",
       "      <td>55</td>\n",
       "      <td>\\textcolor{blue}Stanislavski wrote :״Chekhov o...</td>\n",
       "      <td>4.771</td>\n",
       "      <td>0.0093</td>\n",
       "      <td>NaN</td>\n",
       "      <td>OK</td>\n",
       "      <td>True</td>\n",
       "      <td>&lt;edit&gt;</td>\n",
       "      <td>26</td>\n",
       "    </tr>\n",
       "    <tr>\n",
       "      <th>13</th>\n",
       "      <td>13</td>\n",
       "      <td>The intersection of his medical and...</td>\n",
       "      <td>3.685</td>\n",
       "      <td>0.0098</td>\n",
       "      <td>NaN</td>\n",
       "      <td>OK</td>\n",
       "      <td>True</td>\n",
       "      <td>no edits</td>\n",
       "      <td>28</td>\n",
       "    </tr>\n",
       "    <tr>\n",
       "      <th>28</th>\n",
       "      <td>28</td>\n",
       "      <td>The profound insights and nuanced characteriza...</td>\n",
       "      <td>3.920</td>\n",
       "      <td>0.0098</td>\n",
       "      <td>NaN</td>\n",
       "      <td>OK</td>\n",
       "      <td>True</td>\n",
       "      <td>no edits</td>\n",
       "      <td>28</td>\n",
       "    </tr>\n",
       "    <tr>\n",
       "      <th>56</th>\n",
       "      <td>56</td>\n",
       "      <td>\\textcolor{blue}the characters often feel and ...</td>\n",
       "      <td>4.401</td>\n",
       "      <td>0.0385</td>\n",
       "      <td>NaN</td>\n",
       "      <td>OK</td>\n",
       "      <td>True</td>\n",
       "      <td>&lt;edit&gt;</td>\n",
       "      <td>14</td>\n",
       "    </tr>\n",
       "    <tr>\n",
       "      <th>45</th>\n",
       "      <td>45</td>\n",
       "      <td>In summary, Anton Chekhov's major contribution...</td>\n",
       "      <td>3.444</td>\n",
       "      <td>0.0492</td>\n",
       "      <td>NaN</td>\n",
       "      <td>OK</td>\n",
       "      <td>True</td>\n",
       "      <td>no edits</td>\n",
       "      <td>30</td>\n",
       "    </tr>\n",
       "    <tr>\n",
       "      <th>8</th>\n",
       "      <td>8</td>\n",
       "      <td>This event, coupled with the responsibility...</td>\n",
       "      <td>3.365</td>\n",
       "      <td>0.0544</td>\n",
       "      <td>NaN</td>\n",
       "      <td>OK</td>\n",
       "      <td>True</td>\n",
       "      <td>no edits</td>\n",
       "      <td>28</td>\n",
       "    </tr>\n",
       "    <tr>\n",
       "      <th>19</th>\n",
       "      <td>19</td>\n",
       "      <td>\\textcolor{blue}\"The Steppe\" has been called a...</td>\n",
       "      <td>3.339</td>\n",
       "      <td>0.0600</td>\n",
       "      <td>NaN</td>\n",
       "      <td>OK</td>\n",
       "      <td>True</td>\n",
       "      <td>&lt;edit&gt;</td>\n",
       "      <td>39</td>\n",
       "    </tr>\n",
       "    <tr>\n",
       "      <th>32</th>\n",
       "      <td>32</td>\n",
       "      <td>He challenged traditional theatrical conventio...</td>\n",
       "      <td>3.462</td>\n",
       "      <td>0.0948</td>\n",
       "      <td>NaN</td>\n",
       "      <td>OK</td>\n",
       "      <td>True</td>\n",
       "      <td>no edits</td>\n",
       "      <td>24</td>\n",
       "    </tr>\n",
       "    <tr>\n",
       "      <th>18</th>\n",
       "      <td>18</td>\n",
       "      <td>\\textcolor{blue}In 1887, exhausted from overwo...</td>\n",
       "      <td>3.410</td>\n",
       "      <td>0.0975</td>\n",
       "      <td>NaN</td>\n",
       "      <td>OK</td>\n",
       "      <td>True</td>\n",
       "      <td>&lt;edit&gt;</td>\n",
       "      <td>32</td>\n",
       "    </tr>\n",
       "    <tr>\n",
       "      <th>11</th>\n",
       "      <td>11</td>\n",
       "      <td>Juggling medical studies with his literary...</td>\n",
       "      <td>3.797</td>\n",
       "      <td>0.1029</td>\n",
       "      <td>NaN</td>\n",
       "      <td>OK</td>\n",
       "      <td>True</td>\n",
       "      <td>no edits</td>\n",
       "      <td>19</td>\n",
       "    </tr>\n",
       "    <tr>\n",
       "      <th>35</th>\n",
       "      <td>35</td>\n",
       "      <td>This departure from conventional plot structur...</td>\n",
       "      <td>3.494</td>\n",
       "      <td>0.1083</td>\n",
       "      <td>NaN</td>\n",
       "      <td>OK</td>\n",
       "      <td>True</td>\n",
       "      <td>no edits</td>\n",
       "      <td>25</td>\n",
       "    </tr>\n",
       "  </tbody>\n",
       "</table>\n",
       "</div>"
      ],
      "text/plain": [
       "    Unnamed: 0                                           sentence  response  \\\n",
       "55          55  \\textcolor{blue}Stanislavski wrote :״Chekhov o...     4.771   \n",
       "13          13             The intersection of his medical and...     3.685   \n",
       "28          28  The profound insights and nuanced characteriza...     3.920   \n",
       "56          56  \\textcolor{blue}the characters often feel and ...     4.401   \n",
       "45          45  In summary, Anton Chekhov's major contribution...     3.444   \n",
       "8            8     This event, coupled with the responsibility...     3.365   \n",
       "19          19  \\textcolor{blue}\"The Steppe\" has been called a...     3.339   \n",
       "32          32  He challenged traditional theatrical conventio...     3.462   \n",
       "18          18  \\textcolor{blue}In 1887, exhausted from overwo...     3.410   \n",
       "11          11      Juggling medical studies with his literary...     3.797   \n",
       "35          35  This departure from conventional plot structur...     3.494   \n",
       "\n",
       "    pvalue  context comment  mask       tag  len  \n",
       "55  0.0093      NaN      OK  True    <edit>   26  \n",
       "13  0.0098      NaN      OK  True  no edits   28  \n",
       "28  0.0098      NaN      OK  True  no edits   28  \n",
       "56  0.0385      NaN      OK  True    <edit>   14  \n",
       "45  0.0492      NaN      OK  True  no edits   30  \n",
       "8   0.0544      NaN      OK  True  no edits   28  \n",
       "19  0.0600      NaN      OK  True    <edit>   39  \n",
       "32  0.0948      NaN      OK  True  no edits   24  \n",
       "18  0.0975      NaN      OK  True    <edit>   32  \n",
       "11  0.1029      NaN      OK  True  no edits   19  \n",
       "35  0.1083      NaN      OK  True  no edits   25  "
      ]
     },
     "execution_count": 3,
     "metadata": {},
     "output_type": "execute_result"
    }
   ],
   "source": [
    "file_name = \"results/Anton Chekhov_edited_sentences.csv\"\n",
    "\n",
    "MIN_LEN = 10\n",
    "df_doc1 = pd.read_csv(file_name)\n",
    "df_doc1['len'] = df_doc1.sentence.apply(lambda x : len(x.split()))\n",
    "df_doc1 = df_doc1[df_doc1.len > MIN_LEN]\n",
    "\n",
    "df_disp = df_doc1\n",
    "df_disp.loc[:, 'response'] = df_disp['response'].apply(lambda x : np.round(x,3))\n",
    "df_disp.loc[:, 'pvalue'] = df_disp['pvalue'].apply(lambda x : np.round(x,4))\n",
    "df_disp.loc[df_disp.tag == '<edit>', 'sentence'] = '\\\\textcolor{blue}' + df_disp.loc[df_disp.tag == '<edit>', 'sentence']\n",
    "\n",
    "df_disp['sentence'] = df_disp['sentence'].apply(lambda x : \" \".join(x.split()[:6]) + \"...\")\n",
    "\n",
    "\n",
    "a = df_disp.filter(['sentence', 'response', 'pvalue'])\n",
    "b = df_disp[df_disp['mask']].filter(['sentence', 'pvalue']).sort_values('pvalue')\n",
    "\n",
    "from multitest import MultiTest\n",
    "pvals = df_disp['pvalue']\n",
    "mt = MultiTest(pvals[~np.isnan(pvals)], stbl=True)\n",
    "mt.hc_dashboard(gamma=0.45)\n",
    "print(mt.hc(gamma=0.45))\n",
    "\n",
    "df_disp[~df_disp.pvalue.isna()].sort_values('pvalue')[df_disp['mask']]"
   ]
  },
  {
   "cell_type": "code",
   "execution_count": 38,
   "metadata": {},
   "outputs": [
    {
     "name": "stdout",
     "output_type": "stream",
     "text": [
      "\\begin{tabular}{llrrlr}\n",
      "\\toprule\n",
      " & sentence & response & pvalue & comment & len \\\\\n",
      "\\midrule\n",
      "2 & The Welsh Corgi, often simply referred... & 2.765000 & 0.210600 & OK & 29 \\\\\n",
      "3 & Renowned for their distinctive appearance, characterized... & 2.864000 & 0.247400 & OK & 23 \\\\\n",
      "4 & \\textcolor{blue}Originally bred to herd cattle, sheep,... & 2.484000 & 0.597200 & OK & 21 \\\\\n",
      "5 & This article delves into the fascinating... & 3.005000 & 0.444400 & OK & 16 \\\\\n",
      "6 & From their origin as indispensable herding... & 3.682000 & 0.040000 & OK & 38 \\\\\n",
      "7 & Moreover, we examine the different varieties... & 3.400000 & 0.058400 & OK & 22 \\\\\n",
      "8 & Join us on this journey to... & 2.460000 & 0.289000 & OK & 31 \\\\\n",
      "10 & The history of the Corgi breed... & 2.565000 & 0.540200 & OK & 24 \\\\\n",
      "11 & \\textcolor{blue}Corgi breeds are classified as Pembroke... & 2.327000 & 0.820700 & OK & 17 \\\\\n",
      "12 & \\textcolor{blue}The breeds are named for the... & 3.156000 & 0.161800 & OK & 18 \\\\\n",
      "13 & Pembroke Welsh Corgi: The Pembroke Welsh... & 1.410000 & 0.999800 & OK & 29 \\\\\n",
      "14 & Its history can be traced back... & 2.084000 & 0.859000 & OK & 22 \\\\\n",
      "15 & Legend has it that the fairies... & 3.255000 & 0.029200 & OK & 27 \\\\\n",
      "16 & The name \"Corgi\" is said to... & 2.242000 & 0.731200 & OK & 22 \\\\\n",
      "17 & Pembroke Corgis were highly valued by... & 3.042000 & 0.444600 & OK & 15 \\\\\n",
      "18 & \\textcolor{blue}The late Queen Elizabeth II held... & 2.448000 & 0.612500 & OK & 25 \\\\\n",
      "19 & They excelled at driving cattle and... & 3.226000 & 0.149600 & OK & 22 \\\\\n",
      "20 & Cardigan Welsh Corgi: The Cardigan Welsh... & 2.210000 & 0.867300 & OK & 18 \\\\\n",
      "21 & Like the Pembroke, the Cardigan Corgi... & 2.265000 & 0.667000 & OK & 27 \\\\\n",
      "22 & \\textcolor{blue}It is believed that the Cardigan... & 3.351000 & 0.023400 & OK & 23 \\\\\n",
      "23 & Cardigan Corgis were also adept herding... & 3.847000 & 0.019600 & OK & 19 \\\\\n",
      "24 & Unlike the Pembroke, they had long,... & 2.884000 & 0.807000 & OK & 13 \\\\\n",
      "25 & This breed was known for its... & 3.414000 & 0.114900 & OK & 18 \\\\\n",
      "26 & Distinction between the Breeds: While the... & 2.655000 & 0.391900 & OK & 25 \\\\\n",
      "27 & For example, the Pembroke lacks a... & 2.811000 & 0.310300 & OK & 21 \\\\\n",
      "28 & \\textcolor{blue}Pembroke Corgis are the smaller of... & 2.392000 & 0.625200 & OK & 22 \\\\\n",
      "29 & Additionally, the Cardigan is generally larger... & 2.710000 & 0.156400 & OK & 46 \\\\\n",
      "30 & In 1933, the Pembroke and Cardigan... & 2.581000 & 0.573600 & OK & 20 \\\\\n",
      "31 & Today, Welsh Corgis, especially the Pembroke,... & 2.948000 & 0.192400 & OK & 23 \\\\\n",
      "32 & They have also made appearances in... & 2.298000 & 0.645100 & OK & 28 \\\\\n",
      "33 & \\textcolor{blue}A Welsh Corgi appeared with Queen... & 3.111000 & 0.171000 & OK & 18 \\\\\n",
      "34 & Despite their herding heritage gradually diminishing,... & 3.791000 & 0.010400 & OK & 24 \\\\\n",
      "36 & The health of Welsh Corgis, like... & 2.511000 & 0.566100 & OK & 22 \\\\\n",
      "37 & \\textcolor{blue}With proper care, Welsh Corgis live... & 3.694000 & NaN & ignored (below minimal length) & 9 \\\\\n",
      "38 & While Corgis are generally robust dogs,... & 2.307000 & 0.706400 & OK & 21 \\\\\n",
      "39 & Responsible breeding practices and regular veterinary... & 2.497000 & 0.818700 & OK & 16 \\\\\n",
      "40 & Here are some common health considerations... & 2.195000 & 0.577300 & OK & 34 \\\\\n",
      "41 & This condition involves the spinal discs... & 2.508000 & 0.567900 & OK & 22 \\\\\n",
      "42 & Owners should take care to avoid... & 2.508000 & 0.638000 & OK & 20 \\\\\n",
      "44 & Hip dysplasia is a common condition... & 2.539000 & 0.930400 & OK & 12 \\\\\n",
      "45 & It is a hereditary condition where... & 2.898000 & 0.312700 & OK & 19 \\\\\n",
      "46 & Responsible breeders often perform hip evaluations... & 2.877000 & 0.272700 & OK & 22 \\\\\n",
      "47 & Eye Problems: Some Corgis may be... & 2.031000 & 0.924200 & OK & 19 \\\\\n",
      "48 & \\textcolor{blue}Pembroke Corgis are more likely to... & 2.458000 & 0.536800 & OK & 26 \\\\\n",
      "49 & Regular eye check-ups can help identify... & 3.218000 & 0.708700 & OK & 12 \\\\\n",
      "50 & Degenerative Myelopathy (DM): DM is a... & 2.358000 & 0.722800 & OK & 24 \\\\\n",
      "51 & While it is more commonly seen... & 2.790000 & 0.281400 & OK & 25 \\\\\n",
      "53 & Corgis have a hearty appetite and... & 2.727000 & 0.539200 & OK & 17 \\\\\n",
      "54 & Being overweight can exacerbate joint issues... & 3.914000 & 0.105400 & OK & 13 \\\\\n",
      "55 & \\textcolor{blue}The recommended daily intake of food... & 3.370000 & 0.092600 & OK & 19 \\\\\n",
      "56 & A balanced diet and regular exercise... & 2.100000 & 0.983100 & OK & 13 \\\\\n",
      "57 & Allergies: Some Corgis may suffer from... & 3.196000 & NaN & ignored (below minimal length) & 10 \\\\\n",
      "58 & Common signs include itching, redness, and... & 3.851000 & NaN & ignored (below minimal length) & 8 \\\\\n",
      "59 & Identifying and avoiding allergens can help... & 3.323000 & NaN & ignored (below minimal length) & 9 \\\\\n",
      "61 & This is a hereditary bleeding disorder... & 2.725000 & 0.644000 & OK & 14 \\\\\n",
      "62 & Responsible breeders screen for this condition... & 3.376000 & 0.553600 & OK & 12 \\\\\n",
      "63 & Bloat (Gastric Dilatation-Volvulus): Like many deep-chested... & 2.408000 & 0.553800 & OK & 28 \\\\\n",
      "64 & Feeding multiple smaller meals a day,... & 2.786000 & 0.358600 & OK & 24 \\\\\n",
      "65 & It's important for prospective Corgi owners... & 2.387000 & 0.693500 & OK & 20 \\\\\n",
      "66 & Regular visits to the veterinarian, a... & 2.355000 & 0.472100 & OK & 30 \\\\\n",
      "68 & Welsh Corgis have had a significant... & 2.492000 & 0.690600 & OK & 19 \\\\\n",
      "69 & Their charming looks, endearing personalities, and... & 3.136000 & 0.149000 & OK & 20 \\\\\n",
      "70 & Here are some ways in which... & 2.684000 & 0.182000 & OK & 36 \\\\\n",
      "71 & Her Majesty has been an avid... & 2.511000 & 0.576400 & OK & 21 \\\\\n",
      "72 & The Queen's fondness for Corgis has... & 3.263000 & 0.129600 & OK & 19 \\\\\n",
      "73 & Their presence in royal events, official... & 3.826000 & 0.076000 & OK & 16 \\\\\n",
      "74 & Internet Sensation: Welsh Corgis have achieved... & 3.303000 & 0.227500 & OK & 16 \\\\\n",
      "75 & \\textcolor{blue}Their enthusiastic nature and fox-like features... & 4.642000 & NaN & ignored (below minimal length) & 10 \\\\\n",
      "76 & Numerous Corgi videos, photos, and memes... & 2.553000 & 0.492400 & OK & 25 \\\\\n",
      "77 & Online communities dedicated to Corgis have... & 3.387000 & 0.088100 & OK & 19 \\\\\n",
      "79 & Corgis have appeared in various films,... & 2.557000 & 0.534800 & OK & 21 \\\\\n",
      "80 & \\textcolor{blue}They have appeared in several animated... & 3.512000 & 0.058900 & OK & 19 \\\\\n",
      "81 & Their roles in popular culture often... & 3.382000 & 0.063000 & OK & 22 \\\\\n",
      "82 & Merchandise and Pop Culture Icons: The... & 2.945000 & 0.277800 & OK & 19 \\\\\n",
      "83 & You can find Corgi-themed products, including... & 2.640000 & 0.603800 & OK & 17 \\\\\n",
      "84 & Corgis have also inspired the creation... & 2.402000 & 0.499300 & OK & 50 \\\\\n",
      "85 & \\textcolor{blue}Over 1000 Corgis meet each year... & 2.859000 & 0.545200 & OK & 15 \\\\\n",
      "86 & These gatherings provide opportunities for Corgis... & 2.705000 & 0.456300 & OK & 18 \\\\\n",
      "87 & Such events have fostered a strong... & 2.973000 & 0.805800 & OK & 12 \\\\\n",
      "88 & Mascots and Symbols: In some regions,... & 3.312000 & 0.139800 & OK & 18 \\\\\n",
      "89 & In Wales, they are often associated... & 3.260000 & 0.130900 & OK & 19 \\\\\n",
      "90 & Philanthropic Impact: In addition to their... & 2.903000 & 0.553700 & OK & 16 \\\\\n",
      "91 & Corgi-themed fundraisers and charity events have... & 3.636000 & 0.013300 & OK & 24 \\\\\n",
      "92 & Overall, Welsh Corgis have become more... & 2.456000 & 0.409200 & OK & 30 \\\\\n",
      "93 & \\textcolor{blue}They have surpassed their humble origins... & 3.906000 & 0.068300 & OK & 16 \\\\\n",
      "94 & Their unique combination of historical significance,... & 3.284000 & 0.054600 & OK & 25 \\\\\n",
      "\\bottomrule\n",
      "\\end{tabular}\n",
      "\n"
     ]
    }
   ],
   "source": [
    "print(df_disp.drop(['context', 'tag', 'mask', 'Unnamed: 0'], axis=1).to_latex())"
   ]
  },
  {
   "cell_type": "code",
   "execution_count": null,
   "metadata": {},
   "outputs": [],
   "source": []
  },
  {
   "cell_type": "code",
   "execution_count": null,
   "metadata": {},
   "outputs": [],
   "source": []
  },
  {
   "cell_type": "code",
   "execution_count": 22,
   "id": "c145ef34",
   "metadata": {},
   "outputs": [
    {
     "data": {
      "text/plain": [
       "[<matplotlib.lines.Line2D at 0x157c85ff0>]"
      ]
     },
     "execution_count": 22,
     "metadata": {},
     "output_type": "execute_result"
    },
    {
     "data": {
      "image/png": "[encoded data removed]",
      "text/plain": [
       "<Figure size 640x480 with 1 Axes>"
      ]
     },
     "metadata": {},
     "output_type": "display_data"
    }
   ],
   "source": [
    "aa = np.arange(-.3,.3, 0.1)\n",
    "m = 4\n",
    "f = (1 + aa) ** m - 1\n",
    "plt.plot(aa, f)\n",
    "plt.plot(aa, np.exp(m*aa) - 1, color='blue')\n",
    "plt.plot(aa, np.exp(m*aa/2) - 1, color='red')"
   ]
  },
  {
   "cell_type": "code",
   "execution_count": 215,
   "id": "8f9a850c",
   "metadata": {},
   "outputs": [
    {
     "name": "stdout",
     "output_type": "stream",
     "text": [
      "General\n",
      "\\begin{tabular}{lrr}\n",
      "\\toprule\n",
      "sentence & response & pvalue \\\\\n",
      "\\midrule\n",
      "The Welsh Corgi, often simply... & 2.765000 & 0.212000 \\\\\n",
      "Renowned for their distinctive appearance,... & 2.864000 & 0.242400 \\\\\n",
      "\\textcolor{blue}Originally bred to herd cattle,... & 2.484000 & 0.649000 \\\\\n",
      "This article delves into the... & 3.005000 & 0.490400 \\\\\n",
      "From their origin as indispensable... & 3.682000 & 0.041700 \\\\\n",
      "Moreover, we examine the different... & 3.400000 & 0.116700 \\\\\n",
      "Join us on this journey... & 2.460000 & 0.309300 \\\\\n",
      "The history of the Corgi... & 2.565000 & 0.539500 \\\\\n",
      "\\textcolor{blue}Corgi breeds are classified as... & 2.266000 & 0.818700 \\\\\n",
      "Overall, Welsh Corgis have become... & 2.456000 & 0.459400 \\\\\n",
      "\\textcolor{blue}They have surpassed their humble... & 3.906000 & 0.105700 \\\\\n",
      "Their unique combination of historical... & 3.284000 & 0.077900 \\\\\n",
      "\\bottomrule\n",
      "\\end{tabular}\n",
      "\n"
     ]
    }
   ],
   "source": [
    "print(\"General\")\n",
    "n_head = 9\n",
    "n_tail = 3\n",
    "df_sent = pd.concat([a.head(n_head), a.tail(n_tail)])\n",
    "df_sent['sentence'] = df_sent['sentence'].apply(lambda x : \" \".join(x.split()[:5]) + \"...\")\n",
    "print(df_sent.to_latex(index=False))"
   ]
  },
  {
   "cell_type": "code",
   "execution_count": 220,
   "id": "7b5c57fd",
   "metadata": {},
   "outputs": [
    {
     "name": "stdout",
     "output_type": "stream",
     "text": [
      "HCT\n",
      "\\begin{tabular}{lr}\n",
      "\\toprule\n",
      "sentence & pvalue \\\\\n",
      "\\midrule\n",
      "Despite their herding heritage gradually diminishing,... & 0.011300 \\\\\n",
      "Corgi-themed fundraisers and charity events have... & 0.021100 \\\\\n",
      "Legend has it that the fairies... & 0.034600 \\\\\n",
      "\\textcolor{blue}It is believed that the Cardigan... & 0.040000 \\\\\n",
      "From their origin as indispensable herding... & 0.041700 \\\\\n",
      "Cardigan Corgis were also adept herding... & 0.043500 \\\\\n",
      "Their unique combination of historical significance,... & 0.077900 \\\\\n",
      "\\textcolor{blue}They have appeared in several animated... & 0.082000 \\\\\n",
      "\\textcolor{blue}They have surpassed their humble origins... & 0.105700 \\\\\n",
      "They excelled at driving cattle and... & 0.177000 \\\\\n",
      "Today, Welsh Corgis, especially the Pembroke,... & 0.185100 \\\\\n",
      "Mascots and Symbols: In some regions,... & 0.188300 \\\\\n",
      "Here are some ways in which... & 0.194200 \\\\\n",
      "\\textcolor{blue}The breeds are named for the... & 0.206500 \\\\\n",
      "\\textcolor{blue}A Welsh Corgi appeared with Queen... & 0.211400 \\\\\n",
      "The Welsh Corgi, often simply referred... & 0.212000 \\\\\n",
      "\\bottomrule\n",
      "\\end{tabular}\n",
      "\n"
     ]
    }
   ],
   "source": [
    "print(\"HCT\")\n",
    "n_head = 9\n",
    "n_tail = 7\n",
    "df_HCT = pd.concat([b.head(n_head), b.tail(n_tail)])\n",
    "print(df_HCT.to_latex(index=False))"
   ]
  },
  {
   "cell_type": "code",
   "execution_count": 228,
   "id": "ca2bc1ef",
   "metadata": {},
   "outputs": [
    {
     "data": {
      "text/plain": [
       "95"
      ]
     },
     "execution_count": 228,
     "metadata": {},
     "output_type": "execute_result"
    }
   ],
   "source": [
    "14 + 81"
   ]
  },
  {
   "cell_type": "code",
   "execution_count": 175,
   "id": "4a6281c6",
   "metadata": {},
   "outputs": [
    {
     "name": "stdout",
     "output_type": "stream",
     "text": [
      "General\n",
      "\\begin{tabular}{lrrl}\n",
      "\\toprule\n",
      "sentence & response & pvalue & tag \\\\\n",
      "\\midrule\n",
      "The Welsh Corgi, often simply... & 2.764900 & 0.212000 & not edit \\\\\n",
      "Renowned for their distinctive appearance,... & 2.864000 & 0.242400 & not edit \\\\\n",
      "Originally bred to herd cattle,... & 2.484400 & 0.649000 & <edit> \\\\\n",
      "This article delves into the... & 3.004800 & 0.490400 & not edit \\\\\n",
      "From their origin as indispensable... & 3.682400 & 0.041700 & not edit \\\\\n",
      "Moreover, we examine the different... & 3.399900 & 0.116700 & not edit \\\\\n",
      "Join us on this journey... & 2.459500 & 0.309300 & not edit \\\\\n",
      "The history of the Corgi... & 2.564700 & 0.539500 & not edit \\\\\n",
      "Corgi breeds are classified as... & 2.265500 & 0.818700 & <edit> \\\\\n",
      "Corgi-themed fundraisers and charity events... & 3.635700 & 0.021100 & not edit \\\\\n",
      "Overall, Welsh Corgis have become... & 2.456000 & 0.459400 & not edit \\\\\n",
      "They have surpassed their humble... & 3.906100 & 0.105700 & <edit> \\\\\n",
      "Their unique combination of historical... & 3.284100 & 0.077900 & not edit \\\\\n",
      "\\bottomrule\n",
      "\\end{tabular}\n",
      "\n"
     ]
    }
   ],
   "source": []
  },
  {
   "cell_type": "code",
   "execution_count": null,
   "id": "b6338518",
   "metadata": {},
   "outputs": [],
   "source": []
  },
  {
   "cell_type": "code",
   "execution_count": null,
   "id": "3db17ba2",
   "metadata": {},
   "outputs": [],
   "source": []
  },
  {
   "cell_type": "code",
   "execution_count": 117,
   "id": "9dd9674e",
   "metadata": {},
   "outputs": [
    {
     "name": "stdout",
     "output_type": "stream",
     "text": [
      "\\begin{tabular}{llrr}\n",
      "\\toprule\n",
      " & sentence & response & pvalue \\\\\n",
      "\\midrule\n",
      "0 & July 18 2023. & 4.780900 & NaN \\\\\n",
      "1 & Welsh Corgi.\n",
      "\n",
      "Introduction.\n",
      " & 4.839000 & NaN \\\\\n",
      "2 & The Welsh Corgi, often simply referred to as Corgi, is a charming and beloved breed of herding dog with roots deeply entwined in the landscapes and folklore of Wales.\n",
      " & 2.764900 & 0.212000 \\\\\n",
      "3 & Renowned for their distinctive appearance, characterized by their short legs and elongated bodies, Welsh Corgis have captured the hearts of dog enthusiasts worldwide.\n",
      " & 2.864000 & 0.242400 \\\\\n",
      "4 & Originally bred to herd cattle, sheep, and horses, Corgis are celebrated for their intelligence, agility, unwavering loyalty, and eagerness to please. & 2.484400 & 0.649000 \\\\\n",
      "5 & This article delves into the fascinating history, characteristics, and unique attributes of the Welsh Corgi breed.\n",
      " & 3.004800 & 0.490400 \\\\\n",
      "6 & From their origin as indispensable herding aides in the verdant fields of Wales to their prominence as cherished family pets and even their occasional foray into pop culture, we explore the enduring appeal of these enchanting canine companions.\n",
      " & 3.682400 & 0.041700 \\\\\n",
      "7 & Moreover, we examine the different varieties of Welsh Corgis, their temperament, care requirements, and their contributions to various aspects of human life.\n",
      " & 3.399900 & 0.116700 \\\\\n",
      "8 & Join us on this journey to discover the captivating world of Welsh Corgis, an extraordinary breed that continues to leave an indelible pawprint in the hearts of people around the globe. \n",
      "\n",
      " & 2.459500 & 0.309300 \\\\\n",
      "9 & History.\n",
      " & 3.092700 & NaN \\\\\n",
      "10 & The history of the Corgi breed is deeply rooted in the pastoral landscapes of Wales, where they played a vital role as herding dogs.\n",
      " & 2.564700 & 0.539500 \\\\\n",
      "11 & Corgi breeds are classified as Pembroke Welsh Corgi and Cardigan Welsh Corgi, both originating from a common ancestry. & 2.265500 & 0.818700 \\\\\n",
      "12 & The breeds are named for the two adjoining counties in Wales where they are thought to have originated. & 3.155700 & 0.206500 \\\\\n",
      "13 & Pembroke Welsh Corgi: The Pembroke Welsh Corgi is the more common of the two Corgi breeds and is believed to have originated in Pembrokeshire, a region in southwestern Wales.\n",
      " & 1.409600 & 0.999600 \\\\\n",
      "14 & Its history can be traced back to the 10th century, making it one of the oldest herding breeds in the British Isles.\n",
      " & 2.083800 & 0.857000 \\\\\n",
      "15 & Legend has it that the fairies and elves of Welsh folklore would ride these small herding dogs, which they believed were a gift from the woodland fairies.\n",
      " & 3.255500 & 0.034600 \\\\\n",
      "16 & The name \"Corgi\" is said to be derived from the Welsh words \"cor\" (dwarf) and \"gi\" (dog), fitting for their compact size.\n",
      " & 2.241900 & 0.754800 \\\\\n",
      "17 & Pembroke Corgis were highly valued by Welsh farmers for their agility, intelligence, and herding instincts.\n",
      " & 3.042300 & 0.430900 \\\\\n",
      "18 & The late Queen Elizabeth II held a great admiration for Pembroke Corgis, and owned over 30 Pembroke Corgis and Corgi/Dachshund mixed breeds over her lifetime. & 2.447600 & 0.614600 \\\\\n",
      "19 & They excelled at driving cattle and other livestock, herding them by nipping at their heels, a trait that they still retain today.\n",
      "\n",
      " & 3.226000 & 0.177000 \\\\\n",
      "20 & Cardigan Welsh Corgi: The Cardigan Welsh Corgi, as the name suggests, hails from Cardiganshire, another region in Wales.\n",
      " & 2.210200 & 0.854300 \\\\\n",
      "21 & Like the Pembroke, the Cardigan Corgi has an ancient lineage dating back to around 1200 AD, making it one of the oldest breeds in the British Isles.\n",
      " & 2.264800 & 0.636700 \\\\\n",
      "22 & It is believed that the Cardigan Corgi descends from a line of Scandinavian dog breeds, a relic of Nordic settlement in the region. & 3.350800 & 0.040000 \\\\\n",
      "23 & Cardigan Corgis were also adept herding dogs, but they were used to drive cattle in a slightly different manner.\n",
      " & 3.846800 & 0.043500 \\\\\n",
      "24 & Unlike the Pembroke, they had long, bushy tails, which made them easily distinguishable.\n",
      " & 2.884500 & 0.832900 \\\\\n",
      "25 & This breed was known for its endurance and versatility, making it valuable to farmers in managing their herds.\n",
      "\n",
      " & 3.413600 & 0.110400 \\\\\n",
      "26 & Distinction between the Breeds: While the Pembroke and Cardigan Corgis share many similarities, they have distinct differences in appearance and certain aspects of their temperament.\n",
      " & 2.655100 & 0.428900 \\\\\n",
      "27 & For example, the Pembroke lacks a tail or has a very short one, whereas the Cardigan has a long, flowing tail.\n",
      " & 2.810600 & 0.392600 \\\\\n",
      "28 & Pembroke Corgis are the smaller of the two breeds, in both weight and height, and have slightly pointier ears than Cardigan Corgis. & 2.392400 & 0.646000 \\\\\n",
      "29 & Additionally, the Cardigan is generally larger and more robust than the Pembroke.\n",
      "\n",
      "Recognition and Popularity: Both Corgi breeds gained popularity in the United Kingdom over the centuries, and their reputation as loyal and affectionate family pets led to their introduction to other parts of the world.\n",
      " & 2.710200 & 0.171500 \\\\\n",
      "30 & In 1933, the Pembroke and Cardigan Corgis were officially recognized as separate breeds by The Kennel Club in the UK.\n",
      " & 2.580600 & 0.598100 \\\\\n",
      "31 & Today, Welsh Corgis, especially the Pembroke, have achieved global recognition and are adored by dog enthusiasts for their charming personalities and unique appearance.\n",
      " & 2.948000 & 0.185100 \\\\\n",
      "32 & They have also made appearances in popular culture, with Pembroke Welsh Corgis being a favorite breed of Queen Elizabeth II, who has owned several Corgis during her reign.\n",
      " & 2.298100 & 0.655300 \\\\\n",
      "33 & A Welsh Corgi appeared with Queen Elizabeth II and James Bond during the 2012 London Olympics opening ceremony. & 3.111200 & 0.211400 \\\\\n",
      "34 & Despite their herding heritage gradually diminishing, Welsh Corgis continue to be cherished as beloved companions, show dogs, and loyal members of countless families worldwide.\n",
      "\n",
      " & 3.790900 & 0.011300 \\\\\n",
      "35 & Health.\n",
      " & 3.717500 & NaN \\\\\n",
      "36 & The health of Welsh Corgis, like any breed, can be influenced by various factors such as genetics, diet, exercise, and overall care.\n",
      " & 2.510700 & 0.552500 \\\\\n",
      "37 & With proper care, Welsh Corgis live between 11-13 years. & 3.694100 & NaN \\\\\n",
      "38 & While Corgis are generally robust dogs, they are prone to certain health issues, some of which are specific to the breed.\n",
      " & 2.306700 & 0.738400 \\\\\n",
      "39 & Responsible breeding practices and regular veterinary check-ups can help minimize the risk of potential health problems.\n",
      " & 2.496900 & 0.822600 \\\\\n",
      "40 & Here are some common health considerations for Welsh Corgis:\n",
      "\n",
      "Orthopedic Issues: Corgis have a long back and relatively short legs, which can make them susceptible to certain orthopedic conditions, particularly intervertebral disc disease (IVDD).\n",
      " & 2.195100 & 0.573100 \\\\\n",
      "41 & This condition involves the spinal discs degenerating or becoming herniated, which can lead to pain, mobility issues, and in severe cases, paralysis.\n",
      " & 2.508300 & 0.554200 \\\\\n",
      "42 & Owners should take care to avoid activities that put excessive strain on the dog's back, such as jumping from heights.\n",
      "\n",
      " & 2.508000 & 0.657500 \\\\\n",
      "43 & Hip Dysplasia: & 3.339700 & NaN \\\\\n",
      "44 & Hip dysplasia is a common condition in many dog breeds, including Corgis.\n",
      " & 2.539100 & NaN \\\\\n",
      "45 & It is a hereditary condition where the hip joint doesn't develop properly, leading to discomfort, pain, and eventually arthritis.\n",
      " & 2.898400 & 0.375600 \\\\\n",
      "46 & Responsible breeders often perform hip evaluations on their breeding dogs to reduce the risk of passing on this condition to their offspring.\n",
      "\n",
      " & 2.876600 & 0.307500 \\\\\n",
      "47 & Eye Problems: Some Corgis may be prone to certain eye issues, including progressive retinal atrophy (PRA), cataracts, and glaucoma.\n",
      " & 2.030600 & 0.926700 \\\\\n",
      "48 & Pembroke Corgis are more likely to suffer from eye problems, with one quarter of Corgi owners citing some form of eye condition in a recent survey. & 2.457500 & 0.579000 \\\\\n",
      "49 & Regular eye check-ups can help identify and manage these conditions early on.\n",
      "\n",
      " & 3.218200 & NaN \\\\\n",
      "50 & Degenerative Myelopathy (DM): DM is a neurological disorder that affects the spinal cord, leading to weakness and loss of coordination in the hind limbs.\n",
      " & 2.357600 & 0.714100 \\\\\n",
      "51 & While it is more commonly seen in older dogs, there is a genetic test available to identify carriers and help breeders make informed breeding decisions.\n",
      "\n",
      " & 2.790000 & 0.322300 \\\\\n",
      "52 & Obesity: & 2.981400 & NaN \\\\\n",
      "53 & Corgis have a hearty appetite and a tendency to gain weight easily, which can lead to obesity.\n",
      " & 2.726700 & 0.530300 \\\\\n",
      "54 & Being overweight can exacerbate joint issues and put additional strain on their backs.\n",
      " & 3.913700 & 0.167600 \\\\\n",
      "55 & The recommended daily intake of food for an adult Corgi is .75 to 1.5 cups split across two meals. & 3.370000 & 0.128400 \\\\\n",
      "56 & A balanced diet and regular exercise are essential for maintaining a healthy weight.\n",
      "\n",
      " & 2.099800 & 1.000100 \\\\\n",
      "57 & Allergies: Some Corgis may suffer from food or environmental allergies.\n",
      " & 3.196000 & NaN \\\\\n",
      "58 & Common signs include itching, redness, and ear infections.\n",
      " & 3.850500 & NaN \\\\\n",
      "59 & Identifying and avoiding allergens can help manage these issues.\n",
      "\n",
      " & 3.322600 & NaN \\\\\n",
      "60 & Von Willebrand's Disease: & 3.601100 & NaN \\\\\n",
      "61 & This is a hereditary bleeding disorder that affects the blood's ability to clot properly.\n",
      " & 2.724900 & 0.671600 \\\\\n",
      "62 & Responsible breeders screen for this condition to prevent its transmission to puppies.\n",
      "\n",
      " & 3.376100 & NaN \\\\\n",
      "63 & Bloat (Gastric Dilatation-Volvulus): Like many deep-chested breeds, Corgis may be at risk of bloat, a serious and potentially life-threatening condition where the stomach fills with gas and twists.\n",
      " & 2.408000 & 0.567100 \\\\\n",
      "64 & Feeding multiple smaller meals a day, rather than one large meal, and avoiding vigorous exercise after meals can help reduce the risk of bloat.\n",
      "\n",
      " & 2.785800 & 0.362600 \\\\\n",
      "65 & It's important for prospective Corgi owners to work with reputable breeders who prioritize the health and well-being of their dogs.\n",
      " & 2.386700 & 0.722100 \\\\\n",
      "66 & Regular visits to the veterinarian, a balanced diet, proper exercise, and early detection of any health issues are key to ensuring a long and healthy life for these delightful dogs.\n",
      "\n",
      " & 2.354900 & 0.532500 \\\\\n",
      "67 & Cultural Impact.\n",
      " & 6.137900 & NaN \\\\\n",
      "68 & Welsh Corgis have had a significant cultural impact, both in their country of origin, Wales, and around the world.\n",
      " & 2.491800 & 0.731300 \\\\\n",
      "69 & Their charming looks, endearing personalities, and historical significance have earned them a special place in various aspects of popular culture.\n",
      " & 3.135600 & 0.170700 \\\\\n",
      "70 & Here are some ways in which Corgis have left their mark:\n",
      "\n",
      "Royal Association: One of the most notable cultural impacts of Corgis comes from their association with the British royal family, particularly with Queen Elizabeth II.\n",
      " & 2.683900 & 0.194200 \\\\\n",
      "71 & Her Majesty has been an avid lover of Corgis throughout her reign and has owned many of them over the years.\n",
      " & 2.510600 & 0.630000 \\\\\n",
      "72 & The Queen's fondness for Corgis has influenced public perception of the breed, making them highly recognizable and admired worldwide.\n",
      " & 3.263300 & 0.157400 \\\\\n",
      "73 & Their presence in royal events, official portraits, and media coverage has further contributed to their popularity.\n",
      "\n",
      " & 3.826200 & 0.109400 \\\\\n",
      "74 & Internet Sensation: Welsh Corgis have achieved internet stardom, thanks to their adorable appearance and quirky antics.\n",
      " & 3.303400 & 0.287600 \\\\\n",
      "75 & Their enthusiastic nature and fox-like features make them natural stars. & 4.642300 & NaN \\\\\n",
      "76 & Numerous Corgi videos, photos, and memes have gone viral on social media platforms, making them one of the most beloved dog breeds on the internet.\n",
      " & 2.552800 & 0.534400 \\\\\n",
      "77 & Online communities dedicated to Corgis have thrived, with fans sharing their experiences, stories, and admiration for these delightful dogs.\n",
      "\n",
      " & 3.387100 & 0.123700 \\\\\n",
      "78 & Media Appearances: & 3.977000 & NaN \\\\\n",
      "79 & Corgis have appeared in various films, TV shows, and commercials, showcasing their charm and intelligence on the big and small screens.\n",
      " & 2.556800 & 0.587300 \\\\\n",
      "80 & They have appeared in several animated productions, including the film The Queen’s Corgi and the anime series Cowboy Bebop. & 3.512000 & 0.082000 \\\\\n",
      "81 & Their roles in popular culture often emphasize their herding instincts and playful personalities, making them endearing characters for audiences of all ages.\n",
      "\n",
      " & 3.381800 & 0.118600 \\\\\n",
      "82 & Merchandise and Pop Culture Icons: The popularity of Corgis has extended to the world of merchandise and pop culture.\n",
      " & 2.945400 & 0.344300 \\\\\n",
      "83 & You can find Corgi-themed products, including clothing, accessories, home decor, and toys, in stores and online shops.\n",
      " & 2.639600 & 0.560400 \\\\\n",
      "84 & Corgis have also inspired the creation of fictional characters in video games, cartoons, and literature, further embedding themselves in the cultural landscape.\n",
      "\n",
      "Corgi Conventions and Events: Corgi-themed events and conventions have emerged in various parts of the world, where Corgi owners and enthusiasts come together to celebrate their favorite breed.\n",
      " & 2.402500 & 0.501700 \\\\\n",
      "85 & Over 1000 Corgis meet each year in San Francisco at the annual Corgi Con event. & 2.859100 & 0.547300 \\\\\n",
      "86 & These gatherings provide opportunities for Corgis to socialize and for their owners to share stories, tips, and experiences.\n",
      " & 2.705100 & 0.541800 \\\\\n",
      "87 & Such events have fostered a strong sense of community among Corgi enthusiasts.\n",
      "\n",
      " & 2.973200 & NaN \\\\\n",
      "88 & Mascots and Symbols: In some regions, Welsh Corgis are celebrated as mascots or symbols representing their cultural heritage.\n",
      " & 3.312300 & 0.188300 \\\\\n",
      "89 & In Wales, they are often associated with folklore and traditions, serving as iconic symbols of the country's rural heritage.\n",
      "\n",
      " & 3.260200 & 0.158300 \\\\\n",
      "90 & Philanthropic Impact: In addition to their cultural influence, Corgis have been involved in various philanthropic endeavors.\n",
      " & 2.902500 & 0.570700 \\\\\n",
      "91 & Corgi-themed fundraisers and charity events have been organized to support animal welfare causes, contributing to their positive impact beyond the realm of popular culture.\n",
      "\n",
      " & 3.635700 & 0.021100 \\\\\n",
      "92 & Overall, Welsh Corgis have become more than just a beloved dog breed; they are cultural icons that bring joy, laughter, and a sense of connection to people across the globe.\n",
      " & 2.456000 & 0.459400 \\\\\n",
      "93 & They have surpassed their humble origins in the fields of Wales to take over the world. & 3.906100 & 0.105700 \\\\\n",
      "94 & Their unique combination of historical significance, royal patronage, internet fame, and charming personality has solidified their place in popular culture and the hearts of millions.\n",
      "\n",
      "\n",
      " & 3.284100 & 0.077900 \\\\\n",
      "\\bottomrule\n",
      "\\end{tabular}\n",
      "\n"
     ]
    }
   ],
   "source": [
    "print(b.to_latex())"
   ]
  },
  {
   "cell_type": "code",
   "execution_count": 107,
   "id": "9d163be0",
   "metadata": {},
   "outputs": [
    {
     "ename": "TypeError",
     "evalue": "replace() argument 2 must be str, not int",
     "output_type": "error",
     "traceback": [
      "\u001b[0;31m---------------------------------------------------------------------------\u001b[0m",
      "\u001b[0;31mTypeError\u001b[0m                                 Traceback (most recent call last)",
      "Cell \u001b[0;32mIn[107], line 3\u001b[0m\n\u001b[1;32m      1\u001b[0m a[\u001b[39m'\u001b[39m\u001b[39mresponse\u001b[39m\u001b[39m'\u001b[39m] \u001b[39m=\u001b[39m a[\u001b[39m'\u001b[39m\u001b[39mresponse\u001b[39m\u001b[39m'\u001b[39m]\u001b[39m.\u001b[39mround(\u001b[39m2\u001b[39m)\n\u001b[1;32m      2\u001b[0m a[\u001b[39m'\u001b[39m\u001b[39mpvalue\u001b[39m\u001b[39m'\u001b[39m] \u001b[39m=\u001b[39m a[\u001b[39m'\u001b[39m\u001b[39mpvalue\u001b[39m\u001b[39m'\u001b[39m]\u001b[39m.\u001b[39mround(\u001b[39m4\u001b[39m)\n\u001b[0;32m----> 3\u001b[0m \u001b[39mprint\u001b[39m(a\u001b[39m.\u001b[39;49mhead(\u001b[39m6\u001b[39;49m)\u001b[39m.\u001b[39;49mto_latex(decimal\u001b[39m=\u001b[39;49m\u001b[39m4\u001b[39;49m))\n",
      "File \u001b[0;32m~/Dropbox/Research/AuthorshipAI/env/lib/python3.10/site-packages/pandas/core/generic.py:3459\u001b[0m, in \u001b[0;36mNDFrame.to_latex\u001b[0;34m(self, buf, columns, header, index, na_rep, formatters, float_format, sparsify, index_names, bold_rows, column_format, longtable, escape, encoding, decimal, multicolumn, multicolumn_format, multirow, caption, label, position)\u001b[0m\n\u001b[1;32m   3437\u001b[0m     hide_\u001b[39m.\u001b[39mappend({\u001b[39m\"\u001b[39m\u001b[39mnames\u001b[39m\u001b[39m\"\u001b[39m: \u001b[39mTrue\u001b[39;00m, \u001b[39m\"\u001b[39m\u001b[39maxis\u001b[39m\u001b[39m\"\u001b[39m: \u001b[39m\"\u001b[39m\u001b[39mindex\u001b[39m\u001b[39m\"\u001b[39m})\n\u001b[1;32m   3439\u001b[0m render_kwargs_ \u001b[39m=\u001b[39m {\n\u001b[1;32m   3440\u001b[0m     \u001b[39m\"\u001b[39m\u001b[39mhrules\u001b[39m\u001b[39m\"\u001b[39m: \u001b[39mTrue\u001b[39;00m,\n\u001b[1;32m   3441\u001b[0m     \u001b[39m\"\u001b[39m\u001b[39msparse_index\u001b[39m\u001b[39m\"\u001b[39m: sparsify,\n\u001b[0;32m   (...)\u001b[0m\n\u001b[1;32m   3456\u001b[0m     \u001b[39m\"\u001b[39m\u001b[39mbold_rows\u001b[39m\u001b[39m\"\u001b[39m: bold_rows,\n\u001b[1;32m   3457\u001b[0m }\n\u001b[0;32m-> 3459\u001b[0m \u001b[39mreturn\u001b[39;00m \u001b[39mself\u001b[39;49m\u001b[39m.\u001b[39;49m_to_latex_via_styler(\n\u001b[1;32m   3460\u001b[0m     buf,\n\u001b[1;32m   3461\u001b[0m     hide\u001b[39m=\u001b[39;49mhide_,\n\u001b[1;32m   3462\u001b[0m     relabel_index\u001b[39m=\u001b[39;49mrelabel_index_,\n\u001b[1;32m   3463\u001b[0m     \u001b[39mformat\u001b[39;49m\u001b[39m=\u001b[39;49m{\u001b[39m\"\u001b[39;49m\u001b[39mformatter\u001b[39;49m\u001b[39m\"\u001b[39;49m: formatters_, \u001b[39m*\u001b[39;49m\u001b[39m*\u001b[39;49mbase_format_},\n\u001b[1;32m   3464\u001b[0m     format_index\u001b[39m=\u001b[39;49mformat_index_,\n\u001b[1;32m   3465\u001b[0m     render_kwargs\u001b[39m=\u001b[39;49mrender_kwargs_,\n\u001b[1;32m   3466\u001b[0m )\n",
      "File \u001b[0;32m~/Dropbox/Research/AuthorshipAI/env/lib/python3.10/site-packages/pandas/core/generic.py:3533\u001b[0m, in \u001b[0;36mNDFrame._to_latex_via_styler\u001b[0;34m(self, buf, hide, relabel_index, format, format_index, render_kwargs)\u001b[0m\n\u001b[1;32m   3530\u001b[0m \u001b[39mif\u001b[39;00m render_kwargs\u001b[39m.\u001b[39mpop(\u001b[39m\"\u001b[39m\u001b[39mbold_rows\u001b[39m\u001b[39m\"\u001b[39m):\n\u001b[1;32m   3531\u001b[0m     styler\u001b[39m.\u001b[39mapplymap_index(\u001b[39mlambda\u001b[39;00m v: \u001b[39m\"\u001b[39m\u001b[39mtextbf:--rwrap;\u001b[39m\u001b[39m\"\u001b[39m)\n\u001b[0;32m-> 3533\u001b[0m \u001b[39mreturn\u001b[39;00m styler\u001b[39m.\u001b[39;49mto_latex(buf\u001b[39m=\u001b[39;49mbuf, \u001b[39m*\u001b[39;49m\u001b[39m*\u001b[39;49mrender_kwargs)\n",
      "File \u001b[0;32m~/Dropbox/Research/AuthorshipAI/env/lib/python3.10/site-packages/pandas/io/formats/style.py:1134\u001b[0m, in \u001b[0;36mStyler.to_latex\u001b[0;34m(self, buf, column_format, position, position_float, hrules, clines, label, caption, sparse_index, sparse_columns, multirow_align, multicol_align, siunitx, environment, encoding, convert_css)\u001b[0m\n\u001b[1;32m   1132\u001b[0m multicol_align \u001b[39m=\u001b[39m multicol_align \u001b[39mor\u001b[39;00m get_option(\u001b[39m\"\u001b[39m\u001b[39mstyler.latex.multicol_align\u001b[39m\u001b[39m\"\u001b[39m)\n\u001b[1;32m   1133\u001b[0m multirow_align \u001b[39m=\u001b[39m multirow_align \u001b[39mor\u001b[39;00m get_option(\u001b[39m\"\u001b[39m\u001b[39mstyler.latex.multirow_align\u001b[39m\u001b[39m\"\u001b[39m)\n\u001b[0;32m-> 1134\u001b[0m latex \u001b[39m=\u001b[39m obj\u001b[39m.\u001b[39;49m_render_latex(\n\u001b[1;32m   1135\u001b[0m     sparse_index\u001b[39m=\u001b[39;49msparse_index,\n\u001b[1;32m   1136\u001b[0m     sparse_columns\u001b[39m=\u001b[39;49msparse_columns,\n\u001b[1;32m   1137\u001b[0m     multirow_align\u001b[39m=\u001b[39;49mmultirow_align,\n\u001b[1;32m   1138\u001b[0m     multicol_align\u001b[39m=\u001b[39;49mmulticol_align,\n\u001b[1;32m   1139\u001b[0m     environment\u001b[39m=\u001b[39;49menvironment,\n\u001b[1;32m   1140\u001b[0m     convert_css\u001b[39m=\u001b[39;49mconvert_css,\n\u001b[1;32m   1141\u001b[0m     siunitx\u001b[39m=\u001b[39;49msiunitx,\n\u001b[1;32m   1142\u001b[0m     clines\u001b[39m=\u001b[39;49mclines,\n\u001b[1;32m   1143\u001b[0m )\n\u001b[1;32m   1145\u001b[0m encoding \u001b[39m=\u001b[39m (\n\u001b[1;32m   1146\u001b[0m     (encoding \u001b[39mor\u001b[39;00m get_option(\u001b[39m\"\u001b[39m\u001b[39mstyler.render.encoding\u001b[39m\u001b[39m\"\u001b[39m))\n\u001b[1;32m   1147\u001b[0m     \u001b[39mif\u001b[39;00m \u001b[39misinstance\u001b[39m(buf, \u001b[39mstr\u001b[39m)  \u001b[39m# i.e. a filepath\u001b[39;00m\n\u001b[1;32m   1148\u001b[0m     \u001b[39melse\u001b[39;00m encoding\n\u001b[1;32m   1149\u001b[0m )\n\u001b[1;32m   1150\u001b[0m \u001b[39mreturn\u001b[39;00m save_to_buffer(latex, buf\u001b[39m=\u001b[39mbuf, encoding\u001b[39m=\u001b[39mencoding)\n",
      "File \u001b[0;32m~/Dropbox/Research/AuthorshipAI/env/lib/python3.10/site-packages/pandas/io/formats/style_render.py:219\u001b[0m, in \u001b[0;36mStylerRenderer._render_latex\u001b[0;34m(self, sparse_index, sparse_columns, clines, **kwargs)\u001b[0m\n\u001b[1;32m    213\u001b[0m \u001b[39mdef\u001b[39;00m \u001b[39m_render_latex\u001b[39m(\n\u001b[1;32m    214\u001b[0m     \u001b[39mself\u001b[39m, sparse_index: \u001b[39mbool\u001b[39m, sparse_columns: \u001b[39mbool\u001b[39m, clines: \u001b[39mstr\u001b[39m \u001b[39m|\u001b[39m \u001b[39mNone\u001b[39;00m, \u001b[39m*\u001b[39m\u001b[39m*\u001b[39mkwargs\n\u001b[1;32m    215\u001b[0m ) \u001b[39m-\u001b[39m\u001b[39m>\u001b[39m \u001b[39mstr\u001b[39m:\n\u001b[1;32m    216\u001b[0m \u001b[39m    \u001b[39m\u001b[39m\"\"\"\u001b[39;00m\n\u001b[1;32m    217\u001b[0m \u001b[39m    Render a Styler in latex format\u001b[39;00m\n\u001b[1;32m    218\u001b[0m \u001b[39m    \"\"\"\u001b[39;00m\n\u001b[0;32m--> 219\u001b[0m     d \u001b[39m=\u001b[39m \u001b[39mself\u001b[39;49m\u001b[39m.\u001b[39;49m_render(sparse_index, sparse_columns, \u001b[39mNone\u001b[39;49;00m, \u001b[39mNone\u001b[39;49;00m)\n\u001b[1;32m    220\u001b[0m     \u001b[39mself\u001b[39m\u001b[39m.\u001b[39m_translate_latex(d, clines\u001b[39m=\u001b[39mclines)\n\u001b[1;32m    221\u001b[0m     \u001b[39mself\u001b[39m\u001b[39m.\u001b[39mtemplate_latex\u001b[39m.\u001b[39mglobals[\u001b[39m\"\u001b[39m\u001b[39mparse_wrap\u001b[39m\u001b[39m\"\u001b[39m] \u001b[39m=\u001b[39m _parse_latex_table_wrapping\n",
      "File \u001b[0;32m~/Dropbox/Research/AuthorshipAI/env/lib/python3.10/site-packages/pandas/io/formats/style_render.py:188\u001b[0m, in \u001b[0;36mStylerRenderer._render\u001b[0;34m(self, sparse_index, sparse_columns, max_rows, max_cols, blank)\u001b[0m\n\u001b[1;32m    184\u001b[0m         \u001b[39mself\u001b[39m\u001b[39m.\u001b[39mctx_index[(r \u001b[39m+\u001b[39m ctx_len, c)] \u001b[39m=\u001b[39m v\n\u001b[1;32m    186\u001b[0m     ctx_len \u001b[39m+\u001b[39m\u001b[39m=\u001b[39m \u001b[39mlen\u001b[39m(concatenated\u001b[39m.\u001b[39mindex)\n\u001b[0;32m--> 188\u001b[0m d \u001b[39m=\u001b[39m \u001b[39mself\u001b[39;49m\u001b[39m.\u001b[39;49m_translate(\n\u001b[1;32m    189\u001b[0m     sparse_index, sparse_columns, max_rows, max_cols, blank, dxs\n\u001b[1;32m    190\u001b[0m )\n\u001b[1;32m    191\u001b[0m \u001b[39mreturn\u001b[39;00m d\n",
      "File \u001b[0;32m~/Dropbox/Research/AuthorshipAI/env/lib/python3.10/site-packages/pandas/io/formats/style_render.py:336\u001b[0m, in \u001b[0;36mStylerRenderer._translate\u001b[0;34m(self, sparse_index, sparse_cols, max_rows, max_cols, blank, dxs)\u001b[0m\n\u001b[1;32m    330\u001b[0m \u001b[39mself\u001b[39m\u001b[39m.\u001b[39mcellstyle_map: DefaultDict[\u001b[39mtuple\u001b[39m[CSSPair, \u001b[39m.\u001b[39m\u001b[39m.\u001b[39m\u001b[39m.\u001b[39m], \u001b[39mlist\u001b[39m[\u001b[39mstr\u001b[39m]] \u001b[39m=\u001b[39m defaultdict(\n\u001b[1;32m    331\u001b[0m     \u001b[39mlist\u001b[39m\n\u001b[1;32m    332\u001b[0m )\n\u001b[1;32m    333\u001b[0m \u001b[39mself\u001b[39m\u001b[39m.\u001b[39mcellstyle_map_index: DefaultDict[\n\u001b[1;32m    334\u001b[0m     \u001b[39mtuple\u001b[39m[CSSPair, \u001b[39m.\u001b[39m\u001b[39m.\u001b[39m\u001b[39m.\u001b[39m], \u001b[39mlist\u001b[39m[\u001b[39mstr\u001b[39m]\n\u001b[1;32m    335\u001b[0m ] \u001b[39m=\u001b[39m defaultdict(\u001b[39mlist\u001b[39m)\n\u001b[0;32m--> 336\u001b[0m body: \u001b[39mlist\u001b[39m \u001b[39m=\u001b[39m \u001b[39mself\u001b[39;49m\u001b[39m.\u001b[39;49m_translate_body(idx_lengths, max_rows, max_cols)\n\u001b[1;32m    337\u001b[0m d\u001b[39m.\u001b[39mupdate({\u001b[39m\"\u001b[39m\u001b[39mbody\u001b[39m\u001b[39m\"\u001b[39m: body})\n\u001b[1;32m    339\u001b[0m ctx_maps \u001b[39m=\u001b[39m {\n\u001b[1;32m    340\u001b[0m     \u001b[39m\"\u001b[39m\u001b[39mcellstyle\u001b[39m\u001b[39m\"\u001b[39m: \u001b[39m\"\u001b[39m\u001b[39mcellstyle_map\u001b[39m\u001b[39m\"\u001b[39m,\n\u001b[1;32m    341\u001b[0m     \u001b[39m\"\u001b[39m\u001b[39mcellstyle_index\u001b[39m\u001b[39m\"\u001b[39m: \u001b[39m\"\u001b[39m\u001b[39mcellstyle_map_index\u001b[39m\u001b[39m\"\u001b[39m,\n\u001b[1;32m    342\u001b[0m     \u001b[39m\"\u001b[39m\u001b[39mcellstyle_columns\u001b[39m\u001b[39m\"\u001b[39m: \u001b[39m\"\u001b[39m\u001b[39mcellstyle_map_columns\u001b[39m\u001b[39m\"\u001b[39m,\n\u001b[1;32m    343\u001b[0m }  \u001b[39m# add the cell_ids styles map to the render dictionary in right format\u001b[39;00m\n",
      "File \u001b[0;32m~/Dropbox/Research/AuthorshipAI/env/lib/python3.10/site-packages/pandas/io/formats/style_render.py:626\u001b[0m, in \u001b[0;36mStylerRenderer._translate_body\u001b[0;34m(self, idx_lengths, max_rows, max_cols)\u001b[0m\n\u001b[1;32m    618\u001b[0m     \u001b[39mif\u001b[39;00m \u001b[39mself\u001b[39m\u001b[39m.\u001b[39m_check_trim(\n\u001b[1;32m    619\u001b[0m         visible_row_count,\n\u001b[1;32m    620\u001b[0m         max_rows,\n\u001b[1;32m    621\u001b[0m         body,\n\u001b[1;32m    622\u001b[0m         \u001b[39m\"\u001b[39m\u001b[39mrow\u001b[39m\u001b[39m\"\u001b[39m,\n\u001b[1;32m    623\u001b[0m     ):\n\u001b[1;32m    624\u001b[0m         \u001b[39mbreak\u001b[39;00m\n\u001b[0;32m--> 626\u001b[0m     body_row \u001b[39m=\u001b[39m \u001b[39mself\u001b[39;49m\u001b[39m.\u001b[39;49m_generate_body_row(\n\u001b[1;32m    627\u001b[0m         (r, row_tup, rlabels), max_cols, idx_lengths\n\u001b[1;32m    628\u001b[0m     )\n\u001b[1;32m    629\u001b[0m     body\u001b[39m.\u001b[39mappend(body_row)\n\u001b[1;32m    630\u001b[0m \u001b[39mreturn\u001b[39;00m body\n",
      "File \u001b[0;32m~/Dropbox/Research/AuthorshipAI/env/lib/python3.10/site-packages/pandas/io/formats/style_render.py:767\u001b[0m, in \u001b[0;36mStylerRenderer._generate_body_row\u001b[0;34m(self, iter, max_cols, idx_lengths)\u001b[0m\n\u001b[1;32m    755\u001b[0m \u001b[39mfor\u001b[39;00m c, value \u001b[39min\u001b[39;00m \u001b[39menumerate\u001b[39m(rlabels[r]):\n\u001b[1;32m    756\u001b[0m     header_element_visible \u001b[39m=\u001b[39m (\n\u001b[1;32m    757\u001b[0m         _is_visible(r, c, idx_lengths) \u001b[39mand\u001b[39;00m \u001b[39mnot\u001b[39;00m \u001b[39mself\u001b[39m\u001b[39m.\u001b[39mhide_index_[c]\n\u001b[1;32m    758\u001b[0m     )\n\u001b[1;32m    759\u001b[0m     header_element \u001b[39m=\u001b[39m _element(\n\u001b[1;32m    760\u001b[0m         \u001b[39m\"\u001b[39m\u001b[39mth\u001b[39m\u001b[39m\"\u001b[39m,\n\u001b[1;32m    761\u001b[0m         (\n\u001b[1;32m    762\u001b[0m             \u001b[39mf\u001b[39m\u001b[39m\"\u001b[39m\u001b[39m{\u001b[39;00m\u001b[39mself\u001b[39m\u001b[39m.\u001b[39mcss[\u001b[39m'\u001b[39m\u001b[39mrow_heading\u001b[39m\u001b[39m'\u001b[39m]\u001b[39m}\u001b[39;00m\u001b[39m \u001b[39m\u001b[39m{\u001b[39;00m\u001b[39mself\u001b[39m\u001b[39m.\u001b[39mcss[\u001b[39m'\u001b[39m\u001b[39mlevel\u001b[39m\u001b[39m'\u001b[39m]\u001b[39m}\u001b[39;00m\u001b[39m{\u001b[39;00mc\u001b[39m}\u001b[39;00m\u001b[39m \u001b[39m\u001b[39m\"\u001b[39m\n\u001b[1;32m    763\u001b[0m             \u001b[39mf\u001b[39m\u001b[39m\"\u001b[39m\u001b[39m{\u001b[39;00m\u001b[39mself\u001b[39m\u001b[39m.\u001b[39mcss[\u001b[39m'\u001b[39m\u001b[39mrow\u001b[39m\u001b[39m'\u001b[39m]\u001b[39m}\u001b[39;00m\u001b[39m{\u001b[39;00mr\u001b[39m}\u001b[39;00m\u001b[39m\"\u001b[39m\n\u001b[1;32m    764\u001b[0m         ),\n\u001b[1;32m    765\u001b[0m         value,\n\u001b[1;32m    766\u001b[0m         header_element_visible,\n\u001b[0;32m--> 767\u001b[0m         display_value\u001b[39m=\u001b[39m\u001b[39mself\u001b[39;49m\u001b[39m.\u001b[39;49m_display_funcs_index[(r, c)](value),\n\u001b[1;32m    768\u001b[0m         attributes\u001b[39m=\u001b[39m(\n\u001b[1;32m    769\u001b[0m             \u001b[39mf\u001b[39m\u001b[39m'\u001b[39m\u001b[39mrowspan=\u001b[39m\u001b[39m\"\u001b[39m\u001b[39m{\u001b[39;00midx_lengths\u001b[39m.\u001b[39mget((c,\u001b[39m \u001b[39mr),\u001b[39m \u001b[39m\u001b[39m0\u001b[39m)\u001b[39m}\u001b[39;00m\u001b[39m\"\u001b[39m\u001b[39m'\u001b[39m\n\u001b[1;32m    770\u001b[0m             \u001b[39mif\u001b[39;00m idx_lengths\u001b[39m.\u001b[39mget((c, r), \u001b[39m0\u001b[39m) \u001b[39m>\u001b[39m \u001b[39m1\u001b[39m\n\u001b[1;32m    771\u001b[0m             \u001b[39melse\u001b[39;00m \u001b[39m\"\u001b[39m\u001b[39m\"\u001b[39m\n\u001b[1;32m    772\u001b[0m         ),\n\u001b[1;32m    773\u001b[0m     )\n\u001b[1;32m    775\u001b[0m     \u001b[39mif\u001b[39;00m \u001b[39mself\u001b[39m\u001b[39m.\u001b[39mcell_ids:\n\u001b[1;32m    776\u001b[0m         header_element[\n\u001b[1;32m    777\u001b[0m             \u001b[39m\"\u001b[39m\u001b[39mid\u001b[39m\u001b[39m\"\u001b[39m\n\u001b[1;32m    778\u001b[0m         ] \u001b[39m=\u001b[39m \u001b[39mf\u001b[39m\u001b[39m\"\u001b[39m\u001b[39m{\u001b[39;00m\u001b[39mself\u001b[39m\u001b[39m.\u001b[39mcss[\u001b[39m'\u001b[39m\u001b[39mlevel\u001b[39m\u001b[39m'\u001b[39m]\u001b[39m}\u001b[39;00m\u001b[39m{\u001b[39;00mc\u001b[39m}\u001b[39;00m\u001b[39m_\u001b[39m\u001b[39m{\u001b[39;00m\u001b[39mself\u001b[39m\u001b[39m.\u001b[39mcss[\u001b[39m'\u001b[39m\u001b[39mrow\u001b[39m\u001b[39m'\u001b[39m]\u001b[39m}\u001b[39;00m\u001b[39m{\u001b[39;00mr\u001b[39m}\u001b[39;00m\u001b[39m\"\u001b[39m  \u001b[39m# id is given\u001b[39;00m\n",
      "File \u001b[0;32m~/Dropbox/Research/AuthorshipAI/env/lib/python3.10/site-packages/pandas/io/formats/style_render.py:1814\u001b[0m, in \u001b[0;36m_maybe_wrap_formatter.<locals>.<lambda>\u001b[0;34m(x)\u001b[0m\n\u001b[1;32m   1812\u001b[0m     \u001b[39mreturn\u001b[39;00m func_3\n\u001b[1;32m   1813\u001b[0m \u001b[39melse\u001b[39;00m:\n\u001b[0;32m-> 1814\u001b[0m     \u001b[39mreturn\u001b[39;00m \u001b[39mlambda\u001b[39;00m x: na_rep \u001b[39mif\u001b[39;00m (isna(x) \u001b[39mis\u001b[39;00m \u001b[39mTrue\u001b[39;00m) \u001b[39melse\u001b[39;00m func_3(x)\n",
      "File \u001b[0;32m~/Dropbox/Research/AuthorshipAI/env/lib/python3.10/site-packages/pandas/io/formats/style_render.py:1727\u001b[0m, in \u001b[0;36m_wrap_decimal_thousands.<locals>.wrapper\u001b[0;34m(x)\u001b[0m\n\u001b[1;32m   1720\u001b[0m     \u001b[39mreturn\u001b[39;00m (\n\u001b[1;32m   1721\u001b[0m         formatter(x)\n\u001b[1;32m   1722\u001b[0m         \u001b[39m.\u001b[39mreplace(\u001b[39m\"\u001b[39m\u001b[39m,\u001b[39m\u001b[39m\"\u001b[39m, \u001b[39m\"\u001b[39m\u001b[39m§_§-\u001b[39m\u001b[39m\"\u001b[39m)  \u001b[39m# rare string to avoid \",\" <-> \".\" clash.\u001b[39;00m\n\u001b[1;32m   1723\u001b[0m         \u001b[39m.\u001b[39mreplace(\u001b[39m\"\u001b[39m\u001b[39m.\u001b[39m\u001b[39m\"\u001b[39m, decimal)\n\u001b[1;32m   1724\u001b[0m         \u001b[39m.\u001b[39mreplace(\u001b[39m\"\u001b[39m\u001b[39m§_§-\u001b[39m\u001b[39m\"\u001b[39m, thousands)\n\u001b[1;32m   1725\u001b[0m     )\n\u001b[1;32m   1726\u001b[0m \u001b[39melif\u001b[39;00m decimal \u001b[39m!=\u001b[39m \u001b[39m\"\u001b[39m\u001b[39m.\u001b[39m\u001b[39m\"\u001b[39m \u001b[39mand\u001b[39;00m (thousands \u001b[39mis\u001b[39;00m \u001b[39mNone\u001b[39;00m \u001b[39mor\u001b[39;00m thousands \u001b[39m==\u001b[39m \u001b[39m\"\u001b[39m\u001b[39m,\u001b[39m\u001b[39m\"\u001b[39m):\n\u001b[0;32m-> 1727\u001b[0m     \u001b[39mreturn\u001b[39;00m formatter(x)\u001b[39m.\u001b[39;49mreplace(\u001b[39m\"\u001b[39;49m\u001b[39m.\u001b[39;49m\u001b[39m\"\u001b[39;49m, decimal)\n\u001b[1;32m   1728\u001b[0m \u001b[39melif\u001b[39;00m decimal \u001b[39m==\u001b[39m \u001b[39m\"\u001b[39m\u001b[39m.\u001b[39m\u001b[39m\"\u001b[39m \u001b[39mand\u001b[39;00m thousands \u001b[39mis\u001b[39;00m \u001b[39mnot\u001b[39;00m \u001b[39mNone\u001b[39;00m \u001b[39mand\u001b[39;00m thousands \u001b[39m!=\u001b[39m \u001b[39m\"\u001b[39m\u001b[39m,\u001b[39m\u001b[39m\"\u001b[39m:\n\u001b[1;32m   1729\u001b[0m     \u001b[39mreturn\u001b[39;00m formatter(x)\u001b[39m.\u001b[39mreplace(\u001b[39m\"\u001b[39m\u001b[39m,\u001b[39m\u001b[39m\"\u001b[39m, thousands)\n",
      "\u001b[0;31mTypeError\u001b[0m: replace() argument 2 must be str, not int"
     ]
    }
   ],
   "source": [
    "a['response'] = a['response'].round(2)\n",
    "a['pvalue'] = a['pvalue'].round(4)\n",
    "print(a.head(6).to_latex(decimal=4))"
   ]
  },
  {
   "cell_type": "code",
   "execution_count": 73,
   "metadata": {
    "ExecuteTime": {
     "end_time": "2023-05-08T18:55:13.450506Z",
     "start_time": "2023-05-08T18:55:13.448398Z"
    },
    "collapsed": false
   },
   "outputs": [
    {
     "data": {
      "text/plain": [
       "0.030153015301530153"
      ]
     },
     "execution_count": 73,
     "metadata": {},
     "output_type": "execute_result"
    }
   ],
   "source": []
  },
  {
   "cell_type": "markdown",
   "id": "50a3079c",
   "metadata": {},
   "source": [
    "## Embedding"
   ]
  },
  {
   "cell_type": "code",
   "execution_count": null,
   "id": "c42f2008",
   "metadata": {},
   "outputs": [],
   "source": [
    "api_key_path = '/Users/kipnisal/SybarIP/GPT4patents/api_key.txt'\n",
    "\n",
    "api_key = open(api_key_path, 'r').read()\n",
    "\n",
    "def openai_embedding(text, api_key=api_key):\n",
    "    endpoint = 'https://api.openai.com/v1/embeddings'\n",
    "\n",
    "    headers = {\n",
    "        'Content-Type': 'application/json',\n",
    "        'Authorization': f'Bearer {api_key}',\n",
    "    }\n",
    "    data = {\n",
    "        \"model\": \"text-embedding-ada-002\",\n",
    "        \"input\": text,\n",
    "    }\n",
    "    \n",
    "    response = requests.post(endpoint, headers=headers, data=json.dumps(data))\n",
    "\n",
    "    if response.status_code == 200:\n",
    "        result = response.json()\n",
    "    \n",
    "        reply = result['data']\n",
    "        if reply:\n",
    "            list_vec = reply[0]['embedding']\n",
    "            return np.array(list_vec)\n",
    "        else:\n",
    "            print(\"No reply from OpenAI.\")\n",
    "            return None\n",
    "    else:\n",
    "        print(f\"Error {response.status_code}: {response.text}\")\n",
    "        return None"
   ]
  },
  {
   "cell_type": "code",
   "execution_count": 181,
   "id": "f46747c1",
   "metadata": {},
   "outputs": [
    {
     "name": "stdout",
     "output_type": "stream",
     "text": [
      "Error 400: {\n",
      "  \"error\": {\n",
      "    \"message\": \"This model's maximum context length is 8192 tokens, however you requested 16692 tokens (16692 in your prompt; 0 for the completion). Please reduce your prompt; or completion length.\",\n",
      "    \"type\": \"invalid_request_error\",\n",
      "    \"param\": null,\n",
      "    \"code\": null\n",
      "  }\n",
      "}\n",
      "\n",
      "Could not embed /Users/kipnisal/Downloads/articles/article_1_without_edits.txt\n",
      "Error 400: {\n",
      "  \"error\": {\n",
      "    \"message\": \"This model's maximum context length is 8192 tokens, however you requested 19551 tokens (19551 in your prompt; 0 for the completion). Please reduce your prompt; or completion length.\",\n",
      "    \"type\": \"invalid_request_error\",\n",
      "    \"param\": null,\n",
      "    \"code\": null\n",
      "  }\n",
      "}\n",
      "\n",
      "Could not embed /Users/kipnisal/Downloads/articles/article_1_with_edits.txt\n"
     ]
    }
   ],
   "source": [
    "import glob\n",
    "import requests\n",
    "import json\n",
    "articles_fns = glob.glob(\"/Users/kipnisal/Downloads/articles/*.txt\")\n",
    "\n",
    "embeddings = {}\n",
    "texts = {}\n",
    "labels = {}\n",
    "for fn in articles_fns:\n",
    "    # embed every article:\n",
    "    with open(fn) as f:\n",
    "        text = f.read()\n",
    "    emb = openai_embedding(text)\n",
    "    if emb is not None and len(emb) > 100:\n",
    "        embeddings[fn] = emb\n",
    "        texts[fn] = text\n",
    "        labels[fn] = 1 if 'with_edits' in fn else 0\n",
    "    else:\n",
    "        print(f\"Could not embed {fn}\")"
   ]
  },
  {
   "cell_type": "code",
   "execution_count": 183,
   "id": "4200f83c",
   "metadata": {},
   "outputs": [
    {
     "name": "stdout",
     "output_type": "stream",
     "text": [
      "              precision    recall  f1-score   support\n",
      "\n",
      "           0       0.33      0.25      0.29         4\n",
      "           1       0.00      0.00      0.00         2\n",
      "\n",
      "    accuracy                           0.17         6\n",
      "   macro avg       0.17      0.12      0.14         6\n",
      "weighted avg       0.22      0.17      0.19         6\n",
      "\n"
     ]
    }
   ],
   "source": [
    "# use MLP to classify the articles based on their embeddings\n",
    "from sklearn.neural_network import MLPClassifier\n",
    "from sklearn.model_selection import train_test_split\n",
    "from sklearn.metrics import classification_report\n",
    "from sklearn.preprocessing import StandardScaler\n",
    "\n",
    "X = np.vstack(list(embeddings.values()))\n",
    "y = np.array(list(labels.values()))\n",
    "\n",
    "X_train, X_test, y_train, y_test = train_test_split(X, y, test_size=0.33, random_state=42)\n",
    "\n",
    "scaler = StandardScaler()\n",
    "X_train = scaler.fit_transform(X_train)\n",
    "X_test = scaler.transform(X_test)\n",
    "\n",
    "clf = MLPClassifier(hidden_layer_sizes=(100, 100), max_iter=1000)\n",
    "clf.fit(X_train, y_train)\n",
    "# scaler = StandardScaler()\n",
    "# X_train = scaler.fit_transform(X_train)\n",
    "# X_test = scaler.transform(X_test)\n",
    "\n",
    "y_pred = clf.predict(X_test)\n",
    "print(classification_report(y_test, y_pred))\n"
   ]
  },
  {
   "cell_type": "code",
   "execution_count": 216,
   "id": "f76f21e0",
   "metadata": {},
   "outputs": [
    {
     "name": "stdout",
     "output_type": "stream",
     "text": [
      "Accuracy: 0.4\n",
      "Classification Report:\n",
      "               precision    recall  f1-score   support\n",
      "\n",
      "           0       0.00      0.00      0.00         3\n",
      "           1       0.40      1.00      0.57         2\n",
      "\n",
      "    accuracy                           0.40         5\n",
      "   macro avg       0.20      0.50      0.29         5\n",
      "weighted avg       0.16      0.40      0.23         5\n",
      "\n"
     ]
    },
    {
     "name": "stderr",
     "output_type": "stream",
     "text": [
      "/Users/kipnisal/Dropbox/Research/AuthorshipAI/env/lib/python3.10/site-packages/sklearn/metrics/_classification.py:1509: UndefinedMetricWarning: Precision is ill-defined and being set to 0.0 in labels with no predicted samples. Use `zero_division` parameter to control this behavior.\n",
      "  _warn_prf(average, modifier, f\"{metric.capitalize()} is\", len(result))\n",
      "/Users/kipnisal/Dropbox/Research/AuthorshipAI/env/lib/python3.10/site-packages/sklearn/metrics/_classification.py:1509: UndefinedMetricWarning: Precision is ill-defined and being set to 0.0 in labels with no predicted samples. Use `zero_division` parameter to control this behavior.\n",
      "  _warn_prf(average, modifier, f\"{metric.capitalize()} is\", len(result))\n",
      "/Users/kipnisal/Dropbox/Research/AuthorshipAI/env/lib/python3.10/site-packages/sklearn/metrics/_classification.py:1509: UndefinedMetricWarning: Precision is ill-defined and being set to 0.0 in labels with no predicted samples. Use `zero_division` parameter to control this behavior.\n",
      "  _warn_prf(average, modifier, f\"{metric.capitalize()} is\", len(result))\n"
     ]
    }
   ],
   "source": [
    "import numpy as np\n",
    "from sklearn.feature_extraction.text import CountVectorizer, TfidfTransformer\n",
    "from sklearn.svm import SVC\n",
    "from sklearn.pipeline import Pipeline\n",
    "from sklearn.model_selection import train_test_split\n",
    "from sklearn.metrics import classification_report, accuracy_score\n",
    "\n",
    "\n",
    "# Split the data into training and test sets\n",
    "X_train, X_test, y_train, y_test = train_test_split(list(texts.values()), list(labels.values()), test_size=0.25, random_state=42)\n",
    "\n",
    "# Create a pipeline with CountVectorizer, TfidfTransformer, and SVM\n",
    "pipeline = Pipeline([\n",
    "    ('vect', CountVectorizer()),\n",
    "    #('tfidf', TfidfTransformer()),\n",
    "    ('clf', SVC(kernel='rbf'))\n",
    "])\n",
    "\n",
    "# Train the model\n",
    "pipeline.fit(X_train, y_train)\n",
    "\n",
    "# Predict on the test set\n",
    "y_pred = pipeline.predict(X_test)\n",
    "\n",
    "# Evaluate the model\n",
    "print(\"Accuracy:\", accuracy_score(y_test, y_pred))\n",
    "print(\"Classification Report:\\n\", classification_report(y_test, y_pred))\n"
   ]
  },
  {
   "cell_type": "code",
   "execution_count": 191,
   "id": "b3541834",
   "metadata": {},
   "outputs": [
    {
     "name": "stdout",
     "output_type": "stream",
     "text": [
      "Accuracy: 0.5384615384615384\n"
     ]
    }
   ],
   "source": [
    "y_pred_train = pipeline.predict(X_train)\n",
    "print(\"Accuracy:\", accuracy_score(y_train, y_pred_train))"
   ]
  },
  {
   "cell_type": "code",
   "execution_count": 220,
   "id": "ccaf79c0",
   "metadata": {},
   "outputs": [
    {
     "data": {
      "text/plain": [
       "(4117.142857142857, 3571.8333333333335)"
      ]
     },
     "execution_count": 220,
     "metadata": {},
     "output_type": "execute_result"
    }
   ],
   "source": [
    "xx = np.array(pipeline['vect'].transform(X_train).sum(axis=1)).T[0].T\n",
    "y_train = np.array(y_train)\n",
    "xx[y_train == 1].mean(), xx[y_train == 0].mean()"
   ]
  },
  {
   "cell_type": "code",
   "execution_count": 219,
   "id": "7bc343d6",
   "metadata": {},
   "outputs": [
    {
     "data": {
      "text/plain": [
       "False"
      ]
     },
     "execution_count": 219,
     "metadata": {},
     "output_type": "execute_result"
    }
   ],
   "source": []
  },
  {
   "cell_type": "code",
   "execution_count": 214,
   "id": "0d81b0f8",
   "metadata": {},
   "outputs": [
    {
     "data": {
      "text/plain": [
       "False"
      ]
     },
     "execution_count": 214,
     "metadata": {},
     "output_type": "execute_result"
    }
   ],
   "source": [
    "y_train == 1"
   ]
  },
  {
   "cell_type": "code",
   "execution_count": null,
   "id": "dc5f5d2d",
   "metadata": {},
   "outputs": [],
   "source": []
  }
 ],
 "metadata": {
  "kernelspec": {
   "display_name": "env",
   "language": "python",
   "name": "python3"
  },
  "language_info": {
   "codemirror_mode": {
    "name": "ipython",
    "version": 3
   },
   "file_extension": ".py",
   "mimetype": "text/x-python",
   "name": "python",
   "nbconvert_exporter": "python",
   "pygments_lexer": "ipython3",
   "version": "3.10.11"
  }
 },
 "nbformat": 4,
 "nbformat_minor": 5
}
