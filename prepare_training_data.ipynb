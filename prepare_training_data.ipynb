{
 "cells": [
  {
   "cell_type": "code",
   "execution_count": 7,
   "id": "9f302d2c",
   "metadata": {
    "ExecuteTime": {
     "start_time": "2023-04-03T14:37:12.897788Z",
     "end_time": "2023-04-03T14:37:13.711516Z"
    }
   },
   "outputs": [],
   "source": [
    "import numpy as np\n",
    "import scipy\n",
    "import matplotlib.pyplot as plt\n",
    "import matplotlib as mpl\n",
    "mpl.style.use('ggplot')\n",
    "%matplotlib inline\n",
    "from tqdm import tqdm\n",
    "from multitest import MultiTest\n",
    "from datasets import load_dataset"
   ]
  },
  {
   "cell_type": "code",
   "execution_count": 5,
   "id": "0782bd8a",
   "metadata": {
    "ExecuteTime": {
     "start_time": "2023-04-03T14:34:10.045941Z",
     "end_time": "2023-04-03T14:34:10.049243Z"
    }
   },
   "outputs": [],
   "source": [
    "from scipy.interpolate import interp1d\n",
    "import pandas as pd"
   ]
  },
  {
   "cell_type": "code",
   "execution_count": 8,
   "id": "6be03ee2",
   "metadata": {
    "ExecuteTime": {
     "start_time": "2023-04-03T14:37:14.112862Z",
     "end_time": "2023-04-03T14:37:18.159519Z"
    }
   },
   "outputs": [
    {
     "name": "stderr",
     "output_type": "stream",
     "text": [
      "Using custom data configuration aadityaubhat--GPT-wiki-intro-10ad8b711a5f3880\n",
      "Found cached dataset csv (/Users/kipnisal/.cache/huggingface/datasets/aadityaubhat___csv/aadityaubhat--GPT-wiki-intro-10ad8b711a5f3880/0.0.0/6b34fb8fcf56f7c8ba51dc895bfa2bfbe43546f190a60fcf74bb5e8afdcc2317)\n"
     ]
    },
    {
     "data": {
      "text/plain": "  0%|          | 0/1 [00:00<?, ?it/s]",
      "application/vnd.jupyter.widget-view+json": {
       "version_major": 2,
       "version_minor": 0,
       "model_id": "3a4c5720d0cc40709cd1f8ab8209bb6e"
      }
     },
     "metadata": {},
     "output_type": "display_data"
    }
   ],
   "source": [
    "import numpy as np\n",
    "import torch\n",
    "import os\n",
    "dataset = load_dataset(\"aadityaubhat/GPT-wiki-intro\")"
   ]
  },
  {
   "cell_type": "code",
   "execution_count": 41,
   "id": "e11b4ebc",
   "metadata": {
    "ExecuteTime": {
     "start_time": "2023-04-03T14:53:28.190652Z",
     "end_time": "2023-04-03T14:54:18.559506Z"
    }
   },
   "outputs": [
    {
     "name": "stderr",
     "output_type": "stream",
     "text": [
      "100%|██████████| 150000/150000 [00:50<00:00, 2978.43it/s]\n"
     ]
    }
   ],
   "source": [
    "path = 'Data/GPT3/wiki/'\n",
    "for d in tqdm(dataset['train']):\n",
    "    filename = path + 'wiki_' + str(d['id']) + '.txt'\n",
    "    with open(filename, \"wt\") as f:\n",
    "        f.write(d['prompt'] + d['generated_text'])"
   ]
  },
  {
   "cell_type": "code",
   "execution_count": 40,
   "outputs": [
    {
     "data": {
      "text/plain": "'Data/GPT3/wiki/wiki_32345102.txt'"
     },
     "execution_count": 40,
     "metadata": {},
     "output_type": "execute_result"
    }
   ],
   "source": [
    "path + 'wiki_' + str(d['id']) + '.txt'"
   ],
   "metadata": {
    "collapsed": false,
    "ExecuteTime": {
     "start_time": "2023-04-03T14:53:21.572813Z",
     "end_time": "2023-04-03T14:53:21.586244Z"
    }
   }
  },
  {
   "cell_type": "code",
   "execution_count": 17,
   "outputs": [
    {
     "data": {
      "text/plain": "12"
     },
     "execution_count": 17,
     "metadata": {},
     "output_type": "execute_result"
    }
   ],
   "source": [],
   "metadata": {
    "collapsed": false,
    "ExecuteTime": {
     "start_time": "2023-04-03T14:40:39.215281Z",
     "end_time": "2023-04-03T14:40:39.217302Z"
    }
   }
  },
  {
   "cell_type": "code",
   "execution_count": null,
   "outputs": [],
   "source": [],
   "metadata": {
    "collapsed": false
   }
  }
 ],
 "metadata": {
  "kernelspec": {
   "display_name": "Python 3",
   "language": "python",
   "name": "python3"
  },
  "language_info": {
   "codemirror_mode": {
    "name": "ipython",
    "version": 3
   },
   "file_extension": ".py",
   "mimetype": "text/x-python",
   "name": "python",
   "nbconvert_exporter": "python",
   "pygments_lexer": "ipython3",
   "version": "3.8.5"
  }
 },
 "nbformat": 4,
 "nbformat_minor": 5
}
