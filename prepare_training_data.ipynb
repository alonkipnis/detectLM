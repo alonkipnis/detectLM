{
 "cells": [
  {
   "cell_type": "code",
   "execution_count": 42,
   "id": "9f302d2c",
   "metadata": {
    "ExecuteTime": {
     "start_time": "2023-04-04T11:43:56.867697Z",
     "end_time": "2023-04-04T11:43:56.869624Z"
    }
   },
   "outputs": [],
   "source": [
    "import numpy as np\n",
    "import scipy\n",
    "import matplotlib.pyplot as plt\n",
    "import matplotlib as mpl\n",
    "mpl.style.use('ggplot')\n",
    "%matplotlib inline\n",
    "from tqdm import tqdm\n",
    "from multitest import MultiTest\n",
    "from datasets import load_dataset"
   ]
  },
  {
   "cell_type": "code",
   "execution_count": 43,
   "id": "0782bd8a",
   "metadata": {
    "ExecuteTime": {
     "start_time": "2023-04-04T11:43:57.862601Z",
     "end_time": "2023-04-04T11:43:57.871321Z"
    }
   },
   "outputs": [],
   "source": [
    "from scipy.interpolate import interp1d\n",
    "import pandas as pd"
   ]
  },
  {
   "cell_type": "code",
   "execution_count": 73,
   "id": "6be03ee2",
   "metadata": {
    "ExecuteTime": {
     "start_time": "2023-04-04T13:48:02.746030Z",
     "end_time": "2023-04-04T13:48:06.435170Z"
    }
   },
   "outputs": [
    {
     "name": "stderr",
     "output_type": "stream",
     "text": [
      "Using custom data configuration potsawee--wiki_bio_gpt3_hallucination-e8e8a8d1fbf50281\n",
      "Found cached dataset json (/Users/kipnisal/.cache/huggingface/datasets/potsawee___json/potsawee--wiki_bio_gpt3_hallucination-e8e8a8d1fbf50281/0.0.0/0f7e3662623656454fcd2b650f34e886a7db4b9104504885bd462096cc7a9f51)\n"
     ]
    },
    {
     "data": {
      "text/plain": "  0%|          | 0/1 [00:00<?, ?it/s]",
      "application/vnd.jupyter.widget-view+json": {
       "version_major": 2,
       "version_minor": 0,
       "model_id": "c8ef20d9536d4fb186e81e7e1989e4eb"
      }
     },
     "metadata": {},
     "output_type": "display_data"
    }
   ],
   "source": [
    "import numpy as np\n",
    "import torch\n",
    "import os\n",
    "dataset = load_dataset(\"potsawee/wiki_bio_gpt3_hallucination\")\n",
    "#dataset = load_dataset(\"aadityaubhat/GPT-wiki-intro\")"
   ]
  },
  {
   "cell_type": "markdown",
   "source": [
    "# To do:\n",
    "- Use GPT3wikibio dataset to generate mixed pages of GPT and human text\n",
    "-"
   ],
   "metadata": {
    "collapsed": false
   }
  },
  {
   "cell_type": "code",
   "execution_count": 74,
   "id": "e11b4ebc",
   "metadata": {
    "ExecuteTime": {
     "start_time": "2023-04-04T13:48:07.397341Z",
     "end_time": "2023-04-04T13:48:11.804684Z"
    }
   },
   "outputs": [],
   "source": [
    "ll0 = []\n",
    "ll1 = []\n",
    "for d in dataset['train']:\n",
    "    ll0.append(len(d['gpt3_sentences']))\n",
    "    ll1.append(len(list(nlp(d['wiki_bio_text']).sents)))\n"
   ]
  },
  {
   "cell_type": "code",
   "execution_count": 67,
   "outputs": [],
   "source": [
    "import spacy\n",
    "nlp = spacy.load(\"en_core_web_sm\")"
   ],
   "metadata": {
    "collapsed": false,
    "ExecuteTime": {
     "start_time": "2023-04-04T13:20:20.132895Z",
     "end_time": "2023-04-04T13:20:20.640711Z"
    }
   }
  },
  {
   "cell_type": "code",
   "execution_count": 95,
   "outputs": [],
   "source": [
    "\n",
    "def mix_lists(lst0: list, lst1: list, eps: float) -> dict:\n",
    "    \"\"\"\n",
    "    Mix elements from lst0 and lst1 according to the mixture probability eps\n",
    "\n",
    "    Params:\n",
    "        :lst0   the base list\n",
    "        :lst1   the mixture list\n",
    "        :eps    the probability of replacing an element in lst0 by the corresponding element in lst1\n",
    "\n",
    "    Returns:\n",
    "        :mixted list\n",
    "        :I   indexes of replaced elements\n",
    "    \"\"\"\n",
    "    n = min(len(lst1), len(lst0))\n",
    "    I = np.random.rand(n) < eps\n",
    "    return [lst1[i] if i in I else lst0[i] for i in range(n)], I\n"
   ],
   "metadata": {
    "collapsed": false,
    "ExecuteTime": {
     "start_time": "2023-04-04T14:06:38.968639Z",
     "end_time": "2023-04-04T14:06:38.986350Z"
    }
   }
  },
  {
   "cell_type": "code",
   "execution_count": 130,
   "outputs": [],
   "source": [
    "def mix_documents(text0, text1, eps):\n",
    "    sents0 = list(nlp(text0).sents)\n",
    "    sents1 = list(nlp(text1).sents)\n",
    "    sents01, I = mix_lists(sents0, sents1, eps=eps)\n",
    "    return pd.DataFrame({'text': [s.text for s in sents01], 'mix': I})"
   ],
   "metadata": {
    "collapsed": false,
    "ExecuteTime": {
     "start_time": "2023-04-04T15:47:08.518407Z",
     "end_time": "2023-04-04T15:47:08.529222Z"
    }
   }
  },
  {
   "cell_type": "code",
   "execution_count": 135,
   "outputs": [],
   "source": [
    "eps = 0.2\n",
    "for d in dataset['train']:\n",
    "    df = mix_documents(d['gpt3_text'], d['wiki_bio_text'], eps=0.1 )\n",
    "    df.to_csv(f\"Data/GPT3/mixtures/{d['wiki_bio_test_idx']}_mix_eps{eps}.csv\")"
   ],
   "metadata": {
    "collapsed": false,
    "ExecuteTime": {
     "start_time": "2023-04-04T15:57:23.558743Z",
     "end_time": "2023-04-04T15:57:29.245739Z"
    }
   }
  },
  {
   "cell_type": "code",
   "execution_count": 129,
   "outputs": [
    {
     "data": {
      "text/plain": "{'gpt3_text': \"Ronald William George Barker, OBE (25 September 1929 – 3 October 2005), was an English actor, comedian, and writer. He was known for roles in British comedy television series such as Porridge, The Two Ronnies, and Open All Hours.\\n\\nBarker's acting career began in repertory theatre and, in the early 1960s, he appeared in several episodes of the BBC's police series Z-Cars. He also had minor roles in films such as The Magnificent Seven (1960) and The Wrong Arm of the Law (1963). In 1965, he was cast in the lead role of the BBC's sitcom The Frost Report, which also featured John Cleese, Ronnie Corbett, and other future stars of British comedy.\\n\\nBarker's career reached its peak in the 1970s with the BBC sketch show The Two Ronnies, which he co-wrote and performed with Ronnie Corbett. The show ran for 16 years and earned Barker two BAFTA awards. He also starred in the sitcoms Porridge (1974–1977) and Open All Hours (1973–1985).\\n\\nB\",\n 'wiki_bio_text': 'Ronald William George \"Ronnie\" Barker (25 September 1929 – 3 October 2005) was an English actor, comedian, and writer. He was known for roles in British comedy television series such as \"Porridge\", \"The Two Ronnies\", and \"Open All Hours\". Barker began acting in repertory theatre and decided he was best suited to comic roles. He had his first success at the Oxford Playhouse and in roles in the West End, including Tom Stoppard\\'s \"The Real Inspector Hound\". During this period, he was in the cast of BBC radio and television comedies such as \"The Navy Lark\". He got his television break with the satirical sketch series \"The Frost Report\" in 1966, where he met future collaborator Ronnie Corbett. He joined David Frost\\'s production company and starred in ITV shows, including a short film. After rejoining the BBC, Barker found fame with the sketch show \"The Two Ronnies\" (1971–1987), with Ronnie Corbett. He starred in the sitcoms \"Porridge\", its sequel \"Going Straight\", and \"Open All Hours\". He wrote comedy under his own name and the pseudonym Gerald Wiley, which Barker adopted to avoid pre-judgements of his talent. He won a BAFTA for Best Light Entertainment Performance four times, among other awards, and received an OBE in 1978. Later television sitcoms such as \"The Magnificent Evans\" and \"Clarence\" were less successful and he retired in 1987. He opened an antiques shop with his wife, Joy. After 1999, he appeared in smaller, non-comic roles in films. He died of heart failure on 3 October 2005, aged 76.',\n 'gpt3_sentences': ['Ronald William George Barker, OBE (25 September 1929 – 3 October 2005), was an English actor, comedian, and writer.',\n  'He was known for roles in British comedy television series such as Porridge, The Two Ronnies, and Open All Hours.',\n  \"Barker's acting career began in repertory theatre and, in the early 1960s, he appeared in several episodes of the BBC's police series Z-Cars.\",\n  'He also had minor roles in films such as The Magnificent Seven (1960) and The Wrong Arm of the Law (1963).',\n  \"In 1965, he was cast in the lead role of the BBC's sitcom The Frost Report, which also featured John Cleese, Ronnie Corbett, and other future stars of British comedy.\",\n  \"Barker's career reached its peak in the 1970s with the BBC sketch show The Two Ronnies, which he co-wrote and performed with Ronnie Corbett.\",\n  'The show ran for 16 years and earned Barker two BAFTA awards.',\n  'He also starred in the sitcoms Porridge (1974–1977) and Open All Hours (1973–1985).'],\n 'annotation': ['accurate',\n  'accurate',\n  'minor_inaccurate',\n  'minor_inaccurate',\n  'accurate',\n  'accurate',\n  'accurate',\n  'minor_inaccurate'],\n 'wiki_bio_test_idx': 37992}"
     },
     "execution_count": 129,
     "metadata": {},
     "output_type": "execute_result"
    }
   ],
   "source": [],
   "metadata": {
    "collapsed": false,
    "ExecuteTime": {
     "start_time": "2023-04-04T15:46:45.587126Z",
     "end_time": "2023-04-04T15:46:45.596906Z"
    }
   }
  },
  {
   "cell_type": "code",
   "execution_count": 121,
   "outputs": [
    {
     "data": {
      "text/plain": "                                                   0  \\\n0  (Ronald, William, George, Barker, ,, OBE, (, 2...   \n1  (He, was, known, for, roles, in, British, come...   \n2  (Barker, 's, acting, career, began, in, repert...   \n3  (He, also, had, minor, roles, in, films, such,...   \n4  (In, 1965, ,, he, was, cast, in, the, lead, ro...   \n5  (Barker, 's, career, reached, its, peak, in, t...   \n6  (The, show, ran, for, 16, years, and, earned, ...   \n7  (He, also, starred, in, the, sitcoms, Porridge...   \n8                                                (B)   \n\n                                                   1  \n0  (Ronald, William, George, \", Ronnie, \", Barker...  \n1  (He, was, known, for, roles, in, British, come...  \n2  (Barker, began, acting, in, repertory, theatre...  \n3  (He, had, his, first, success, at, the, Oxford...  \n4  (During, this, period, ,, he, was, in, the, ca...  \n5  (He, got, his, television, break, with, the, s...  \n6  (He, joined, David, Frost, 's, production, com...  \n7  (After, rejoining, the, BBC, ,, Barker, found,...  \n8  (He, starred, in, the, sitcoms, \", Porridge, \"...  ",
      "text/html": "<div>\n<style scoped>\n    .dataframe tbody tr th:only-of-type {\n        vertical-align: middle;\n    }\n\n    .dataframe tbody tr th {\n        vertical-align: top;\n    }\n\n    .dataframe thead th {\n        text-align: right;\n    }\n</style>\n<table border=\"1\" class=\"dataframe\">\n  <thead>\n    <tr style=\"text-align: right;\">\n      <th></th>\n      <th>0</th>\n      <th>1</th>\n    </tr>\n  </thead>\n  <tbody>\n    <tr>\n      <th>0</th>\n      <td>(Ronald, William, George, Barker, ,, OBE, (, 2...</td>\n      <td>(Ronald, William, George, \", Ronnie, \", Barker...</td>\n    </tr>\n    <tr>\n      <th>1</th>\n      <td>(He, was, known, for, roles, in, British, come...</td>\n      <td>(He, was, known, for, roles, in, British, come...</td>\n    </tr>\n    <tr>\n      <th>2</th>\n      <td>(Barker, 's, acting, career, began, in, repert...</td>\n      <td>(Barker, began, acting, in, repertory, theatre...</td>\n    </tr>\n    <tr>\n      <th>3</th>\n      <td>(He, also, had, minor, roles, in, films, such,...</td>\n      <td>(He, had, his, first, success, at, the, Oxford...</td>\n    </tr>\n    <tr>\n      <th>4</th>\n      <td>(In, 1965, ,, he, was, cast, in, the, lead, ro...</td>\n      <td>(During, this, period, ,, he, was, in, the, ca...</td>\n    </tr>\n    <tr>\n      <th>5</th>\n      <td>(Barker, 's, career, reached, its, peak, in, t...</td>\n      <td>(He, got, his, television, break, with, the, s...</td>\n    </tr>\n    <tr>\n      <th>6</th>\n      <td>(The, show, ran, for, 16, years, and, earned, ...</td>\n      <td>(He, joined, David, Frost, 's, production, com...</td>\n    </tr>\n    <tr>\n      <th>7</th>\n      <td>(He, also, starred, in, the, sitcoms, Porridge...</td>\n      <td>(After, rejoining, the, BBC, ,, Barker, found,...</td>\n    </tr>\n    <tr>\n      <th>8</th>\n      <td>(B)</td>\n      <td>(He, starred, in, the, sitcoms, \", Porridge, \"...</td>\n    </tr>\n  </tbody>\n</table>\n</div>"
     },
     "execution_count": 121,
     "metadata": {},
     "output_type": "execute_result"
    }
   ],
   "source": [
    "pd.DataFrame({0:sents0, 1:sents1[:len(sents0)] })"
   ],
   "metadata": {
    "collapsed": false,
    "ExecuteTime": {
     "start_time": "2023-04-04T15:39:23.632579Z",
     "end_time": "2023-04-04T15:39:23.640374Z"
    }
   }
  },
  {
   "cell_type": "code",
   "execution_count": 122,
   "outputs": [
    {
     "data": {
      "text/plain": "array([False,  True, False, False, False, False, False, False, False])"
     },
     "execution_count": 122,
     "metadata": {},
     "output_type": "execute_result"
    }
   ],
   "source": [
    "I"
   ],
   "metadata": {
    "collapsed": false,
    "ExecuteTime": {
     "start_time": "2023-04-04T15:39:53.866083Z",
     "end_time": "2023-04-04T15:39:53.879618Z"
    }
   }
  },
  {
   "cell_type": "code",
   "execution_count": 107,
   "outputs": [
    {
     "data": {
      "text/plain": "      sr                                               text\n0  False  (Ronald, William, George, \", Ronnie, \", Barker...\n1   True  (He, was, known, for, roles, in, British, come...\n2   True  (Barker, 's, acting, career, began, in, repert...\n3  False  (He, also, had, minor, roles, in, films, such,...\n4  False  (In, 1965, ,, he, was, cast, in, the, lead, ro...\n5  False  (Barker, 's, career, reached, its, peak, in, t...\n6   True  (The, show, ran, for, 16, years, and, earned, ...\n7  False  (He, also, starred, in, the, sitcoms, Porridge...\n8  False                                                (B)",
      "text/html": "<div>\n<style scoped>\n    .dataframe tbody tr th:only-of-type {\n        vertical-align: middle;\n    }\n\n    .dataframe tbody tr th {\n        vertical-align: top;\n    }\n\n    .dataframe thead th {\n        text-align: right;\n    }\n</style>\n<table border=\"1\" class=\"dataframe\">\n  <thead>\n    <tr style=\"text-align: right;\">\n      <th></th>\n      <th>sr</th>\n      <th>text</th>\n    </tr>\n  </thead>\n  <tbody>\n    <tr>\n      <th>0</th>\n      <td>False</td>\n      <td>(Ronald, William, George, \", Ronnie, \", Barker...</td>\n    </tr>\n    <tr>\n      <th>1</th>\n      <td>True</td>\n      <td>(He, was, known, for, roles, in, British, come...</td>\n    </tr>\n    <tr>\n      <th>2</th>\n      <td>True</td>\n      <td>(Barker, 's, acting, career, began, in, repert...</td>\n    </tr>\n    <tr>\n      <th>3</th>\n      <td>False</td>\n      <td>(He, also, had, minor, roles, in, films, such,...</td>\n    </tr>\n    <tr>\n      <th>4</th>\n      <td>False</td>\n      <td>(In, 1965, ,, he, was, cast, in, the, lead, ro...</td>\n    </tr>\n    <tr>\n      <th>5</th>\n      <td>False</td>\n      <td>(Barker, 's, career, reached, its, peak, in, t...</td>\n    </tr>\n    <tr>\n      <th>6</th>\n      <td>True</td>\n      <td>(The, show, ran, for, 16, years, and, earned, ...</td>\n    </tr>\n    <tr>\n      <th>7</th>\n      <td>False</td>\n      <td>(He, also, starred, in, the, sitcoms, Porridge...</td>\n    </tr>\n    <tr>\n      <th>8</th>\n      <td>False</td>\n      <td>(B)</td>\n    </tr>\n  </tbody>\n</table>\n</div>"
     },
     "execution_count": 107,
     "metadata": {},
     "output_type": "execute_result"
    }
   ],
   "source": [
    "pd.DataFrame({'sr':I, 'text' : sents01})"
   ],
   "metadata": {
    "collapsed": false,
    "ExecuteTime": {
     "start_time": "2023-04-04T15:34:47.072374Z",
     "end_time": "2023-04-04T15:34:47.077448Z"
    }
   }
  },
  {
   "cell_type": "code",
   "execution_count": 102,
   "outputs": [
    {
     "data": {
      "text/plain": "array([False, False, False, False,  True, False, False, False, False])"
     },
     "execution_count": 102,
     "metadata": {},
     "output_type": "execute_result"
    }
   ],
   "source": [],
   "metadata": {
    "collapsed": false,
    "ExecuteTime": {
     "start_time": "2023-04-04T14:08:04.203537Z",
     "end_time": "2023-04-04T14:08:04.217599Z"
    }
   }
  },
  {
   "cell_type": "code",
   "execution_count": null,
   "outputs": [],
   "source": [],
   "metadata": {
    "collapsed": false
   }
  }
 ],
 "metadata": {
  "kernelspec": {
   "display_name": "Python 3",
   "language": "python",
   "name": "python3"
  },
  "language_info": {
   "codemirror_mode": {
    "name": "ipython",
    "version": 3
   },
   "file_extension": ".py",
   "mimetype": "text/x-python",
   "name": "python",
   "nbconvert_exporter": "python",
   "pygments_lexer": "ipython3",
   "version": "3.8.5"
  }
 },
 "nbformat": 4,
 "nbformat_minor": 5
}
