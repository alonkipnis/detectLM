{
 "cells": [
  {
   "cell_type": "code",
   "execution_count": 2,
   "id": "9f302d2c",
   "metadata": {
    "ExecuteTime": {
     "start_time": "2023-04-19T17:58:24.208921Z",
     "end_time": "2023-04-19T17:58:26.870527Z"
    }
   },
   "outputs": [],
   "source": [
    "import numpy as np\n",
    "import scipy\n",
    "import matplotlib.pyplot as plt\n",
    "import matplotlib as mpl\n",
    "mpl.style.use('ggplot')\n",
    "%matplotlib inline\n",
    "from tqdm import tqdm\n",
    "from multitest import MultiTest\n",
    "from datasets import load_dataset"
   ]
  },
  {
   "cell_type": "code",
   "execution_count": 3,
   "id": "0782bd8a",
   "metadata": {
    "ExecuteTime": {
     "start_time": "2023-04-19T17:58:26.872482Z",
     "end_time": "2023-04-19T17:58:26.875726Z"
    }
   },
   "outputs": [],
   "source": [
    "from scipy.interpolate import interp1d\n",
    "import pandas as pd"
   ]
  },
  {
   "cell_type": "code",
   "execution_count": 4,
   "id": "6be03ee2",
   "metadata": {
    "ExecuteTime": {
     "start_time": "2023-04-19T17:58:26.877397Z",
     "end_time": "2023-04-19T17:58:39.285891Z"
    }
   },
   "outputs": [
    {
     "data": {
      "text/plain": "Downloading readme:   0%|          | 0.00/1.88k [00:00<?, ?B/s]",
      "application/vnd.jupyter.widget-view+json": {
       "version_major": 2,
       "version_minor": 0,
       "model_id": "cedf5e62c6914f54ad651b1bc1543ed7"
      }
     },
     "metadata": {},
     "output_type": "display_data"
    },
    {
     "name": "stdout",
     "output_type": "stream",
     "text": [
      "Downloading and preparing dataset json/potsawee--wiki_bio_gpt3_hallucination to /Users/kipnisal/.cache/huggingface/datasets/potsawee___json/potsawee--wiki_bio_gpt3_hallucination-465f6ac34e6e5bc5/0.0.0/0f7e3662623656454fcd2b650f34e886a7db4b9104504885bd462096cc7a9f51...\n"
     ]
    },
    {
     "data": {
      "text/plain": "Downloading data files:   0%|          | 0/1 [00:00<?, ?it/s]",
      "application/vnd.jupyter.widget-view+json": {
       "version_major": 2,
       "version_minor": 0,
       "model_id": "5d392060767c4bb185706de1f69d5f55"
      }
     },
     "metadata": {},
     "output_type": "display_data"
    },
    {
     "data": {
      "text/plain": "Downloading data:   0%|          | 0.00/3.10M [00:00<?, ?B/s]",
      "application/vnd.jupyter.widget-view+json": {
       "version_major": 2,
       "version_minor": 0,
       "model_id": "08749fabb0be4639a0b65d29de1cd799"
      }
     },
     "metadata": {},
     "output_type": "display_data"
    },
    {
     "data": {
      "text/plain": "Extracting data files:   0%|          | 0/1 [00:00<?, ?it/s]",
      "application/vnd.jupyter.widget-view+json": {
       "version_major": 2,
       "version_minor": 0,
       "model_id": "62c4ef6150c54e2caea5379212f84944"
      }
     },
     "metadata": {},
     "output_type": "display_data"
    },
    {
     "data": {
      "text/plain": "Generating train split: 0 examples [00:00, ? examples/s]",
      "application/vnd.jupyter.widget-view+json": {
       "version_major": 2,
       "version_minor": 0,
       "model_id": "4de132f6a585425b8ecc2d09444d4b44"
      }
     },
     "metadata": {},
     "output_type": "display_data"
    },
    {
     "name": "stdout",
     "output_type": "stream",
     "text": [
      "Dataset json downloaded and prepared to /Users/kipnisal/.cache/huggingface/datasets/potsawee___json/potsawee--wiki_bio_gpt3_hallucination-465f6ac34e6e5bc5/0.0.0/0f7e3662623656454fcd2b650f34e886a7db4b9104504885bd462096cc7a9f51. Subsequent calls will reuse this data.\n"
     ]
    },
    {
     "data": {
      "text/plain": "  0%|          | 0/1 [00:00<?, ?it/s]",
      "application/vnd.jupyter.widget-view+json": {
       "version_major": 2,
       "version_minor": 0,
       "model_id": "0a940a0c4d5844e399de651ad7d40d94"
      }
     },
     "metadata": {},
     "output_type": "display_data"
    },
    {
     "data": {
      "text/plain": "Downloading readme:   0%|          | 0.00/7.45k [00:00<?, ?B/s]",
      "application/vnd.jupyter.widget-view+json": {
       "version_major": 2,
       "version_minor": 0,
       "model_id": "5f3ec51d13d04060831d3f3f8015ab9e"
      }
     },
     "metadata": {},
     "output_type": "display_data"
    },
    {
     "name": "stdout",
     "output_type": "stream",
     "text": [
      "Downloading and preparing dataset None/None to /Users/kipnisal/.cache/huggingface/datasets/isarth___parquet/isarth--chatgpt-news-articles-e568db48d4ca104a/0.0.0/2a3b91fbd88a2c90d1dbbb32b460cf621d31bd5b05b934492fdef7d8d6f236ec...\n"
     ]
    },
    {
     "data": {
      "text/plain": "Downloading data files:   0%|          | 0/2 [00:00<?, ?it/s]",
      "application/vnd.jupyter.widget-view+json": {
       "version_major": 2,
       "version_minor": 0,
       "model_id": "5474516e6de345a895efeb6d706beb21"
      }
     },
     "metadata": {},
     "output_type": "display_data"
    },
    {
     "data": {
      "text/plain": "Downloading data:   0%|          | 0.00/55.8M [00:00<?, ?B/s]",
      "application/vnd.jupyter.widget-view+json": {
       "version_major": 2,
       "version_minor": 0,
       "model_id": "5a6f567156714b3fae78d261f4af32fa"
      }
     },
     "metadata": {},
     "output_type": "display_data"
    },
    {
     "data": {
      "text/plain": "Downloading data:   0%|          | 0.00/14.0M [00:00<?, ?B/s]",
      "application/vnd.jupyter.widget-view+json": {
       "version_major": 2,
       "version_minor": 0,
       "model_id": "589f0b8a3df4448d85bfaebbcfe93791"
      }
     },
     "metadata": {},
     "output_type": "display_data"
    },
    {
     "data": {
      "text/plain": "Extracting data files:   0%|          | 0/2 [00:00<?, ?it/s]",
      "application/vnd.jupyter.widget-view+json": {
       "version_major": 2,
       "version_minor": 0,
       "model_id": "3c0f7828895b43c8a3c9ec405a2f1731"
      }
     },
     "metadata": {},
     "output_type": "display_data"
    },
    {
     "data": {
      "text/plain": "Generating train split:   0%|          | 0/20000 [00:00<?, ? examples/s]",
      "application/vnd.jupyter.widget-view+json": {
       "version_major": 2,
       "version_minor": 0,
       "model_id": "ae3025182fe7461aa0c3d4e161db811d"
      }
     },
     "metadata": {},
     "output_type": "display_data"
    },
    {
     "data": {
      "text/plain": "Generating test split:   0%|          | 0/5000 [00:00<?, ? examples/s]",
      "application/vnd.jupyter.widget-view+json": {
       "version_major": 2,
       "version_minor": 0,
       "model_id": "e4e50d03dd004ee5a5abf94d8813a4f0"
      }
     },
     "metadata": {},
     "output_type": "display_data"
    },
    {
     "name": "stdout",
     "output_type": "stream",
     "text": [
      "Dataset parquet downloaded and prepared to /Users/kipnisal/.cache/huggingface/datasets/isarth___parquet/isarth--chatgpt-news-articles-e568db48d4ca104a/0.0.0/2a3b91fbd88a2c90d1dbbb32b460cf621d31bd5b05b934492fdef7d8d6f236ec. Subsequent calls will reuse this data.\n"
     ]
    },
    {
     "data": {
      "text/plain": "  0%|          | 0/2 [00:00<?, ?it/s]",
      "application/vnd.jupyter.widget-view+json": {
       "version_major": 2,
       "version_minor": 0,
       "model_id": "14bb3e8a4559442f817c631a2dfe608c"
      }
     },
     "metadata": {},
     "output_type": "display_data"
    }
   ],
   "source": [
    "import numpy as np\n",
    "import torch\n",
    "import os\n",
    "dataset = load_dataset(\"potsawee/wiki_bio_gpt3_hallucination\")\n",
    "dataset = load_dataset(\"isarth/chatgpt-news-articles\")\n",
    "#dataset = load_dataset(\"aadityaubhat/GPT-wiki-intro\")"
   ]
  },
  {
   "cell_type": "markdown",
   "source": [
    "# To do (19/4/2023):\n",
    "- Evaluate atomic detectors on \"chatgpt-news-articles\"\n",
    "- Create a (fixed) dataset containing mixtures of GPT and human texts"
   ],
   "metadata": {
    "collapsed": false
   }
  },
  {
   "cell_type": "code",
   "execution_count": 17,
   "outputs": [
    {
     "name": "stderr",
     "output_type": "stream",
     "text": [
      "Found cached dataset json (/Users/kipnisal/.cache/huggingface/datasets/potsawee___json/potsawee--wiki_bio_gpt3_hallucination-465f6ac34e6e5bc5/0.0.0/0f7e3662623656454fcd2b650f34e886a7db4b9104504885bd462096cc7a9f51)\n"
     ]
    },
    {
     "data": {
      "text/plain": "  0%|          | 0/1 [00:00<?, ?it/s]",
      "application/vnd.jupyter.widget-view+json": {
       "version_major": 2,
       "version_minor": 0,
       "model_id": "ce592949568548debaea7622b824d61d"
      }
     },
     "metadata": {},
     "output_type": "display_data"
    },
    {
     "data": {
      "text/plain": "dict_keys(['gpt3_text', 'wiki_bio_text', 'gpt3_sentences', 'annotation', 'wiki_bio_test_idx', 'gpt3_text_samples'])"
     },
     "execution_count": 17,
     "metadata": {},
     "output_type": "execute_result"
    }
   ],
   "source": [
    "dataset = load_dataset(\"potsawee/wiki_bio_gpt3_hallucination\")\n",
    "dataset['train'][1].keys()"
   ],
   "metadata": {
    "collapsed": false,
    "ExecuteTime": {
     "start_time": "2023-04-19T22:21:32.530466Z",
     "end_time": "2023-04-19T22:21:34.378018Z"
    }
   }
  },
  {
   "cell_type": "code",
   "execution_count": null,
   "id": "e11b4ebc",
   "metadata": {
    "ExecuteTime": {
     "start_time": "2023-04-04T13:48:07.397341Z",
     "end_time": "2023-04-04T13:48:11.804684Z"
    }
   },
   "outputs": [],
   "source": [
    "ll0 = []\n",
    "ll1 = []\n",
    "for d in dataset['train']:\n",
    "    ll0.append(len(d['gpt3_sentences']))\n",
    "    ll1.append(len(list(nlp(d['wiki_bio_text']).sents)))\n"
   ]
  },
  {
   "cell_type": "code",
   "execution_count": 67,
   "outputs": [],
   "source": [
    "import spacy\n",
    "nlp = spacy.load(\"en_core_web_sm\")"
   ],
   "metadata": {
    "collapsed": false,
    "ExecuteTime": {
     "start_time": "2023-04-04T13:20:20.132895Z",
     "end_time": "2023-04-04T13:20:20.640711Z"
    }
   }
  },
  {
   "cell_type": "code",
   "execution_count": 95,
   "outputs": [],
   "source": [
    "\n",
    "def mix_lists(lst0: list, lst1: list, eps: float) -> (list, list):\n",
    "    \"\"\"\n",
    "    Mix elements from lst0 and lst1 according to the mixture probability eps\n",
    "\n",
    "    Params:\n",
    "        :lst0   the base list\n",
    "        :lst1   the mixture list\n",
    "        :eps    the probability of replacing an element in lst0 by the corresponding element in lst1\n",
    "\n",
    "    Returns:\n",
    "        :mixed list\n",
    "        :I   indexes of replaced elements\n",
    "    \"\"\"\n",
    "    n = min(len(lst1), len(lst0))\n",
    "    I = np.random.rand(n) < eps\n",
    "    return [lst1[i] if i in I else lst0[i] for i in range(n)], I\n"
   ],
   "metadata": {
    "collapsed": false,
    "ExecuteTime": {
     "start_time": "2023-04-04T14:06:38.968639Z",
     "end_time": "2023-04-04T14:06:38.986350Z"
    }
   }
  },
  {
   "cell_type": "code",
   "execution_count": 130,
   "outputs": [],
   "source": [
    "def mix_documents(text0, text1, eps):\n",
    "    sents0 = list(nlp(text0).sents)\n",
    "    sents1 = list(nlp(text1).sents)\n",
    "    sents01, I = mix_lists(sents0, sents1, eps=eps)\n",
    "    return pd.DataFrame({'text': [s.text for s in sents01], 'mix': I})"
   ],
   "metadata": {
    "collapsed": false,
    "ExecuteTime": {
     "start_time": "2023-04-04T15:47:08.518407Z",
     "end_time": "2023-04-04T15:47:08.529222Z"
    }
   }
  },
  {
   "cell_type": "code",
   "execution_count": 135,
   "outputs": [],
   "source": [
    "eps = 0.2\n",
    "for d in dataset['train']:\n",
    "    df = mix_documents(d['gpt3_text'], d['wiki_bio_text'], eps=0.1 )\n",
    "    df.to_csv(f\"Data/GPT3/mixtures/{d['wiki_bio_test_idx']}_mix_eps{eps}.csv\")"
   ],
   "metadata": {
    "collapsed": false,
    "ExecuteTime": {
     "start_time": "2023-04-04T15:57:23.558743Z",
     "end_time": "2023-04-04T15:57:29.245739Z"
    }
   }
  },
  {
   "cell_type": "code",
   "execution_count": 141,
   "outputs": [],
   "source": [
    "s = next(nlp(d['gpt3_text']).sents)"
   ],
   "metadata": {
    "collapsed": false,
    "ExecuteTime": {
     "start_time": "2023-04-04T17:42:57.991058Z",
     "end_time": "2023-04-04T17:42:58.036875Z"
    }
   }
  },
  {
   "cell_type": "code",
   "execution_count": 145,
   "outputs": [
    {
     "data": {
      "text/plain": "'Ronald William George Barker, OBE (25 September 1929 – 3 October 2005), was an English actor, comedian, and writer.'"
     },
     "execution_count": 145,
     "metadata": {},
     "output_type": "execute_result"
    }
   ],
   "source": [
    "str(s)"
   ],
   "metadata": {
    "collapsed": false,
    "ExecuteTime": {
     "start_time": "2023-04-04T17:43:16.682572Z",
     "end_time": "2023-04-04T17:43:16.693267Z"
    }
   }
  },
  {
   "cell_type": "code",
   "execution_count": 139,
   "outputs": [
    {
     "name": "stdout",
     "output_type": "stream",
     "text": [
      "Ronald William George Barker, OBE (25 September 1929 – 3 October 2005), was an English actor, comedian, and writer.\n",
      "He was known for roles in British comedy television series such as Porridge, The Two Ronnies, and Open All Hours.\n",
      "\n",
      "\n",
      "Barker's acting career began in repertory theatre and, in the early 1960s, he appeared in several episodes of the BBC's police series Z-Cars.\n",
      "He also had minor roles in films such as The Magnificent Seven (1960) and The Wrong Arm of the Law (1963).\n",
      "In 1965, he was cast in the lead role of the BBC's sitcom The Frost Report, which also featured John Cleese, Ronnie Corbett, and other future stars of British comedy.\n",
      "\n",
      "\n",
      "Barker's career reached its peak in the 1970s with the BBC sketch show The Two Ronnies, which he co-wrote and performed with Ronnie Corbett.\n",
      "The show ran for 16 years and earned Barker two BAFTA awards.\n",
      "He also starred in the sitcoms Porridge (1974–1977) and Open All Hours (1973–1985).\n",
      "\n",
      "\n",
      "B\n"
     ]
    }
   ],
   "source": [
    "for s in nlp(d['gpt3_text']).sents:\n",
    "    print(str(s))"
   ],
   "metadata": {
    "collapsed": false,
    "ExecuteTime": {
     "start_time": "2023-04-04T17:42:30.229693Z",
     "end_time": "2023-04-04T17:42:30.293465Z"
    }
   }
  },
  {
   "cell_type": "code",
   "execution_count": 121,
   "outputs": [
    {
     "data": {
      "text/plain": "                                                   0  \\\n0  (Ronald, William, George, Barker, ,, OBE, (, 2...   \n1  (He, was, known, for, roles, in, British, come...   \n2  (Barker, 's, acting, career, began, in, repert...   \n3  (He, also, had, minor, roles, in, films, such,...   \n4  (In, 1965, ,, he, was, cast, in, the, lead, ro...   \n5  (Barker, 's, career, reached, its, peak, in, t...   \n6  (The, show, ran, for, 16, years, and, earned, ...   \n7  (He, also, starred, in, the, sitcoms, Porridge...   \n8                                                (B)   \n\n                                                   1  \n0  (Ronald, William, George, \", Ronnie, \", Barker...  \n1  (He, was, known, for, roles, in, British, come...  \n2  (Barker, began, acting, in, repertory, theatre...  \n3  (He, had, his, first, success, at, the, Oxford...  \n4  (During, this, period, ,, he, was, in, the, ca...  \n5  (He, got, his, television, break, with, the, s...  \n6  (He, joined, David, Frost, 's, production, com...  \n7  (After, rejoining, the, BBC, ,, Barker, found,...  \n8  (He, starred, in, the, sitcoms, \", Porridge, \"...  ",
      "text/html": "<div>\n<style scoped>\n    .dataframe tbody tr th:only-of-type {\n        vertical-align: middle;\n    }\n\n    .dataframe tbody tr th {\n        vertical-align: top;\n    }\n\n    .dataframe thead th {\n        text-align: right;\n    }\n</style>\n<table border=\"1\" class=\"dataframe\">\n  <thead>\n    <tr style=\"text-align: right;\">\n      <th></th>\n      <th>0</th>\n      <th>1</th>\n    </tr>\n  </thead>\n  <tbody>\n    <tr>\n      <th>0</th>\n      <td>(Ronald, William, George, Barker, ,, OBE, (, 2...</td>\n      <td>(Ronald, William, George, \", Ronnie, \", Barker...</td>\n    </tr>\n    <tr>\n      <th>1</th>\n      <td>(He, was, known, for, roles, in, British, come...</td>\n      <td>(He, was, known, for, roles, in, British, come...</td>\n    </tr>\n    <tr>\n      <th>2</th>\n      <td>(Barker, 's, acting, career, began, in, repert...</td>\n      <td>(Barker, began, acting, in, repertory, theatre...</td>\n    </tr>\n    <tr>\n      <th>3</th>\n      <td>(He, also, had, minor, roles, in, films, such,...</td>\n      <td>(He, had, his, first, success, at, the, Oxford...</td>\n    </tr>\n    <tr>\n      <th>4</th>\n      <td>(In, 1965, ,, he, was, cast, in, the, lead, ro...</td>\n      <td>(During, this, period, ,, he, was, in, the, ca...</td>\n    </tr>\n    <tr>\n      <th>5</th>\n      <td>(Barker, 's, career, reached, its, peak, in, t...</td>\n      <td>(He, got, his, television, break, with, the, s...</td>\n    </tr>\n    <tr>\n      <th>6</th>\n      <td>(The, show, ran, for, 16, years, and, earned, ...</td>\n      <td>(He, joined, David, Frost, 's, production, com...</td>\n    </tr>\n    <tr>\n      <th>7</th>\n      <td>(He, also, starred, in, the, sitcoms, Porridge...</td>\n      <td>(After, rejoining, the, BBC, ,, Barker, found,...</td>\n    </tr>\n    <tr>\n      <th>8</th>\n      <td>(B)</td>\n      <td>(He, starred, in, the, sitcoms, \", Porridge, \"...</td>\n    </tr>\n  </tbody>\n</table>\n</div>"
     },
     "execution_count": 121,
     "metadata": {},
     "output_type": "execute_result"
    }
   ],
   "source": [
    "pd.DataFrame({0:sents0, 1:sents1[:len(sents0)] })"
   ],
   "metadata": {
    "collapsed": false,
    "ExecuteTime": {
     "start_time": "2023-04-04T15:39:23.632579Z",
     "end_time": "2023-04-04T15:39:23.640374Z"
    }
   }
  },
  {
   "cell_type": "code",
   "execution_count": 122,
   "outputs": [
    {
     "data": {
      "text/plain": "array([False,  True, False, False, False, False, False, False, False])"
     },
     "execution_count": 122,
     "metadata": {},
     "output_type": "execute_result"
    }
   ],
   "source": [
    "I"
   ],
   "metadata": {
    "collapsed": false,
    "ExecuteTime": {
     "start_time": "2023-04-04T15:39:53.866083Z",
     "end_time": "2023-04-04T15:39:53.879618Z"
    }
   }
  },
  {
   "cell_type": "code",
   "execution_count": 107,
   "outputs": [
    {
     "data": {
      "text/plain": "      sr                                               text\n0  False  (Ronald, William, George, \", Ronnie, \", Barker...\n1   True  (He, was, known, for, roles, in, British, come...\n2   True  (Barker, 's, acting, career, began, in, repert...\n3  False  (He, also, had, minor, roles, in, films, such,...\n4  False  (In, 1965, ,, he, was, cast, in, the, lead, ro...\n5  False  (Barker, 's, career, reached, its, peak, in, t...\n6   True  (The, show, ran, for, 16, years, and, earned, ...\n7  False  (He, also, starred, in, the, sitcoms, Porridge...\n8  False                                                (B)",
      "text/html": "<div>\n<style scoped>\n    .dataframe tbody tr th:only-of-type {\n        vertical-align: middle;\n    }\n\n    .dataframe tbody tr th {\n        vertical-align: top;\n    }\n\n    .dataframe thead th {\n        text-align: right;\n    }\n</style>\n<table border=\"1\" class=\"dataframe\">\n  <thead>\n    <tr style=\"text-align: right;\">\n      <th></th>\n      <th>sr</th>\n      <th>text</th>\n    </tr>\n  </thead>\n  <tbody>\n    <tr>\n      <th>0</th>\n      <td>False</td>\n      <td>(Ronald, William, George, \", Ronnie, \", Barker...</td>\n    </tr>\n    <tr>\n      <th>1</th>\n      <td>True</td>\n      <td>(He, was, known, for, roles, in, British, come...</td>\n    </tr>\n    <tr>\n      <th>2</th>\n      <td>True</td>\n      <td>(Barker, 's, acting, career, began, in, repert...</td>\n    </tr>\n    <tr>\n      <th>3</th>\n      <td>False</td>\n      <td>(He, also, had, minor, roles, in, films, such,...</td>\n    </tr>\n    <tr>\n      <th>4</th>\n      <td>False</td>\n      <td>(In, 1965, ,, he, was, cast, in, the, lead, ro...</td>\n    </tr>\n    <tr>\n      <th>5</th>\n      <td>False</td>\n      <td>(Barker, 's, career, reached, its, peak, in, t...</td>\n    </tr>\n    <tr>\n      <th>6</th>\n      <td>True</td>\n      <td>(The, show, ran, for, 16, years, and, earned, ...</td>\n    </tr>\n    <tr>\n      <th>7</th>\n      <td>False</td>\n      <td>(He, also, starred, in, the, sitcoms, Porridge...</td>\n    </tr>\n    <tr>\n      <th>8</th>\n      <td>False</td>\n      <td>(B)</td>\n    </tr>\n  </tbody>\n</table>\n</div>"
     },
     "execution_count": 107,
     "metadata": {},
     "output_type": "execute_result"
    }
   ],
   "source": [
    "pd.DataFrame({'sr':I, 'text' : sents01})"
   ],
   "metadata": {
    "collapsed": false,
    "ExecuteTime": {
     "start_time": "2023-04-04T15:34:47.072374Z",
     "end_time": "2023-04-04T15:34:47.077448Z"
    }
   }
  },
  {
   "cell_type": "code",
   "execution_count": 102,
   "outputs": [
    {
     "data": {
      "text/plain": "array([False, False, False, False,  True, False, False, False, False])"
     },
     "execution_count": 102,
     "metadata": {},
     "output_type": "execute_result"
    }
   ],
   "source": [],
   "metadata": {
    "collapsed": false,
    "ExecuteTime": {
     "start_time": "2023-04-04T14:08:04.203537Z",
     "end_time": "2023-04-04T14:08:04.217599Z"
    }
   }
  },
  {
   "cell_type": "code",
   "execution_count": null,
   "outputs": [],
   "source": [],
   "metadata": {
    "collapsed": false
   }
  }
 ],
 "metadata": {
  "kernelspec": {
   "display_name": "Python 3",
   "language": "python",
   "name": "python3"
  },
  "language_info": {
   "codemirror_mode": {
    "name": "ipython",
    "version": 3
   },
   "file_extension": ".py",
   "mimetype": "text/x-python",
   "name": "python",
   "nbconvert_exporter": "python",
   "pygments_lexer": "ipython3",
   "version": "3.8.5"
  }
 },
 "nbformat": 4,
 "nbformat_minor": 5
}
