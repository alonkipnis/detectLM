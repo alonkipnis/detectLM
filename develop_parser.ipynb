{
 "cells": [
  {
   "cell_type": "code",
   "execution_count": 138,
   "id": "9f302d2c",
   "metadata": {
    "ExecuteTime": {
     "start_time": "2023-04-23T22:20:02.881221Z",
     "end_time": "2023-04-23T22:20:02.970377Z"
    }
   },
   "outputs": [],
   "source": [
    "import numpy as np\n",
    "import scipy\n",
    "import matplotlib.pyplot as plt\n",
    "import matplotlib as mpl\n",
    "mpl.style.use('ggplot')\n",
    "%matplotlib inline\n",
    "from tqdm import tqdm\n",
    "from datasets import load_dataset\n",
    "\n",
    "import logging\n",
    "import spacy\n"
   ]
  },
  {
   "cell_type": "code",
   "execution_count": 139,
   "id": "0782bd8a",
   "metadata": {
    "ExecuteTime": {
     "start_time": "2023-04-23T22:20:02.976710Z",
     "end_time": "2023-04-23T22:20:02.978559Z"
    }
   },
   "outputs": [],
   "source": [
    "from scipy.interpolate import interp1d\n",
    "import pandas as pd\n",
    "from src.PrepareSentenceContext import PrepareSentenceContext"
   ]
  },
  {
   "cell_type": "code",
   "execution_count": 139,
   "outputs": [],
   "source": [],
   "metadata": {
    "collapsed": false,
    "ExecuteTime": {
     "start_time": "2023-04-23T22:20:03.380425Z",
     "end_time": "2023-04-23T22:20:03.389486Z"
    }
   }
  },
  {
   "cell_type": "code",
   "execution_count": 140,
   "outputs": [],
   "source": [
    "import spacy\n",
    "import re\n",
    "\n",
    "\n",
    "class Sentences(object):\n",
    "    def __init__(self, texts):\n",
    "        def iterate(texts):\n",
    "            for t in texts:\n",
    "                yield t\n",
    "\n",
    "        self.sents = iterate(texts)\n",
    "\n",
    "\n",
    "class PandasParser(object):\n",
    "    \"\"\"\n",
    "    Iterate over the text column of a dataframe\n",
    "    \"\"\"\n",
    "\n",
    "    def __init__(self, text_value='text'):\n",
    "        self.text_value = text_value\n",
    "        self.sents = None\n",
    "\n",
    "    def __call__(self, df):\n",
    "        texts = list(df[self.text_value])\n",
    "        return Sentences(texts)\n",
    "\n",
    "\n",
    "\n",
    "class PrepareSentenceContext(object):\n",
    "    \"\"\"\n",
    "    Parse text and extract length and context information\n",
    "\n",
    "    This information is needed for evaluating log-perplexity of the text with respect to a language model\n",
    "    and later on to test the likelihood that the sentence was sampled from the model with the relevant context.\n",
    "    \"\"\"\n",
    "\n",
    "    def __init__(self, engine='spacy', context_policy=None,\n",
    "                 context=None):\n",
    "        if engine == 'spacy':\n",
    "            self.nlp = spacy.load(\"en_core_web_sm\")\n",
    "        if engine == 'pandas':\n",
    "            self.nlp = PandasParser()\n",
    "\n",
    "        self.context_policy = context_policy\n",
    "        self.context = context\n",
    "\n",
    "    def __call__(self, text):\n",
    "        return self.parse_text(text)\n",
    "\n",
    "    def parse_text(self, text):\n",
    "        texts = []\n",
    "        contexts = []\n",
    "        lengths = []\n",
    "        tags = []\n",
    "        previous = None\n",
    "\n",
    "        text = re.sub(\"(</?[a-zA-Z0-9 ]+>)\\s+\", r\"\\1. \", text)\n",
    "        parsed = self.nlp(text)\n",
    "\n",
    "        tag = None\n",
    "        for i, sent in enumerate(parsed.sents):\n",
    "            tag_text = re.findall(r\"(</?[a-zA-Z0-9 ]+>)\", str(sent))\n",
    "            if len(tag_text) > 0:\n",
    "                if tag is None: # opening tag\n",
    "                    tag = tag_text[0]\n",
    "                else:  # closing tag\n",
    "                    tag = None\n",
    "\n",
    "            else:  # only continue if text is not a tag\n",
    "                tags.append(tag)\n",
    "                lengths.append(len(sent))\n",
    "                sent_text = str(sent)\n",
    "                texts.append(sent_text)\n",
    "\n",
    "                if self.context is not None:\n",
    "                    context = self.context\n",
    "                elif self.context_policy is None:\n",
    "                    context = None\n",
    "                elif self.context_policy == 'previous_sentence':\n",
    "                    context = previous\n",
    "                    previous = sent_text\n",
    "                else:\n",
    "                    context = None\n",
    "\n",
    "                contexts.append(context)\n",
    "        return {'text': texts, 'length': lengths, 'context': contexts, 'tags': tags}\n"
   ],
   "metadata": {
    "collapsed": false,
    "ExecuteTime": {
     "start_time": "2023-04-23T22:20:04.647691Z",
     "end_time": "2023-04-23T22:20:04.669310Z"
    }
   }
  },
  {
   "cell_type": "code",
   "execution_count": 141,
   "outputs": [],
   "source": [
    "input_file = \"Data/ChatGPT/mix/American Civil War mix.txt\"\n",
    "\n",
    "with open(input_file, 'rt') as f:\n",
    "    text = f.read()"
   ],
   "metadata": {
    "collapsed": false,
    "ExecuteTime": {
     "start_time": "2023-04-23T22:20:07.820202Z",
     "end_time": "2023-04-23T22:20:07.828639Z"
    }
   }
  },
  {
   "cell_type": "code",
   "execution_count": 123,
   "outputs": [
    {
     "data": {
      "text/plain": "[('</edit>', 'It was fought. ')]"
     },
     "execution_count": 123,
     "metadata": {},
     "output_type": "execute_result"
    }
   ],
   "source": [
    "import re\n",
    "sent = nlp(\"</edit>\\n It was fought. \")\n",
    "tag_text = re.findall(r\"(</?[a-zA-Z0-9 ]+>)[\\s]+(.+)\", str(sent))\n",
    "tag_text"
   ],
   "metadata": {
    "collapsed": false,
    "ExecuteTime": {
     "start_time": "2023-04-23T17:50:18.758518Z",
     "end_time": "2023-04-23T17:50:18.952120Z"
    }
   }
  },
  {
   "cell_type": "markdown",
   "source": [],
   "metadata": {
    "collapsed": false
   }
  },
  {
   "cell_type": "code",
   "execution_count": 142,
   "outputs": [],
   "source": [
    "parser = PrepareSentenceContext(engine='spacy', context_policy='previous_sentence')\n",
    "chunks = parser(text)"
   ],
   "metadata": {
    "collapsed": false,
    "ExecuteTime": {
     "start_time": "2023-04-23T22:20:17.785217Z",
     "end_time": "2023-04-23T22:20:22.114751Z"
    }
   }
  },
  {
   "cell_type": "code",
   "execution_count": 145,
   "outputs": [],
   "source": [
    "null_data_file = \"results/gpt2_no_context_wiki_machine.csv\"\n",
    "df_null = pd.read_csv(null_data_file)\n",
    "\n",
    "from test_text_detect import get_pval_func_dict\n",
    "pval_functions = get_pval_func_dict(df_null)\n"
   ],
   "metadata": {
    "collapsed": false,
    "ExecuteTime": {
     "start_time": "2023-04-23T22:28:19.034450Z",
     "end_time": "2023-04-23T22:28:24.345030Z"
    }
   }
  },
  {
   "cell_type": "code",
   "execution_count": 154,
   "outputs": [
    {
     "data": {
      "text/plain": "array(0.04352532)"
     },
     "execution_count": 154,
     "metadata": {},
     "output_type": "execute_result"
    }
   ],
   "source": [
    "pval_functions[5](7)"
   ],
   "metadata": {
    "collapsed": false,
    "ExecuteTime": {
     "start_time": "2023-04-23T22:30:03.573157Z",
     "end_time": "2023-04-23T22:30:03.579650Z"
    }
   }
  },
  {
   "cell_type": "code",
   "execution_count": 172,
   "outputs": [
    {
     "name": "stdout",
     "output_type": "stream",
     "text": [
      "0.10521849809079338\n"
     ]
    }
   ],
   "source": [
    "x = 5.403795\n",
    "print(np.mean(df_null[df_null.length == 9].response > x))"
   ],
   "metadata": {
    "collapsed": false,
    "ExecuteTime": {
     "start_time": "2023-04-23T22:33:38.282433Z",
     "end_time": "2023-04-23T22:33:38.469918Z"
    }
   }
  },
  {
   "cell_type": "code",
   "execution_count": 137,
   "outputs": [
    {
     "data": {
      "text/plain": "['The Civil War is one of the most extensively studied and written about episodes in U.S. history.',\n 'The central cause of the war was the dispute over whether slavery would be permitted to expand into the western territories, leading to more slave states, or be prevented from doing so, which was widely believed would place slavery on a course of ultimate extinction.',\n \"An initial seven southern slave states responded to Lincoln's victory by seceding from the United States and, in February 1861, forming the Confederacy.\"]"
     },
     "execution_count": 137,
     "metadata": {},
     "output_type": "execute_result"
    }
   ],
   "source": [
    "[chunks['text'][i] for i in range(len(chunks['text'])) if chunks['tags'][i] is not None]"
   ],
   "metadata": {
    "collapsed": false,
    "ExecuteTime": {
     "start_time": "2023-04-23T17:58:08.192050Z",
     "end_time": "2023-04-23T17:58:08.347422Z"
    }
   }
  },
  {
   "cell_type": "code",
   "execution_count": 102,
   "outputs": [
    {
     "data": {
      "text/plain": "array([False, False, False, False,  True, False, False, False, False])"
     },
     "execution_count": 102,
     "metadata": {},
     "output_type": "execute_result"
    }
   ],
   "source": [],
   "metadata": {
    "collapsed": false,
    "ExecuteTime": {
     "start_time": "2023-04-04T14:08:04.203537Z",
     "end_time": "2023-04-04T14:08:04.217599Z"
    }
   }
  },
  {
   "cell_type": "code",
   "execution_count": null,
   "outputs": [],
   "source": [],
   "metadata": {
    "collapsed": false
   }
  }
 ],
 "metadata": {
  "kernelspec": {
   "display_name": "Python 3",
   "language": "python",
   "name": "python3"
  },
  "language_info": {
   "codemirror_mode": {
    "name": "ipython",
    "version": 3
   },
   "file_extension": ".py",
   "mimetype": "text/x-python",
   "name": "python",
   "nbconvert_exporter": "python",
   "pygments_lexer": "ipython3",
   "version": "3.8.5"
  }
 },
 "nbformat": 4,
 "nbformat_minor": 5
}
