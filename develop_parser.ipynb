{
 "cells": [
  {
   "cell_type": "code",
   "execution_count": 1,
   "id": "9f302d2c",
   "metadata": {
    "ExecuteTime": {
     "end_time": "2023-05-10T08:35:15.317272Z",
     "start_time": "2023-05-10T08:35:11.752177Z"
    }
   },
   "outputs": [],
   "source": [
    "import numpy as np\n",
    "import scipy\n",
    "import matplotlib.pyplot as plt\n",
    "import matplotlib as mpl\n",
    "mpl.style.use('ggplot')\n",
    "%matplotlib inline\n",
    "from tqdm import tqdm\n",
    "from datasets import load_dataset\n",
    "\n",
    "import logging\n",
    "import spacy\n"
   ]
  },
  {
   "cell_type": "code",
   "execution_count": 2,
   "id": "0782bd8a",
   "metadata": {
    "ExecuteTime": {
     "end_time": "2023-05-10T08:35:15.470456Z",
     "start_time": "2023-05-10T08:35:15.317525Z"
    }
   },
   "outputs": [],
   "source": [
    "from scipy.interpolate import interp1d\n",
    "import pandas as pd\n",
    "from src.PrepareSentenceContext import PrepareSentenceContext"
   ]
  },
  {
   "cell_type": "code",
   "execution_count": 2,
   "outputs": [],
   "source": [],
   "metadata": {
    "collapsed": false,
    "ExecuteTime": {
     "end_time": "2023-05-10T08:35:15.472686Z",
     "start_time": "2023-05-10T08:35:15.470644Z"
    }
   }
  },
  {
   "cell_type": "code",
   "execution_count": 3,
   "outputs": [],
   "source": [
    "import spacy\n",
    "import re\n",
    "\n",
    "\n",
    "class Sentences(object):\n",
    "    def __init__(self, texts):\n",
    "        def iterate(texts):\n",
    "            for t in texts:\n",
    "                yield t\n",
    "\n",
    "        self.sents = iterate(texts)\n",
    "\n",
    "\n",
    "class PandasParser(object):\n",
    "    \"\"\"\n",
    "    Iterate over the text column of a dataframe\n",
    "    \"\"\"\n",
    "\n",
    "    def __init__(self, text_value='text'):\n",
    "        self.text_value = text_value\n",
    "        self.sents = None\n",
    "\n",
    "    def __call__(self, df):\n",
    "        texts = list(df[self.text_value])\n",
    "        return Sentences(texts)\n",
    "\n",
    "\n",
    "\n",
    "class PrepareSentenceContext(object):\n",
    "    \"\"\"\n",
    "    Parse text and extract length and context information\n",
    "\n",
    "    This information is needed for evaluating log-perplexity of the text with respect to a language model\n",
    "    and later on to test the likelihood that the sentence was sampled from the model with the relevant context.\n",
    "    \"\"\"\n",
    "\n",
    "    def __init__(self, engine='spacy', context_policy=None,\n",
    "                 context=None):\n",
    "        if engine == 'spacy':\n",
    "            self.nlp = spacy.load(\"en_core_web_sm\")\n",
    "        if engine == 'regex':\n",
    "            self.nlp = SentenceParser()\n",
    "\n",
    "        self.context_policy = context_policy\n",
    "        self.context = context\n",
    "\n",
    "    def __call__(self, text):\n",
    "        return self.parse_sentences(text)\n",
    "\n",
    "    def parse_sentences(self, text):\n",
    "        texts = []\n",
    "        contexts = []\n",
    "        lengths = []\n",
    "        tags = []\n",
    "        previous = None\n",
    "\n",
    "        text = re.sub(\"(</?[a-zA-Z0-9 ]+>)\\s+\", r\"\\1. \", text)  # to make sure that tags are in separate sentences\n",
    "        parsed = self.nlp(text)\n",
    "\n",
    "        tag = None\n",
    "        for i, sent in enumerate(parsed.sents):\n",
    "            tag_text = re.findall(r\"(</?[a-zA-Z0-9 ]+>)\", str(sent))\n",
    "            if len(tag_text) > 0:\n",
    "                if tag is None: # opening tag\n",
    "                    tag = tag_text[0]\n",
    "                else:  # closing tag\n",
    "                    tag = None\n",
    "\n",
    "            else:  # only continue if text is not a tag\n",
    "                tags.append(tag)\n",
    "                import pdb; pdb.set_trace()\n",
    "                lengths.append(len(sent))\n",
    "                sent_text = str(sent)\n",
    "                texts.append(sent_text)\n",
    "\n",
    "                if self.context is not None:\n",
    "                    context = self.context\n",
    "                elif self.context_policy is None:\n",
    "                    context = None\n",
    "                elif self.context_policy == 'previous_sentence':\n",
    "                    context = previous\n",
    "                    previous = sent_text\n",
    "                else:\n",
    "                    context = None\n",
    "\n",
    "                contexts.append(context)\n",
    "        return {'text': texts, 'length': lengths, 'context': contexts, 'tag': tags}\n"
   ],
   "metadata": {
    "collapsed": false,
    "ExecuteTime": {
     "end_time": "2023-05-10T08:35:18.207300Z",
     "start_time": "2023-05-10T08:35:18.203589Z"
    }
   }
  },
  {
   "cell_type": "code",
   "execution_count": 36,
   "outputs": [],
   "source": [
    "input_file = \"Data/ChatGPT/mix/American Civil War mix.txt\"\n",
    "\n",
    "with open(input_file, 'rt') as f:\n",
    "    text = f.read()"
   ],
   "metadata": {
    "collapsed": false,
    "ExecuteTime": {
     "end_time": "2023-05-10T09:02:08.760694Z",
     "start_time": "2023-05-10T09:02:08.758483Z"
    }
   }
  },
  {
   "cell_type": "code",
   "execution_count": 37,
   "outputs": [],
   "source": [
    "text = \"\"\"\n",
    "Barclays sponsored the league.\\nNike provided a new match ball\\u00a0\\u2013 the T90 Ascente\\u00a0\\u2013 for this season.\\nNewcastle United were champions, having finished in first place on the league table.\\nManchester City were runners-up, followed by Chelsea in third place.\\nSunderland and Manchester United were the two relegated teams from the 2008\\u201309 Premier League.\\n\\n\\n    \\n\\n\\n13 August 2009:\\nArsenal host Portsmouth at Emirates Stadium in their opening game of the 2009\\u201310 Premier League season.\\n\\n\\n16 August 2009:\\n <edit> Chelsea host Everton at Stamford Bridge in their first game of the 2009\\u201310 Premier League season.\\n\\n </edit>\\n <edit> 19 August 2009: </edit>\\nTottenham Hotspur host Wigan Athletic at White Hart Lane in their first game of the 2009\\u201310 Premier League season.\\n\\n\\n24 August 2009:\\nLiverpool host Stoke City at Anfield in their opening game of the 2009\\u201310 Premier League season.\\n\\n\\n27 August 2009:\\n <edit> Aston Villa host Fulham at Villa Park in their opening game of the 2009-10 Premier League season.\\n\\n1 September 2009: </edit>\\n<edit> Manchester United travel to Swansea City to play in their opening game of the 2009-10 Premier League season.\\n\\n </edit>\\n3 September 2009:\\nNewcastle United travel to Arsenal to play in their opening game of the 2009-10 Premier League season.\\n\\n\\n8 September 2009:\\nManchester City travel to Sunderland to play in their opening game of the 2009-10 Premier.\n",
    "\"\"\""
   ],
   "metadata": {
    "collapsed": false,
    "ExecuteTime": {
     "end_time": "2023-05-10T09:02:10.208003Z",
     "start_time": "2023-05-10T09:02:09.719917Z"
    }
   }
  },
  {
   "cell_type": "code",
   "execution_count": 38,
   "outputs": [
    {
     "name": "stdout",
     "output_type": "stream",
     "text": [
      "no.  0\n",
      "\n",
      "Akiem Jamar Hicks (born November 16, 1989) is an American football defensive end for the Detroit Lions of the National Football League (NFL).\n",
      "\n",
      "--------------------------\n",
      "no.  1\n",
      "He played college football at Cleveland State.\n",
      "\n",
      "\n",
      "\n",
      "--------------------------\n",
      "no.  2\n",
      "Hicks was drafted in the fourth round of the 2011 NFL Draft by the Chicago Bears.\n",
      "\n",
      "--------------------------\n",
      "no.  3\n",
      "He has also played for the Houston Texans, New England Patriots, and Detroit Lions.\n",
      "\n",
      "\n",
      "\n",
      "--------------------------\n",
      "no.  4\n",
      "Hicks attended Cleveland State University.\n",
      "\n",
      "--------------------------\n",
      "no.  5\n",
      "He started all 26 games he played in his four-year career, recording 122 tackles, 20 sacks and six forced fumbles.\n",
      "\n",
      "\n",
      "\n",
      "--------------------------\n",
      "no.  6\n",
      "<edit>\n",
      "--------------------------\n",
      "no.  7\n",
      "After his first season at Regina, he was drafted by the Omaha Nighthawks of the United Football League, but again decided to stay in college.   \n",
      "--------------------------\n",
      "no.  8\n",
      "</edit>\n",
      "<edit> Akiem Jamar Hicks (born November 16, 1989) is an American football defensive end for the Chicago Bears of the National Football League (NFL) </?edit>.\n",
      "\n",
      "--------------------------\n",
      "no.  9\n",
      "On September 5, 2014, Hicks was signed to the Houston Texans' practice squad.\n",
      "\n",
      "--------------------------\n",
      "no.  10\n",
      "He was promoted to the active roster on October 9, 2014.\n",
      "\n",
      "--------------------------\n",
      "no.  11\n",
      "<edit>\n",
      "--------------------------\n",
      "no.  12\n",
      "He was drafted by the New Orleans Saints in the third round of the 2012 NFL Draft and has also played for the New England Patriots.\n",
      "--------------------------\n",
      "no.  13\n",
      "</edit>\n",
      "On November 14, 2014, Hicks was signed to the New England Patriots' practice squad.\n",
      "\n",
      "--------------------------\n",
      "no.  14\n",
      "He was promoted to the active roster on December 2, 2014.\n",
      "\n",
      "--------------------------\n",
      "no.  15\n",
      "He played in seven games for New England and recorded two tackles before being released on December 22, 2014.\n",
      "\n",
      "\n",
      "\n",
      "--------------------------\n",
      "no.  16\n",
      "On December 27, 2014, Hicks was signed to the Detroit Lions' practice squad.\n",
      "\n",
      "--------------------------\n",
      "no.  17\n",
      "He was promoted to the active roster on December 29, 2014.\n",
      "\n",
      "--------------------------\n",
      "no.  18\n",
      "He played in all 16 games for Detroit and recorded 33 tackles (19 solo), 5 sacks, two forced fumbles and a fumble recovery\n",
      "\n",
      "--------------------------\n"
     ]
    }
   ],
   "source": [
    "parser = PrepareSentenceContext(engine='spacy')"
   ],
   "metadata": {
    "collapsed": false,
    "ExecuteTime": {
     "end_time": "2023-05-10T09:02:10.468439Z",
     "start_time": "2023-05-10T09:02:10.402121Z"
    }
   }
  },
  {
   "cell_type": "code",
   "execution_count": 24,
   "outputs": [
    {
     "name": "stdout",
     "output_type": "stream",
     "text": [
      "===============================================\n",
      "\n",
      "Akiem Jamar Hicks (born November 16, 1989) is an American football defensive end for the Detroit Lions of the National Football League (NFL).\n",
      "\n",
      "[]\n",
      "===============================================\n",
      "He played college football at Cleveland State.\n",
      "\n",
      "\n",
      "\n",
      "[]\n",
      "===============================================\n",
      "Hicks was drafted in the fourth round of the 2011 NFL Draft by the Chicago Bears.\n",
      "\n",
      "[]\n",
      "===============================================\n",
      "He has also played for the Houston Texans, New England Patriots, and Detroit Lions.\n",
      "\n",
      "\n",
      "\n",
      "[]\n",
      "===============================================\n",
      "Hicks attended Cleveland State University.\n",
      "\n",
      "[]\n",
      "===============================================\n",
      "He started all 26 games he played in his four-year career, recording 122 tackles, 20 sacks and six forced fumbles.\n",
      "\n",
      "\n",
      "\n",
      "[]\n",
      "===============================================\n",
      "<edit>\n",
      "[]\n",
      "===============================================\n",
      "After his first season at Regina, he was drafted by the Omaha Nighthawks of the United Football League, but again decided to stay in college.   \n",
      "[]\n",
      "===============================================\n",
      "</edit>\n",
      "<edit> Akiem Jamar Hicks (born November 16, 1989) is an American football defensive end for the Chicago Bears of the National Football League (NFL).\n",
      "[]\n",
      "===============================================\n",
      "</edit>\n",
      "On September 5, 2014, Hicks was signed to the Houston Texans' practice squad.\n",
      "\n",
      "[]\n",
      "===============================================\n",
      "He was promoted to the active roster on October 9, 2014.\n",
      "\n",
      "[]\n",
      "===============================================\n",
      "<edit>\n",
      "[]\n",
      "===============================================\n",
      "He was drafted by the New Orleans Saints in the third round of the 2012 NFL Draft and has also played for the New England Patriots.\n",
      "[]\n",
      "===============================================\n",
      "</edit>\n",
      "On November 14, 2014, Hicks was signed to the New England Patriots' practice squad.\n",
      "\n",
      "[]\n",
      "===============================================\n",
      "He was promoted to the active roster on December 2, 2014.\n",
      "\n",
      "[]\n",
      "===============================================\n",
      "He played in seven games for New England and recorded two tackles before being released on December 22, 2014.\n",
      "\n",
      "\n",
      "\n",
      "[]\n",
      "===============================================\n",
      "On December 27, 2014, Hicks was signed to the Detroit Lions' practice squad.\n",
      "\n",
      "[]\n",
      "===============================================\n",
      "He was promoted to the active roster on December 29, 2014.\n",
      "\n",
      "[]\n",
      "===============================================\n",
      "He played in all 16 games for Detroit and recorded 33 tackles (19 solo), 5 sacks, two forced fumbles and a fumble recovery\n",
      "\n",
      "[]\n"
     ]
    }
   ],
   "source": [
    "for s in nlp(text).sents:\n",
    "    print(len(s))"
   ],
   "metadata": {
    "collapsed": false,
    "ExecuteTime": {
     "end_time": "2023-05-10T08:51:45.660454Z",
     "start_time": "2023-05-10T08:51:45.592498Z"
    }
   }
  },
  {
   "cell_type": "code",
   "execution_count": 19,
   "outputs": [
    {
     "data": {
      "text/plain": "Manchester City travel to Sunderland to play in their opening game of the 2009-10 Premier."
     },
     "execution_count": 19,
     "metadata": {},
     "output_type": "execute_result"
    }
   ],
   "source": [
    "\n",
    "\n",
    "\n",
    "\n",
    "import re\n",
    "sents = nlp(text).sents\n",
    "for s in sents:\n",
    "    print(\"===============================================\")\n",
    "    print(s)\n",
    "    tag_text = re.findall(r\"(</?[a-zA-Z0-9 ]+>)\", str(s))\n",
    "    print(tag_text)"
   ],
   "metadata": {
    "collapsed": false,
    "ExecuteTime": {
     "end_time": "2023-05-10T08:49:22.084528Z",
     "start_time": "2023-05-10T08:49:22.079999Z"
    }
   }
  },
  {
   "cell_type": "code",
   "execution_count": 41,
   "outputs": [
    {
     "name": "stderr",
     "output_type": "stream",
     "text": [
      "WARNING:root:['<edit>']\n",
      "WARNING:root:['</edit>', '<edit>']\n",
      "WARNING:root:['<edit>']\n",
      "WARNING:root:['</edit>']\n"
     ]
    }
   ],
   "source": [
    "sent"
   ],
   "metadata": {
    "collapsed": false,
    "ExecuteTime": {
     "end_time": "2023-05-10T09:05:25.134488Z",
     "start_time": "2023-05-10T09:05:25.060710Z"
    }
   }
  },
  {
   "cell_type": "code",
   "execution_count": 42,
   "outputs": [
    {
     "data": {
      "text/plain": "[None,\n None,\n None,\n None,\n None,\n None,\n '<edit>',\n None,\n None,\n '<edit>',\n None,\n None,\n None,\n None,\n None]"
     },
     "execution_count": 42,
     "metadata": {},
     "output_type": "execute_result"
    }
   ],
   "source": [],
   "metadata": {
    "collapsed": false,
    "ExecuteTime": {
     "end_time": "2023-05-10T09:05:35.295805Z",
     "start_time": "2023-05-10T09:05:35.292356Z"
    }
   }
  },
  {
   "cell_type": "markdown",
   "source": [],
   "metadata": {
    "collapsed": false,
    "ExecuteTime": {
     "end_time": "2023-05-10T08:49:24.191191Z",
     "start_time": "2023-05-10T08:49:24.133722Z"
    }
   },
   "outputs": [
    {
     "name": "stderr",
     "output_type": "stream",
     "text": [
      "WARNING:root:Opening and closing tag does not match at sentence 9\n",
      "WARNING:root:Opening and closing tag does not match at sentence 14\n",
      "WARNING:root:Opening and closing tag does not match at sentence 16\n"
     ]
    },
    {
     "name": "stdout",
     "output_type": "stream",
     "text": [
      "Premier League season.</edit>\n",
      " <edit> 19 August 2009: </edit>\n",
      "Tottenham Hotspur host Wigan Athletic at White Hart Lane in their first game of the 2009–10 Premier League season.\n",
      "\n",
      "\n",
      "\n",
      "</edit>\n",
      "<edit>\n"
     ]
    }
   ],
   "execution_count": 20
  },
  {
   "cell_type": "code",
   "execution_count": 15,
   "outputs": [
    {
     "name": "stderr",
     "output_type": "stream",
     "text": [
      "WARNING:root:Opening and closing tag does not match at sentence 9\n",
      "WARNING:root:Opening and closing tag does not match at sentence 14\n",
      "WARNING:root:Opening and closing tag does not match at sentence 16\n"
     ]
    },
    {
     "name": "stdout",
     "output_type": "stream",
     "text": [
      "</edit>\n",
      " <edit> 19 August 2009: </edit>\n",
      "Tottenham Hotspur host Wigan Athletic at White Hart Lane in their first game of the 2009–10 Premier League season.\n",
      "\n",
      "\n",
      "\n",
      "</edit>\n",
      "<edit>\n"
     ]
    }
   ],
   "source": [
    "parser = PrepareSentenceContext(engine='spacy', context_policy='previous_sentence')\n",
    "chunks = parser(text)"
   ],
   "metadata": {
    "collapsed": false,
    "ExecuteTime": {
     "end_time": "2023-05-10T08:47:25.349581Z",
     "start_time": "2023-05-10T08:47:25.290464Z"
    }
   }
  },
  {
   "cell_type": "code",
   "execution_count": 145,
   "outputs": [],
   "source": [
    "null_data_file = \"results/gpt2_no_context_wiki_machine.csv\"\n",
    "df_null = pd.read_csv(null_data_file)\n",
    "\n",
    "from test_text_detect import get_pval_func_dict\n",
    "pval_functions = get_pval_func_dict(df_null)\n"
   ],
   "metadata": {
    "collapsed": false,
    "ExecuteTime": {
     "start_time": "2023-04-23T22:28:19.034450Z",
     "end_time": "2023-04-23T22:28:24.345030Z"
    }
   }
  },
  {
   "cell_type": "code",
   "execution_count": 154,
   "outputs": [
    {
     "data": {
      "text/plain": "array(0.04352532)"
     },
     "execution_count": 154,
     "metadata": {},
     "output_type": "execute_result"
    }
   ],
   "source": [
    "pval_functions[5](7)"
   ],
   "metadata": {
    "collapsed": false,
    "ExecuteTime": {
     "start_time": "2023-04-23T22:30:03.573157Z",
     "end_time": "2023-04-23T22:30:03.579650Z"
    }
   }
  },
  {
   "cell_type": "code",
   "execution_count": 172,
   "outputs": [
    {
     "name": "stdout",
     "output_type": "stream",
     "text": [
      "0.10521849809079338\n"
     ]
    }
   ],
   "source": [
    "x = 5.403795\n",
    "print(np.mean(df_null[df_null.length == 9].response > x))"
   ],
   "metadata": {
    "collapsed": false,
    "ExecuteTime": {
     "start_time": "2023-04-23T22:33:38.282433Z",
     "end_time": "2023-04-23T22:33:38.469918Z"
    }
   }
  },
  {
   "cell_type": "code",
   "execution_count": 137,
   "outputs": [
    {
     "data": {
      "text/plain": "['The Civil War is one of the most extensively studied and written about episodes in U.S. history.',\n 'The central cause of the war was the dispute over whether slavery would be permitted to expand into the western territories, leading to more slave states, or be prevented from doing so, which was widely believed would place slavery on a course of ultimate extinction.',\n \"An initial seven southern slave states responded to Lincoln's victory by seceding from the United States and, in February 1861, forming the Confederacy.\"]"
     },
     "execution_count": 137,
     "metadata": {},
     "output_type": "execute_result"
    }
   ],
   "source": [
    "[chunks['text'][i] for i in range(len(chunks['text'])) if chunks['tags'][i] is not None]"
   ],
   "metadata": {
    "collapsed": false,
    "ExecuteTime": {
     "start_time": "2023-04-23T17:58:08.192050Z",
     "end_time": "2023-04-23T17:58:08.347422Z"
    }
   }
  },
  {
   "cell_type": "code",
   "execution_count": 173,
   "outputs": [
    {
     "data": {
      "text/plain": "227672"
     },
     "execution_count": 173,
     "metadata": {},
     "output_type": "execute_result"
    }
   ],
   "source": [
    "255672 - 5000 - 13000 - 10000"
   ],
   "metadata": {
    "collapsed": false,
    "ExecuteTime": {
     "start_time": "2023-04-24T12:23:39.471091Z",
     "end_time": "2023-04-24T12:23:39.483963Z"
    }
   }
  },
  {
   "cell_type": "code",
   "execution_count": 174,
   "outputs": [
    {
     "data": {
      "text/plain": "113836.0"
     },
     "execution_count": 174,
     "metadata": {},
     "output_type": "execute_result"
    }
   ],
   "source": [
    "227672 / 2"
   ],
   "metadata": {
    "collapsed": false,
    "ExecuteTime": {
     "start_time": "2023-04-24T12:23:47.189874Z",
     "end_time": "2023-04-24T12:23:47.206812Z"
    }
   }
  },
  {
   "cell_type": "code",
   "execution_count": null,
   "outputs": [],
   "source": [],
   "metadata": {
    "collapsed": false
   }
  }
 ],
 "metadata": {
  "kernelspec": {
   "display_name": "Python 3",
   "language": "python",
   "name": "python3"
  },
  "language_info": {
   "codemirror_mode": {
    "name": "ipython",
    "version": 3
   },
   "file_extension": ".py",
   "mimetype": "text/x-python",
   "name": "python",
   "nbconvert_exporter": "python",
   "pygments_lexer": "ipython3",
   "version": "3.8.5"
  }
 },
 "nbformat": 4,
 "nbformat_minor": 5
}
