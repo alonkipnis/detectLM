{
 "cells": [
  {
   "cell_type": "code",
   "execution_count": null,
   "metadata": {},
   "outputs": [],
   "source": [
    "#to do: run in the cloud"
   ]
  },
  {
   "cell_type": "code",
   "execution_count": 532,
   "metadata": {},
   "outputs": [],
   "source": [
    "import json\n",
    "import numpy as np\n",
    "import os\n",
    "import pandas as pd"
   ]
  },
  {
   "cell_type": "markdown",
   "metadata": {},
   "source": [
    "<H2>Load Data</H2>"
   ]
  },
  {
   "cell_type": "code",
   "execution_count": 540,
   "metadata": {},
   "outputs": [],
   "source": [
    "#Load human generated data\n",
    "def json_to_df(path) :\n",
    "    df = pd.DataFrame()\n",
    "    with open(path, 'r') as f:\n",
    "        for x in f:\n",
    "            item = json.loads(x)\n",
    "            df = df.append(item, ignore_index = True)\n",
    "    return df\n",
    "     \n",
    "path = '/Users/kipnisal/Data/AuthorshipAI/GPT2/webtext.test.jsonl'\n",
    "data_human = json_to_df(path)\n",
    "\n",
    "data_human = data_human.rename(columns = {'article' : 'text', 'title' : 'doc_id', 'label' : 'author'})\n",
    "data_human = data_human.rename(columns = {'id' : 'doc_id', 'length' : 'no_words'})\n",
    "data_human.loc[:,'author'] = 'human'"
   ]
  },
  {
   "cell_type": "markdown",
   "metadata": {},
   "source": [
    "<H3>GPT</H3>"
   ]
  },
  {
   "cell_type": "code",
   "execution_count": 553,
   "metadata": {},
   "outputs": [],
   "source": [
    "#Load GPT generated data\n",
    "def json_to_df(path) :\n",
    "    df = pd.DataFrame()\n",
    "    with open(path, 'r') as f:\n",
    "        for x in f:\n",
    "            item = json.loads(x)\n",
    "            df = df.append(item, ignore_index = True)\n",
    "    return df\n",
    "     \n",
    "path = '/Users/kipnisal/Data/AuthorshipAI/GPT2/small-117M-k40.test.jsonl'\n",
    "data_GPT = json_to_df(path)\n",
    "\n",
    "data_GPT = data_GPT.rename(columns = {'article' : 'text', 'title' : 'doc_id', 'label' : 'author'})\n",
    "data_GPT = data_GPT.rename( columns = {'id' : 'doc_id', 'length' : 'no_words'})\n",
    "data_GPT.loc[:,'author'] = 'GPT2'"
   ]
  },
  {
   "cell_type": "code",
   "execution_count": 595,
   "metadata": {},
   "outputs": [],
   "source": [
    "#merge human and GPT\n",
    "data_all = pd.concat([data_GPT.head(2000), data_human.head(2000)], sort = False).reset_index()\n",
    "\n",
    "train_test_ratio = 0.8\n",
    "data_all.loc[:,'split'] = 'train'\n",
    "k = len(data_all)\n",
    "ix_test = np.random.permutation(data_all.index)[:int(train_test_ratio * k)]\n",
    "data_all.loc[ix_test,'split'] = 'test'\n",
    "\n",
    "data_all = data_all.reindex(np.random.permutation(data_all.index))"
   ]
  },
  {
   "cell_type": "markdown",
   "metadata": {},
   "source": [
    "<H3>Grover</H3>"
   ]
  },
  {
   "cell_type": "code",
   "execution_count": 294,
   "metadata": {},
   "outputs": [],
   "source": [
    "# Load Grover\n",
    "def json_to_df(path) :\n",
    "    df = pd.DataFrame()\n",
    "    with open(path, 'r') as f:\n",
    "        for x in f:\n",
    "            item = json.loads(x)\n",
    "            df = df.append(item, ignore_index = True)\n",
    "    return df\n",
    "     \n",
    "path = 'generator=mega_dataset=p0.94.jsonl'\n",
    "data_Grover = json_to_df(path)"
   ]
  },
  {
   "cell_type": "code",
   "execution_count": null,
   "metadata": {},
   "outputs": [],
   "source": [
    "data_Grover = pd.read_csv('~/Data/Gover_challenge_stemed.csv')"
   ]
  },
  {
   "cell_type": "code",
   "execution_count": null,
   "metadata": {},
   "outputs": [],
   "source": [
    "lo_domains = ['theguardian.cm', 'theatlantic.com', 'seekingalpha.com', 'chicagotribune.com']\n",
    "lo_authors = ['Nathan Grayson', 'The Associated Press', 'Ben Hernandez', 'Chris Evangelista',\n",
    "              'Carena Liptak', 'Matt Webb Mitovich', 'Kyle Wiggers', 'Ethan Anderton']\n",
    "lo_authors_tvline = ['Matt Webb Mitovich', 'Kimberly Roots', 'Rebecca Iannucci', 'Andy Swift']\n",
    "#data = data_all[data_all.domain == 'seekingalpha.com']\n",
    "#data = data_all[data_all.authors.isin(lo_authors)]\n",
    "\n",
    "#data = data_all.groupby('split').head(250)\n",
    "data = data_Grover.copy()\n",
    "data[data.split == 'val']['split'] = 'train'\n",
    "data.loc[:,'type'] = data.loc[:,'author'] \n",
    "data.loc[:,'author'] = data.loc[:,'authors'] \n",
    "data.loc[:,'doc_id'] = data.loc[:,'doc_id'] + '(' + data.loc[:,'type'] + ')'\n",
    "\n",
    "data = data[data.author.isin(['Kimberly Roots', 'Matt Webb Mitovich'])]\n",
    "#data = data[data.domain.isin(['oregonlive.com', 'arkansasonline.com'])]\n",
    "\n",
    "#data.loc[:,'author'] = data['type']\n",
    "\n",
    "#data.loc[:,'split'] = data.type.apply(lambda l : 'train' if l == 'human' else 'test')\n",
    "data.loc[:,'split'] = data.type.apply(lambda l : 'test' if l == 'human' else 'train')\n",
    "\n",
    "data.groupby(['author','type','split']).describe().iloc[:,0]\n",
    "\n",
    "data = data.filter(['author','split','doc_id', 'text', 'type'])\n",
    "data.loc[:,'no_words'] = data.text.astype(str).apply(lambda x : len(x.split()))\n",
    "\n",
    "#train/test split\n",
    "ds_train = data[data.split == 'train']\n",
    "ds_test = data[data.split == 'test']\n",
    "\n",
    "n = 2\n",
    "\n",
    "if n > 1 : # merge n texts together\n",
    "    ds_train = merge_consecutive(ds_train, n)\n",
    "    ds_test = merge_consecutive(ds_test, n)\n",
    "    \n",
    "print(\"number of samples: train/test = {}/{} \".format(len(ds_train),len(ds_test)))\n",
    "data_all = data"
   ]
  },
  {
   "cell_type": "markdown",
   "metadata": {},
   "source": [
    "<H2>Pre-process</H2>"
   ]
  },
  {
   "cell_type": "code",
   "execution_count": null,
   "metadata": {},
   "outputs": [],
   "source": [
    "# stem or pre-process\n",
    "import sys\n",
    "sys.path.append('/Users/kipnisal/Documents/Authorship/')\n",
    "from text_processing import *\n",
    "\n",
    "data_all = data_all.rename(columns = {'article' : 'text', 'title' : 'doc_id', 'label' : 'author'})\n",
    "data_all.text = data_all.text.astype(str).apply(lambda x : preprocess_text(x, stem = True,\n",
    "                                                            #clean_names = True,\n",
    "                                                            #clean_html_tags = True,\n",
    "                                                            #clean_digits = True\n",
    "                                                           ))\n",
    "data_all.to_csv('~/Data/machine_generated_stemed.csv')"
   ]
  },
  {
   "cell_type": "markdown",
   "metadata": {},
   "source": [
    "<H3>Filter and re-arrange</H3>"
   ]
  },
  {
   "cell_type": "code",
   "execution_count": 575,
   "metadata": {},
   "outputs": [],
   "source": [
    "def merge_consecutive(ds, n = 1) :\n",
    "    # use this function to increase size of documents while maintaining\n",
    "    # separation to authors\n",
    "    # \n",
    "    # Output is shuffled\n",
    "    ds_all = pd.DataFrame()\n",
    "    for g in ds.groupby('author') :\n",
    "        merged_text = g[1].groupby(np.arange(len(g[1]))//n).text.agg(sum)\n",
    "        df = g[1].iloc[np.arange(0,len(g[1]),n)].reset_index()\n",
    "        df.text = merged_text\n",
    "        ds_all = ds_all.append(df)\n",
    "\n",
    "    ds_all = ds_all.reset_index()\n",
    "    ds_all.loc[:,'no_words'] = ds_all.text.astype(str).apply(lambda x : len(x.split()))\n",
    "    \n",
    "    ds_all = ds_all.reindex(np.random.permutation(ds_all.index))\n",
    "    return ds_all"
   ]
  },
  {
   "cell_type": "code",
   "execution_count": 515,
   "metadata": {},
   "outputs": [
    {
     "name": "stderr",
     "output_type": "stream",
     "text": [
      "/usr/local/lib/python3.7/site-packages/ipykernel_launcher.py:10: SettingWithCopyWarning: \n",
      "A value is trying to be set on a copy of a slice from a DataFrame.\n",
      "Try using .loc[row_indexer,col_indexer] = value instead\n",
      "\n",
      "See the caveats in the documentation: http://pandas.pydata.org/pandas-docs/stable/indexing.html#indexing-view-versus-copy\n",
      "  # Remove the CWD from sys.path while we load stuff.\n"
     ]
    },
    {
     "data": {
      "text/plain": [
       "author              type     split\n",
       "Kimberly Roots      human    test     14.0\n",
       "                    machine  train     7.0\n",
       "Matt Webb Mitovich  human    test     29.0\n",
       "                    machine  train    15.0\n",
       "Name: (Unnamed: 0, count), dtype: float64"
      ]
     },
     "execution_count": 515,
     "metadata": {},
     "output_type": "execute_result"
    }
   ],
   "source": []
  },
  {
   "cell_type": "code",
   "execution_count": 591,
   "metadata": {},
   "outputs": [
    {
     "name": "stdout",
     "output_type": "stream",
     "text": [
      "number of samples: train/test = 501/2001 \n"
     ]
    }
   ],
   "source": [
    "data = data_all.filter(['author','split','doc_id', 'text', 'type'])\n",
    "data.loc[:,'no_words'] = data.text.astype(str).apply(lambda x : len(x.split()))\n",
    "\n",
    "#train/test split\n",
    "ds_train = data[data.split == 'train']\n",
    "ds_test = data[data.split == 'test']\n",
    "\n",
    "n = 4\n",
    "\n",
    "if n > 1 : # merge n texts together\n",
    "    ds_train = merge_consecutive(ds_train, n)\n",
    "    ds_test = merge_consecutive(ds_test, n)\n",
    "    \n",
    "print(\"number of samples: train/test = {}/{} \".format(len(ds_train),len(ds_test)))"
   ]
  },
  {
   "cell_type": "markdown",
   "metadata": {},
   "source": [
    "<H1>Train Model</H1>"
   ]
  },
  {
   "cell_type": "code",
   "execution_count": 592,
   "metadata": {},
   "outputs": [
    {
     "name": "stdout",
     "output_type": "stream",
     "text": [
      "The autoreload extension is already loaded. To reload it, use:\n",
      "  %reload_ext autoreload\n"
     ]
    }
   ],
   "source": [
    "%load_ext autoreload\n",
    "import os\n",
    "import re\n",
    "import pandas as pd\n",
    "from tqdm import tqdm\n",
    "\n",
    "import sys\n",
    "sys.path.append('/Users/kipnisal/Documents/Authorship/')\n",
    "\n",
    "from AuthAttLib import *\n",
    "from visualize_HC_scores import *"
   ]
  },
  {
   "cell_type": "code",
   "execution_count": 596,
   "metadata": {},
   "outputs": [],
   "source": [
    "#load preset vocabulary\n",
    "STEM = False\n",
    "from text_processing import *\n",
    "VOCAB_SIZE = 5000\n",
    "vocab5000 = pd.read_csv('~/Data/5000 most common english words.csv')\n",
    "vocab = list(pd.unique(vocab5000[vocab5000.Rank <= VOCAB_SIZE].Word))\n",
    "if STEM :\n",
    "    vocab = stem_text(\" \".join(vocab)).split()\n",
    "    vocab = list(set(vocab)) # to remove dublicate terms"
   ]
  },
  {
   "cell_type": "code",
   "execution_count": 597,
   "metadata": {},
   "outputs": [],
   "source": [
    "words_to_ignore = ['ms','mr' ,'dr', 'miss', 'york', 'courtesi', 'trump', 'million',\n",
    "                  'michael','john','donald', 'email', 'meghan', 'bbc', 'nigeria', 'kim',\n",
    "                  'buttigieg', 'cleveland', 'gov', 'saturday', 'sunday', 'sp', 'amazon',\n",
    "                  'jone', 'la', 'barr','cathedr', 'duke', 'airlin', 'doe', 'jackson',\n",
    "                  'africa','alberta','iran', 'nfl', 'andrew', 'davi', 'de', 'en', 'khan',\n",
    "                  'dame','chicago', 'florida']"
   ]
  },
  {
   "cell_type": "code",
   "execution_count": 598,
   "metadata": {},
   "outputs": [
    {
     "name": "stdout",
     "output_type": "stream",
     "text": [
      "\t Creating author-model for human using 4352 features\n",
      "\t\tfound 249 documents and 294745 relevant tokens\n",
      "\t Creating author-model for GPT2 using 4352 features\n"
     ]
    },
    {
     "name": "stderr",
     "output_type": "stream",
     "text": [
      "\r",
      "  0%|          | 0/2 [00:00<?, ?it/s]"
     ]
    },
    {
     "name": "stdout",
     "output_type": "stream",
     "text": [
      "\t\tfound 252 documents and 379697 relevant tokens\n"
     ]
    },
    {
     "name": "stderr",
     "output_type": "stream",
     "text": [
      "100%|██████████| 2/2 [00:02<00:00,  1.01s/it]\n"
     ]
    },
    {
     "data": {
      "text/html": [
       "<div>\n",
       "<style scoped>\n",
       "    .dataframe tbody tr th:only-of-type {\n",
       "        vertical-align: middle;\n",
       "    }\n",
       "\n",
       "    .dataframe tbody tr th {\n",
       "        vertical-align: top;\n",
       "    }\n",
       "\n",
       "    .dataframe thead th {\n",
       "        text-align: right;\n",
       "    }\n",
       "</style>\n",
       "<table border=\"1\" class=\"dataframe\">\n",
       "  <thead>\n",
       "    <tr style=\"text-align: right;\">\n",
       "      <th></th>\n",
       "      <th>HC</th>\n",
       "      <th>author</th>\n",
       "      <th>chisq</th>\n",
       "      <th>chisq_pval</th>\n",
       "      <th>cosine</th>\n",
       "      <th>feat</th>\n",
       "      <th>no_docs (author)</th>\n",
       "      <th>no_docs (wrt_author)</th>\n",
       "      <th>no_tokens (author)</th>\n",
       "      <th>wrt_author</th>\n",
       "    </tr>\n",
       "  </thead>\n",
       "  <tbody>\n",
       "    <tr>\n",
       "      <th>0</th>\n",
       "      <td>47.2502</td>\n",
       "      <td>human</td>\n",
       "      <td>23601.382871</td>\n",
       "      <td>0.0</td>\n",
       "      <td>0.00723</td>\n",
       "      <td>[the, be, and, a, in, to, have, it, that, for,...</td>\n",
       "      <td>249.0</td>\n",
       "      <td>252.0</td>\n",
       "      <td>294745.0</td>\n",
       "      <td>GPT2</td>\n",
       "    </tr>\n",
       "  </tbody>\n",
       "</table>\n",
       "</div>"
      ],
      "text/plain": [
       "        HC author         chisq  chisq_pval   cosine  \\\n",
       "0  47.2502  human  23601.382871         0.0  0.00723   \n",
       "\n",
       "                                                feat  no_docs (author)  \\\n",
       "0  [the, be, and, a, in, to, have, it, that, for,...             249.0   \n",
       "\n",
       "   no_docs (wrt_author)  no_tokens (author) wrt_author  \n",
       "0                 252.0            294745.0       GPT2  "
      ]
     },
     "execution_count": 598,
     "metadata": {},
     "output_type": "execute_result"
    }
   ],
   "source": [
    "#train model\n",
    "model = AuthorshipAttributionMulti(ds_train,\n",
    "                               vocab = vocab,\n",
    "                          #    vocab_size = 500,\n",
    "                          #    ngram_range = (1,1),\n",
    "                          #  words_to_ignore = words_to_ignore,\n",
    "                              stbl = True)\n",
    "\n",
    "df0 = model.internal_stats_corpus()\n",
    "df0"
   ]
  },
  {
   "cell_type": "code",
   "execution_count": 603,
   "metadata": {},
   "outputs": [
    {
     "data": {
      "text/html": [
       "<div>\n",
       "<style scoped>\n",
       "    .dataframe tbody tr th:only-of-type {\n",
       "        vertical-align: middle;\n",
       "    }\n",
       "\n",
       "    .dataframe tbody tr th {\n",
       "        vertical-align: top;\n",
       "    }\n",
       "\n",
       "    .dataframe thead th {\n",
       "        text-align: right;\n",
       "    }\n",
       "</style>\n",
       "<table border=\"1\" class=\"dataframe\">\n",
       "  <thead>\n",
       "    <tr style=\"text-align: right;\">\n",
       "      <th></th>\n",
       "      <th>0</th>\n",
       "    </tr>\n",
       "  </thead>\n",
       "  <tbody>\n",
       "    <tr>\n",
       "      <th>0</th>\n",
       "      <td>the</td>\n",
       "    </tr>\n",
       "    <tr>\n",
       "      <th>1</th>\n",
       "      <td>be</td>\n",
       "    </tr>\n",
       "    <tr>\n",
       "      <th>2</th>\n",
       "      <td>and</td>\n",
       "    </tr>\n",
       "    <tr>\n",
       "      <th>3</th>\n",
       "      <td>a</td>\n",
       "    </tr>\n",
       "    <tr>\n",
       "      <th>4</th>\n",
       "      <td>in</td>\n",
       "    </tr>\n",
       "    <tr>\n",
       "      <th>5</th>\n",
       "      <td>to</td>\n",
       "    </tr>\n",
       "    <tr>\n",
       "      <th>6</th>\n",
       "      <td>have</td>\n",
       "    </tr>\n",
       "    <tr>\n",
       "      <th>7</th>\n",
       "      <td>it</td>\n",
       "    </tr>\n",
       "    <tr>\n",
       "      <th>8</th>\n",
       "      <td>that</td>\n",
       "    </tr>\n",
       "    <tr>\n",
       "      <th>9</th>\n",
       "      <td>for</td>\n",
       "    </tr>\n",
       "    <tr>\n",
       "      <th>10</th>\n",
       "      <td>you</td>\n",
       "    </tr>\n",
       "    <tr>\n",
       "      <th>11</th>\n",
       "      <td>with</td>\n",
       "    </tr>\n",
       "    <tr>\n",
       "      <th>12</th>\n",
       "      <td>do</td>\n",
       "    </tr>\n",
       "    <tr>\n",
       "      <th>13</th>\n",
       "      <td>say</td>\n",
       "    </tr>\n",
       "    <tr>\n",
       "      <th>14</th>\n",
       "      <td>this</td>\n",
       "    </tr>\n",
       "    <tr>\n",
       "      <th>15</th>\n",
       "      <td>they</td>\n",
       "    </tr>\n",
       "    <tr>\n",
       "      <th>16</th>\n",
       "      <td>we</td>\n",
       "    </tr>\n",
       "    <tr>\n",
       "      <th>17</th>\n",
       "      <td>his</td>\n",
       "    </tr>\n",
       "    <tr>\n",
       "      <th>18</th>\n",
       "      <td>from</td>\n",
       "    </tr>\n",
       "    <tr>\n",
       "      <th>19</th>\n",
       "      <td>not</td>\n",
       "    </tr>\n",
       "    <tr>\n",
       "      <th>20</th>\n",
       "      <td>by</td>\n",
       "    </tr>\n",
       "    <tr>\n",
       "      <th>21</th>\n",
       "      <td>what</td>\n",
       "    </tr>\n",
       "    <tr>\n",
       "      <th>22</th>\n",
       "      <td>go</td>\n",
       "    </tr>\n",
       "    <tr>\n",
       "      <th>23</th>\n",
       "      <td>their</td>\n",
       "    </tr>\n",
       "    <tr>\n",
       "      <th>24</th>\n",
       "      <td>can</td>\n",
       "    </tr>\n",
       "    <tr>\n",
       "      <th>25</th>\n",
       "      <td>who</td>\n",
       "    </tr>\n",
       "    <tr>\n",
       "      <th>26</th>\n",
       "      <td>get</td>\n",
       "    </tr>\n",
       "    <tr>\n",
       "      <th>27</th>\n",
       "      <td>if</td>\n",
       "    </tr>\n",
       "    <tr>\n",
       "      <th>28</th>\n",
       "      <td>would</td>\n",
       "    </tr>\n",
       "    <tr>\n",
       "      <th>29</th>\n",
       "      <td>her</td>\n",
       "    </tr>\n",
       "    <tr>\n",
       "      <th>...</th>\n",
       "      <td>...</td>\n",
       "    </tr>\n",
       "    <tr>\n",
       "      <th>1727</th>\n",
       "      <td>availability</td>\n",
       "    </tr>\n",
       "    <tr>\n",
       "      <th>1728</th>\n",
       "      <td>rubber</td>\n",
       "    </tr>\n",
       "    <tr>\n",
       "      <th>1729</th>\n",
       "      <td>favorable</td>\n",
       "    </tr>\n",
       "    <tr>\n",
       "      <th>1730</th>\n",
       "      <td>ha</td>\n",
       "    </tr>\n",
       "    <tr>\n",
       "      <th>1731</th>\n",
       "      <td>premium</td>\n",
       "    </tr>\n",
       "    <tr>\n",
       "      <th>1732</th>\n",
       "      <td>spark</td>\n",
       "    </tr>\n",
       "    <tr>\n",
       "      <th>1733</th>\n",
       "      <td>fatigue</td>\n",
       "    </tr>\n",
       "    <tr>\n",
       "      <th>1734</th>\n",
       "      <td>marker</td>\n",
       "    </tr>\n",
       "    <tr>\n",
       "      <th>1735</th>\n",
       "      <td>bucket</td>\n",
       "    </tr>\n",
       "    <tr>\n",
       "      <th>1736</th>\n",
       "      <td>defender</td>\n",
       "    </tr>\n",
       "    <tr>\n",
       "      <th>1737</th>\n",
       "      <td>harvest</td>\n",
       "    </tr>\n",
       "    <tr>\n",
       "      <th>1738</th>\n",
       "      <td>dense</td>\n",
       "    </tr>\n",
       "    <tr>\n",
       "      <th>1739</th>\n",
       "      <td>seminar</td>\n",
       "    </tr>\n",
       "    <tr>\n",
       "      <th>1740</th>\n",
       "      <td>terribly</td>\n",
       "    </tr>\n",
       "    <tr>\n",
       "      <th>1741</th>\n",
       "      <td>cue</td>\n",
       "    </tr>\n",
       "    <tr>\n",
       "      <th>1742</th>\n",
       "      <td>honestly</td>\n",
       "    </tr>\n",
       "    <tr>\n",
       "      <th>1743</th>\n",
       "      <td>till</td>\n",
       "    </tr>\n",
       "    <tr>\n",
       "      <th>1744</th>\n",
       "      <td>plea</td>\n",
       "    </tr>\n",
       "    <tr>\n",
       "      <th>1745</th>\n",
       "      <td>flying</td>\n",
       "    </tr>\n",
       "    <tr>\n",
       "      <th>1746</th>\n",
       "      <td>sustainable</td>\n",
       "    </tr>\n",
       "    <tr>\n",
       "      <th>1747</th>\n",
       "      <td>bolt</td>\n",
       "    </tr>\n",
       "    <tr>\n",
       "      <th>1748</th>\n",
       "      <td>cargo</td>\n",
       "    </tr>\n",
       "    <tr>\n",
       "      <th>1749</th>\n",
       "      <td>spine</td>\n",
       "    </tr>\n",
       "    <tr>\n",
       "      <th>1750</th>\n",
       "      <td>managing</td>\n",
       "    </tr>\n",
       "    <tr>\n",
       "      <th>1751</th>\n",
       "      <td>marine</td>\n",
       "    </tr>\n",
       "    <tr>\n",
       "      <th>1752</th>\n",
       "      <td>dock</td>\n",
       "    </tr>\n",
       "    <tr>\n",
       "      <th>1753</th>\n",
       "      <td>trim</td>\n",
       "    </tr>\n",
       "    <tr>\n",
       "      <th>1754</th>\n",
       "      <td>bronze</td>\n",
       "    </tr>\n",
       "    <tr>\n",
       "      <th>1755</th>\n",
       "      <td>selected</td>\n",
       "    </tr>\n",
       "    <tr>\n",
       "      <th>1756</th>\n",
       "      <td>manual</td>\n",
       "    </tr>\n",
       "  </tbody>\n",
       "</table>\n",
       "<p>1757 rows × 1 columns</p>\n",
       "</div>"
      ],
      "text/plain": [
       "                 0\n",
       "0              the\n",
       "1               be\n",
       "2              and\n",
       "3                a\n",
       "4               in\n",
       "5               to\n",
       "6             have\n",
       "7               it\n",
       "8             that\n",
       "9              for\n",
       "10             you\n",
       "11            with\n",
       "12              do\n",
       "13             say\n",
       "14            this\n",
       "15            they\n",
       "16              we\n",
       "17             his\n",
       "18            from\n",
       "19             not\n",
       "20              by\n",
       "21            what\n",
       "22              go\n",
       "23           their\n",
       "24             can\n",
       "25             who\n",
       "26             get\n",
       "27              if\n",
       "28           would\n",
       "29             her\n",
       "...            ...\n",
       "1727  availability\n",
       "1728        rubber\n",
       "1729     favorable\n",
       "1730            ha\n",
       "1731       premium\n",
       "1732         spark\n",
       "1733       fatigue\n",
       "1734        marker\n",
       "1735        bucket\n",
       "1736      defender\n",
       "1737       harvest\n",
       "1738         dense\n",
       "1739       seminar\n",
       "1740      terribly\n",
       "1741           cue\n",
       "1742      honestly\n",
       "1743          till\n",
       "1744          plea\n",
       "1745        flying\n",
       "1746   sustainable\n",
       "1747          bolt\n",
       "1748         cargo\n",
       "1749         spine\n",
       "1750      managing\n",
       "1751        marine\n",
       "1752          dock\n",
       "1753          trim\n",
       "1754        bronze\n",
       "1755      selected\n",
       "1756        manual\n",
       "\n",
       "[1757 rows x 1 columns]"
      ]
     },
     "execution_count": 603,
     "metadata": {},
     "output_type": "execute_result"
    }
   ],
   "source": [
    "pd.DataFrame(df0.feat.values[0])"
   ]
  },
  {
   "cell_type": "code",
   "execution_count": 586,
   "metadata": {},
   "outputs": [
    {
     "name": "stdout",
     "output_type": "stream",
     "text": [
      "Changing vocabulary for GPT2. Found 74992 relevant tokens\n"
     ]
    },
    {
     "name": "stderr",
     "output_type": "stream",
     "text": [
      "100%|██████████| 2/2 [00:00<00:00, 14.10it/s]"
     ]
    },
    {
     "name": "stdout",
     "output_type": "stream",
     "text": [
      "Changing vocabulary for human. Found 50503 relevant tokens\n"
     ]
    },
    {
     "name": "stderr",
     "output_type": "stream",
     "text": [
      "\n"
     ]
    },
    {
     "data": {
      "text/html": [
       "<div>\n",
       "<style scoped>\n",
       "    .dataframe tbody tr th:only-of-type {\n",
       "        vertical-align: middle;\n",
       "    }\n",
       "\n",
       "    .dataframe tbody tr th {\n",
       "        vertical-align: top;\n",
       "    }\n",
       "\n",
       "    .dataframe thead th {\n",
       "        text-align: right;\n",
       "    }\n",
       "</style>\n",
       "<table border=\"1\" class=\"dataframe\">\n",
       "  <thead>\n",
       "    <tr style=\"text-align: right;\">\n",
       "      <th></th>\n",
       "      <th>HC</th>\n",
       "      <th>author</th>\n",
       "      <th>chisq</th>\n",
       "      <th>chisq_pval</th>\n",
       "      <th>cosine</th>\n",
       "      <th>feat</th>\n",
       "      <th>no_docs (author)</th>\n",
       "      <th>no_docs (wrt_author)</th>\n",
       "      <th>no_tokens (author)</th>\n",
       "      <th>wrt_author</th>\n",
       "    </tr>\n",
       "  </thead>\n",
       "  <tbody>\n",
       "    <tr>\n",
       "      <th>0</th>\n",
       "      <td>192503.741377</td>\n",
       "      <td>human</td>\n",
       "      <td>4738.122575</td>\n",
       "      <td>0.0</td>\n",
       "      <td>0.011792</td>\n",
       "      <td>[the, and, of, it, that, you, do, this, his, f...</td>\n",
       "      <td>99.0</td>\n",
       "      <td>102.0</td>\n",
       "      <td>50503.0</td>\n",
       "      <td>GPT2</td>\n",
       "    </tr>\n",
       "  </tbody>\n",
       "</table>\n",
       "</div>"
      ],
      "text/plain": [
       "              HC author        chisq  chisq_pval    cosine  \\\n",
       "0  192503.741377  human  4738.122575         0.0  0.011792   \n",
       "\n",
       "                                                feat  no_docs (author)  \\\n",
       "0  [the, and, of, it, that, you, do, this, his, f...              99.0   \n",
       "\n",
       "   no_docs (wrt_author)  no_tokens (author) wrt_author  \n",
       "0                 102.0             50503.0       GPT2  "
      ]
     },
     "execution_count": 586,
     "metadata": {},
     "output_type": "execute_result"
    }
   ],
   "source": [
    "# reduce features\n",
    "model.reduce_features(df0.feat.values[0])\n",
    "df0 = model.internal_stats_corpus()\n",
    "df0"
   ]
  },
  {
   "cell_type": "code",
   "execution_count": 600,
   "metadata": {},
   "outputs": [
    {
     "name": "stderr",
     "output_type": "stream",
     "text": [
      "100%|██████████| 2/2 [05:50<00:00, 179.46s/it]\n"
     ]
    }
   ],
   "source": [
    "ds_test_sm = ds_test.head(100)\n",
    "df_test = model.stats_list(ds_test_sm)\n",
    "df_test = df_test.merge(ds_test_sm.filter(['doc_id','type']), how = 'left', on = 'doc_id')"
   ]
  },
  {
   "cell_type": "code",
   "execution_count": 601,
   "metadata": {},
   "outputs": [
    {
     "data": {
      "image/png": "[encoded data removed]",
      "text/plain": [
       "<Figure size 640x480 with 1 Axes>"
      ]
     },
     "metadata": {},
     "output_type": "display_data"
    },
    {
     "name": "stdout",
     "output_type": "stream",
     "text": [
      "<ggplot: (-9223372036534047067)>\n"
     ]
    }
   ],
   "source": [
    "title = \"HC_human_train_machine_test\"\n",
    "title = \"HC_machine_train_human_test\"\n",
    "p = plot_author_pair(df_test, value = 'chisq', title = title)\n",
    "#p.save(title + '.png')\n",
    "print(p)"
   ]
  },
  {
   "cell_type": "code",
   "execution_count": 602,
   "metadata": {},
   "outputs": [
    {
     "data": {
      "image/png": "[encoded data removed]",
      "text/plain": [
       "<Figure size 640x480 with 1 Axes>"
      ]
     },
     "metadata": {},
     "output_type": "display_data"
    },
    {
     "name": "stdout",
     "output_type": "stream",
     "text": [
      "<ggplot: (320104673)>\n"
     ]
    }
   ],
   "source": [
    "p = plot_author_pair(df_test, value = 'HC')\n",
    "#p.save(title + '.png')\n",
    "print(p)"
   ]
  },
  {
   "cell_type": "code",
   "execution_count": 524,
   "metadata": {},
   "outputs": [
    {
     "data": {
      "image/png": "[encoded data removed]",
      "text/plain": [
       "<Figure size 640x480 with 1 Axes>"
      ]
     },
     "metadata": {},
     "output_type": "display_data"
    },
    {
     "name": "stdout",
     "output_type": "stream",
     "text": [
      "<ggplot: (316439514)>\n"
     ]
    }
   ],
   "source": [
    "title = \"ChiSq_all\"\n",
    "p = plot_author_pair(df_test, value = 'chisq', title = title)\n",
    "#p.save(title + '.png')\n",
    "print(p)"
   ]
  },
  {
   "cell_type": "code",
   "execution_count": 366,
   "metadata": {},
   "outputs": [],
   "source": [
    "def plot_author_pair(df, value = 'HC', wrt_author = [],\n",
    "                     show_legend=True, title=\"\"):\n",
    "    \n",
    "    df1 = df.filter(['doc_id', 'author', 'wrt_author', 'type', value])\\\n",
    "            .pivot_table(index = ['doc_id','author','type'],\n",
    "                         columns = 'wrt_author',\n",
    "                         values = [value])[value].reset_index()\n",
    "\n",
    "    lo_authors = pd.unique(df1.author)\n",
    "    no_authors = len(lo_authors)\n",
    "    \n",
    "    if no_authors < 2 :\n",
    "        raise ValueError\n",
    "    \n",
    "    if wrt_author == [] :\n",
    "        wrt_author = (lo_authors[0],lo_authors[1])\n",
    "\n",
    "    if (no_authors == 2):\n",
    "        color_map = {wrt_author[0]: \"red\", wrt_author[1]: \"blue\"}\n",
    "    else:\n",
    "        color_map = LIST_OF_COLORS\n",
    "\n",
    "    df1.loc[:, 'x'] = df1.loc[:, wrt_author[0]].astype('float')\n",
    "    df1.loc[:, 'y'] = df1.loc[:, wrt_author[1]].astype('float')\n",
    "    p = (\n",
    "        ggplot(aes(x='x', y='y', color='author', shape = 'type'), data=df1) +\n",
    "        geom_point(show_legend=show_legend) + geom_abline(alpha=0.5) +\n",
    "        # geom_text(aes(label = 'doc_id', check_overlap = True)) +\n",
    "        xlab(wrt_author[0]) + ylab(wrt_author[1]) +\n",
    "        scale_color_manual(values=color_map) +  #+ xlim(0,35) + ylim(0,35)\n",
    "        ggtitle(title) #+ xlim(-5,10) + ylim(-5,10)\n",
    "        + theme(legend_title=element_blank(), legend_position='top'))\n",
    "    return p"
   ]
  },
  {
   "cell_type": "code",
   "execution_count": 10,
   "metadata": {},
   "outputs": [
    {
     "name": "stderr",
     "output_type": "stream",
     "text": [
      "1it [00:00,  1.86it/s]"
     ]
    },
    {
     "name": "stdout",
     "output_type": "stream",
     "text": [
      "accuracy = 0.0\n"
     ]
    },
    {
     "name": "stderr",
     "output_type": "stream",
     "text": [
      "\r",
      "2it [00:01,  1.83it/s]"
     ]
    },
    {
     "name": "stdout",
     "output_type": "stream",
     "text": [
      "accuracy = 0.5\n"
     ]
    },
    {
     "name": "stderr",
     "output_type": "stream",
     "text": [
      "\r",
      "3it [00:01,  1.81it/s]"
     ]
    },
    {
     "name": "stdout",
     "output_type": "stream",
     "text": [
      "accuracy = 0.6666666666666666\n"
     ]
    },
    {
     "name": "stderr",
     "output_type": "stream",
     "text": [
      "\r",
      "4it [00:02,  1.85it/s]"
     ]
    },
    {
     "name": "stdout",
     "output_type": "stream",
     "text": [
      "accuracy = 0.75\n"
     ]
    },
    {
     "name": "stderr",
     "output_type": "stream",
     "text": [
      "\r",
      "5it [00:02,  1.84it/s]"
     ]
    },
    {
     "name": "stdout",
     "output_type": "stream",
     "text": [
      "accuracy = 0.8\n"
     ]
    },
    {
     "name": "stderr",
     "output_type": "stream",
     "text": [
      "\r",
      "6it [00:03,  1.91it/s]"
     ]
    },
    {
     "name": "stdout",
     "output_type": "stream",
     "text": [
      "accuracy = 0.6666666666666666\n"
     ]
    },
    {
     "name": "stderr",
     "output_type": "stream",
     "text": [
      "\r",
      "7it [00:03,  1.96it/s]"
     ]
    },
    {
     "name": "stdout",
     "output_type": "stream",
     "text": [
      "accuracy = 0.5714285714285714\n"
     ]
    },
    {
     "name": "stderr",
     "output_type": "stream",
     "text": [
      "\r",
      "8it [00:04,  1.89it/s]"
     ]
    },
    {
     "name": "stdout",
     "output_type": "stream",
     "text": [
      "accuracy = 0.625\n"
     ]
    },
    {
     "name": "stderr",
     "output_type": "stream",
     "text": [
      "\r",
      "9it [00:04,  1.90it/s]"
     ]
    },
    {
     "name": "stdout",
     "output_type": "stream",
     "text": [
      "accuracy = 0.5555555555555556\n"
     ]
    },
    {
     "name": "stderr",
     "output_type": "stream",
     "text": [
      "\r",
      "10it [00:05,  1.80it/s]"
     ]
    },
    {
     "name": "stdout",
     "output_type": "stream",
     "text": [
      "accuracy = 0.6\n"
     ]
    },
    {
     "name": "stderr",
     "output_type": "stream",
     "text": [
      "\n"
     ]
    }
   ],
   "source": [
    "#try on test set \n",
    "ds_test_sm = ds_test_db.head(10)\n",
    "\n",
    "acc = 0\n",
    "no_sm = 0\n",
    "for r in tqdm(ds_test_sm.iterrows()) :\n",
    "    res = model.predict(r[1].text, method='rank')\n",
    "    no_sm += 1\n",
    "    if r[1].author == res[0] :\n",
    "        acc += 1\n",
    "    print(\"accuracy = {}\".format(acc / no_sm))"
   ]
  },
  {
   "cell_type": "code",
   "execution_count": 11,
   "metadata": {},
   "outputs": [],
   "source": [
    "# evaluate on test set\n",
    "ds_test_sm = ds_test_db.head(10)\n",
    "df_test = pd.DataFrame()\n",
    "for r in ds_test_sm.iterrows() :\n",
    "    df1 = model.predict_stats(r[1].text)\n",
    "    df1.loc[:,'author'] = r[1].author\n",
    "    df1.loc[:,'doc_id'] = r[1].doc_id\n",
    "    df_test = df_test.append(df1)\n"
   ]
  },
  {
   "cell_type": "code",
   "execution_count": 15,
   "metadata": {},
   "outputs": [
    {
     "name": "stderr",
     "output_type": "stream",
     "text": [
      "100%|██████████| 2/2 [00:25<00:00, 13.03s/it]\n"
     ]
    }
   ],
   "source": [
    "ds_test_sm = ds_test_db.head(50)\n",
    "df_test = model.stats_list(ds_test_sm)"
   ]
  },
  {
   "cell_type": "code",
   "execution_count": 16,
   "metadata": {},
   "outputs": [
    {
     "data": {
      "image/png": "[encoded data removed]",
      "text/plain": [
       "<Figure size 640x480 with 1 Axes>"
      ]
     },
     "metadata": {},
     "output_type": "display_data"
    },
    {
     "data": {
      "text/plain": [
       "<ggplot: (307352289)>"
      ]
     },
     "execution_count": 16,
     "metadata": {},
     "output_type": "execute_result"
    }
   ],
   "source": [
    "def plot_author_pair(df, value = 'HC', wrt_author = [],\n",
    "                     show_legend=True, title=\"\"):\n",
    "    \n",
    "    df1 = df.filter(['doc_id', 'author', 'wrt_author', value])\\\n",
    "            .pivot_table(index = ['doc_id','author'],\n",
    "                         columns = 'wrt_author',\n",
    "                         values = [value])[value].reset_index()\n",
    "\n",
    "    lo_authors = pd.unique(df1.author)\n",
    "    no_authors = len(lo_authors)\n",
    "    \n",
    "    if no_authors < 2 :\n",
    "        raise ValueError\n",
    "    \n",
    "    if wrt_author == [] :\n",
    "        wrt_author = (lo_authors[0],lo_authors[1])\n",
    "\n",
    "    if (no_authors == 2):\n",
    "        color_map = {wrt_author[0]: \"red\", wrt_author[1]: \"blue\"}\n",
    "    else:\n",
    "        color_map = LIST_OF_COLORS\n",
    "\n",
    "    df1.loc[:, 'x'] = df1.loc[:, wrt_author[0]].astype('float')\n",
    "    df1.loc[:, 'y'] = df1.loc[:, wrt_author[1]].astype('float')\n",
    "    p = (\n",
    "        ggplot(aes(x='x', y='y', color='author'), data=df1) +\n",
    "        geom_point(show_legend=show_legend) + geom_abline(alpha=0.5) +\n",
    "        # geom_text(aes(label = 'doc_id', check_overlap = True)) +\n",
    "        xlab(wrt_author[0]) + ylab(wrt_author[1]) +\n",
    "        scale_color_manual(values=color_map) +  #+ xlim(0,35) + ylim(0,35)\n",
    "        ggtitle(title) #+ xlim(0,5000) + ylim(0,5000)\n",
    "        + theme(legend_title=element_blank(), legend_position='top'))\n",
    "    return p\n",
    "\n",
    "plot_author_pair(df_test, value = 'chisq')"
   ]
  },
  {
   "cell_type": "code",
   "execution_count": 20,
   "metadata": {},
   "outputs": [
    {
     "name": "stderr",
     "output_type": "stream",
     "text": [
      "100%|██████████| 2/2 [00:50<00:00, 25.48s/it]\n"
     ]
    },
    {
     "data": {
      "image/png": "[encoded data removed]",
      "text/plain": [
       "<Figure size 640x480 with 1 Axes>"
      ]
     },
     "metadata": {},
     "output_type": "display_data"
    },
    {
     "data": {
      "text/plain": [
       "<ggplot: (-9223372036544183236)>"
      ]
     },
     "execution_count": 20,
     "metadata": {},
     "output_type": "execute_result"
    }
   ],
   "source": [
    "df1 = model.internal_stats()\n",
    "plot_author_pair(df1, value = 'chisq')"
   ]
  },
  {
   "cell_type": "code",
   "execution_count": 19,
   "metadata": {},
   "outputs": [
    {
     "name": "stderr",
     "output_type": "stream",
     "text": [
      "100%|██████████| 2/2 [00:49<00:00, 24.46s/it]\n"
     ]
    },
    {
     "data": {
      "image/png": "[encoded data removed]",
      "text/plain": [
       "<Figure size 640x480 with 1 Axes>"
      ]
     },
     "metadata": {},
     "output_type": "display_data"
    },
    {
     "data": {
      "text/plain": [
       "<ggplot: (308156522)>"
      ]
     },
     "execution_count": 19,
     "metadata": {},
     "output_type": "execute_result"
    }
   ],
   "source": []
  },
  {
   "cell_type": "code",
   "execution_count": null,
   "metadata": {},
   "outputs": [],
   "source": []
  }
 ],
 "metadata": {
  "kernelspec": {
   "display_name": "Python 3",
   "language": "python",
   "name": "python3"
  },
  "language_info": {
   "codemirror_mode": {
    "name": "ipython",
    "version": 3
   },
   "file_extension": ".py",
   "mimetype": "text/x-python",
   "name": "python",
   "nbconvert_exporter": "python",
   "pygments_lexer": "ipython3",
   "version": "3.7.3"
  }
 },
 "nbformat": 4,
 "nbformat_minor": 2
}
