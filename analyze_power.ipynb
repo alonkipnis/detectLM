{
 "cells": [
  {
   "cell_type": "code",
   "execution_count": 5,
   "id": "9f302d2c",
   "metadata": {
    "ExecuteTime": {
     "start_time": "2023-04-23T10:27:35.182571Z",
     "end_time": "2023-04-23T10:27:35.189296Z"
    }
   },
   "outputs": [],
   "source": [
    "import numpy as np\n",
    "import scipy\n",
    "import matplotlib.pyplot as plt\n",
    "import matplotlib as mpl\n",
    "mpl.style.use('ggplot')\n",
    "%matplotlib inline\n",
    "from tqdm import tqdm\n",
    "from multitest import MultiTest\n"
   ]
  },
  {
   "cell_type": "code",
   "execution_count": 6,
   "id": "0782bd8a",
   "metadata": {
    "ExecuteTime": {
     "start_time": "2023-04-23T10:27:35.191210Z",
     "end_time": "2023-04-23T10:27:35.195296Z"
    }
   },
   "outputs": [],
   "source": [
    "from scipy.interpolate import interp1d\n",
    "import pandas as pd"
   ]
  },
  {
   "cell_type": "code",
   "execution_count": 7,
   "id": "6be03ee2",
   "metadata": {
    "ExecuteTime": {
     "start_time": "2023-04-23T10:27:35.298815Z",
     "end_time": "2023-04-23T10:27:35.304113Z"
    }
   },
   "outputs": [],
   "source": [
    "import numpy as np"
   ]
  },
  {
   "cell_type": "code",
   "execution_count": 8,
   "outputs": [],
   "source": [
    "def fit_pval_func(xx, G = 501):\n",
    "    qq = np.linspace(0, 1, G)\n",
    "    yy = [np.quantile(xx, q) for q in qq]\n",
    "    return interp1d(yy, 1-qq, fill_value = (1,0), bounds_error=False)\n",
    "\n",
    "def pval_per_sentence(texts, model, tokenizer, pval_func):\n",
    "    pvals = []\n",
    "    for text in texts:\n",
    "        x = logloss(model, tokenizer, text)\n",
    "        pval = pval_func()\n",
    "        pvals.append(pval)\n",
    "    return pvals\n",
    "\n"
   ],
   "metadata": {
    "collapsed": false,
    "ExecuteTime": {
     "start_time": "2023-04-23T10:27:35.488628Z",
     "end_time": "2023-04-23T10:27:35.494511Z"
    }
   }
  },
  {
   "cell_type": "code",
   "execution_count": 41,
   "outputs": [
    {
     "name": "stderr",
     "output_type": "stream",
     "text": [
      "100%|██████████| 10000/10000 [00:00<00:00, 20729.77it/s]\n",
      "100%|██████████| 10000/10000 [00:00<00:00, 19992.01it/s]\n",
      "100%|██████████| 10000/10000 [00:00<00:00, 19367.52it/s]\n",
      "100%|██████████| 10000/10000 [00:00<00:00, 17724.06it/s]\n",
      "100%|██████████| 10000/10000 [00:00<00:00, 14096.82it/s]\n",
      "100%|██████████| 10000/10000 [00:01<00:00, 9565.78it/s]\n"
     ]
    }
   ],
   "source": [
    "nMonte = 10000\n",
    "nn = [50, 100, 200, 300, 500, 1000]\n",
    "res = np.zeros((len(nn), nMonte))\n",
    "\n",
    "for i,n in enumerate(nn):\n",
    "    for j in tqdm(range(nMonte)):\n",
    "        uu = np.random.rand(n)\n",
    "        mt = MultiTest(uu)\n",
    "        res[i,j] = mt.hc()[0]\n",
    "\n"
   ],
   "metadata": {
    "collapsed": false,
    "ExecuteTime": {
     "start_time": "2023-04-23T10:51:14.898505Z",
     "end_time": "2023-04-23T10:51:18.741579Z"
    }
   }
  },
  {
   "cell_type": "code",
   "execution_count": 43,
   "outputs": [
    {
     "name": "stdout",
     "output_type": "stream",
     "text": [
      "alpha=0.05: n=[50, 100, 200, 300, 500, 1000]\n",
      "1.718 (0.02) | 1.914 (0.02) | 2.041 (0.02) | 2.152 (0.02) | 2.258 (0.01) | 2.366 (0.02) | \n",
      "alpha=0.01: n=[50, 100, 200, 300, 500, 1000]\n",
      "2.042 (0.05) | 2.331 (0.04) | 2.466 (0.04) | 2.649 (0.04) | 2.736 (0.03) | 2.87 (0.02) | \n"
     ]
    }
   ],
   "source": [
    "def bootstrap_standard_error(xx, alpha, nBS = 1000):\n",
    "    xxBS_vec = np.random.choice(xx, size=len(xx)*nBS, replace=True)\n",
    "    xxBS = xxBS_vec.reshape([len(xx), -1])\n",
    "    return np.quantile(xxBS, 1 - alpha, axis=0).std()\n",
    "\n",
    "for al in [0.05, 0.01]:\n",
    "    print(f\"alpha={al}: n={nn}\")\n",
    "    for i,n in enumerate(nn):\n",
    "        sBS = bootstrap_standard_error(res[i], 1 - al)\n",
    "        print(f\"{np.round(np.quantile(res[i], 1 - al), 3)} ({np.round(sBS,2)})\", end=\" | \")\n",
    "    print()"
   ],
   "metadata": {
    "collapsed": false,
    "ExecuteTime": {
     "start_time": "2023-04-23T11:01:20.944839Z",
     "end_time": "2023-04-23T11:01:25.966711Z"
    }
   }
  },
  {
   "cell_type": "code",
   "execution_count": 30,
   "outputs": [],
   "source": [
    "xx = res[i]\n",
    "nBS = 1000\n"
   ],
   "metadata": {
    "collapsed": false,
    "ExecuteTime": {
     "start_time": "2023-04-23T10:47:26.318625Z",
     "end_time": "2023-04-23T10:47:28.877451Z"
    }
   }
  },
  {
   "cell_type": "code",
   "execution_count": 31,
   "outputs": [],
   "source": [],
   "metadata": {
    "collapsed": false,
    "ExecuteTime": {
     "start_time": "2023-04-23T10:47:28.960728Z",
     "end_time": "2023-04-23T10:47:28.963270Z"
    }
   }
  },
  {
   "cell_type": "code",
   "execution_count": 38,
   "outputs": [
    {
     "data": {
      "text/plain": "0.004505588735493997"
     },
     "execution_count": 38,
     "metadata": {},
     "output_type": "execute_result"
    }
   ],
   "source": [],
   "metadata": {
    "collapsed": false,
    "ExecuteTime": {
     "start_time": "2023-04-23T10:48:58.264448Z",
     "end_time": "2023-04-23T10:49:04.370702Z"
    }
   }
  },
  {
   "cell_type": "code",
   "execution_count": 39,
   "outputs": [],
   "source": [],
   "metadata": {
    "collapsed": false,
    "ExecuteTime": {
     "start_time": "2023-04-23T10:49:58.108631Z",
     "end_time": "2023-04-23T10:49:58.127558Z"
    }
   }
  },
  {
   "cell_type": "code",
   "execution_count": 9,
   "outputs": [],
   "source": [
    "dataset = \"wiki\"\n",
    "context = \"no_context\"\n",
    "name = f\"gpt2_{context}_{dataset}\"\n",
    "data_machine = pd.read_csv(f\"results/{name}_machine.csv\")\n",
    "data_human = pd.read_csv(f\"results/{name}_human.csv\")"
   ],
   "metadata": {
    "collapsed": false,
    "ExecuteTime": {
     "start_time": "2023-04-22T19:48:20.603856Z",
     "end_time": "2023-04-22T19:48:25.043860Z"
    }
   }
  },
  {
   "cell_type": "code",
   "execution_count": 9,
   "outputs": [],
   "source": [],
   "metadata": {
    "collapsed": false,
    "ExecuteTime": {
     "start_time": "2023-04-22T19:48:25.046367Z",
     "end_time": "2023-04-22T19:48:25.048912Z"
    }
   }
  },
  {
   "cell_type": "code",
   "execution_count": 19,
   "outputs": [],
   "source": [
    "datar = pd.concat([data_machine, data_human])\n",
    "if dataset == 'wiki':\n",
    "    data_machine['author'] = 'GPT3'\n",
    "    data_human['author'] = 'Wikipedia'\n",
    "if dataset == 'news':\n",
    "    data_machine['author'] = 'ChatGPT'\n",
    "    data_human['author'] = 'CNN/DailyMail'\n",
    "\n",
    "datar = pd.concat([data_machine, data_human])\n",
    "datar = datar[datar['length'] <= 60]\n",
    "\n",
    "datar = datar[datar.num>1] if dataset == 'news' else datar[datar.sent_num>1]"
   ],
   "metadata": {
    "collapsed": false,
    "ExecuteTime": {
     "start_time": "2023-04-22T19:49:25.804111Z",
     "end_time": "2023-04-22T19:49:27.383814Z"
    }
   }
  },
  {
   "cell_type": "code",
   "execution_count": 20,
   "outputs": [
    {
     "data": {
      "text/plain": "<Figure size 800x500 with 1 Axes>",
      "image/png": "[encoded data removed]"
     },
     "metadata": {},
     "output_type": "display_data"
    }
   ],
   "source": [
    "from scipy.stats import norm\n",
    "tt = np.linspace(0,10,223)\n",
    "datar.groupby('author').response.plot.hist(bins = tt, density=True, alpha=.75, legend=True)\n",
    "plt.show()\n",
    "#"
   ],
   "metadata": {
    "collapsed": false,
    "ExecuteTime": {
     "start_time": "2023-04-22T19:49:27.408867Z",
     "end_time": "2023-04-22T19:49:29.787969Z"
    }
   }
  },
  {
   "cell_type": "markdown",
   "id": "86a5a1fd",
   "metadata": {},
   "source": [
    "## Under normal approximation:\n",
    "$$\n",
    "Z_1 \\sim N(\\mu_1, \\sigma^2),\\quad Z_2 \\sim N(\\mu_2, \\sigma^2)\n",
    "$$\n",
    "$$\n",
    "Z = \\frac{Z_1 - Z_2}{\\sqrt{2}\\sigma} \\sim N(\\mu_1 - \\mu_2 , 1) \n",
    "$$\n"
   ]
  },
  {
   "cell_type": "code",
   "execution_count": 214,
   "id": "f50b1570",
   "metadata": {
    "ExecuteTime": {
     "start_time": "2023-04-07T01:14:57.285999Z",
     "end_time": "2023-04-07T01:14:57.405338Z"
    }
   },
   "outputs": [
    {
     "name": "stdout",
     "output_type": "stream",
     "text": [
      "s = 0.8089057691940266, m = 0.6359533790829568\n"
     ]
    }
   ],
   "source": [
    "m1, m2 = datar.groupby('author').response.mean()\n",
    "s1, s2 = datar.groupby('author').response.std()\n",
    "s = np.sqrt((s1 ** 2 + s2 ** 2) /2)\n",
    "m = (m2 - m1) / s / np.sqrt(2)\n",
    "print(f\"s = {s}, m = {m}\")"
   ]
  },
  {
   "cell_type": "code",
   "execution_count": 253,
   "id": "c9f336cf",
   "metadata": {
    "ExecuteTime": {
     "start_time": "2023-04-07T01:35:05.812500Z",
     "end_time": "2023-04-07T01:35:05.824367Z"
    }
   },
   "outputs": [
    {
     "name": "stdout",
     "output_type": "stream",
     "text": [
      "r_hat =  0.0878223136242802\n",
      "beta needed:  0.5878223136242802\n"
     ]
    }
   ],
   "source": [
    "n = 100\n",
    "r = m**2 / 2 / np.log(n)\n",
    "\n",
    "print(\"r_hat = \", r)\n",
    "\n",
    "def rho_inv(r):\n",
    "    if r > 1: return np.nan\n",
    "    return (r + 1/2) * (r < .25) + (1 - (1 - np.sqrt(r))**2) * (r >= 0.25) \n",
    "\n",
    "beta = rho_inv(r)\n",
    "print(\"beta needed: \", beta)"
   ]
  },
  {
   "cell_type": "markdown",
   "source": [
    "## Estimate log-chisquared params:\n",
    "\n",
    "$$\n",
    "-2\\log P(x) = (\\mu + \\sigma Z)^2,\\qquad \\mu = \\sqrt{2 r \\log(n)}\n",
    "$$\n",
    "Hence\n",
    "$$\n",
    "\\hat{\\mu} = \\mathrm{ave}_i\\{ \\sqrt{-2 \\log P(x_i)}  \\},\\qquad \\hat{r} = \\hat{\\mu}^2/ (2 \\log(n))\n",
    "$$\n",
    "$$\n",
    "\\hat{\\sigma}^2 = \\mathrm{var}_i \\{ \\sqrt{-2 \\log P(x_i)}  \\}\n",
    "$$\n"
   ],
   "metadata": {
    "collapsed": false
   }
  },
  {
   "cell_type": "code",
   "execution_count": 216,
   "id": "4f44fa25",
   "metadata": {
    "ExecuteTime": {
     "start_time": "2023-04-07T01:15:32.829054Z",
     "end_time": "2023-04-07T01:15:32.841096Z"
    }
   },
   "outputs": [],
   "source": [
    "def fit_pval_func(xx, G = 501):\n",
    "    qq = np.linspace(0, 1, G)\n",
    "    yy = [np.quantile(xx, q) for q in qq]\n",
    "    return interp1d(yy, 1-qq, fill_value = (1,0), bounds_error=False)"
   ]
  },
  {
   "cell_type": "code",
   "execution_count": 217,
   "outputs": [],
   "source": [
    "pval_func = fit_pval_func(datam[datam.author == 'gpt'].response)"
   ],
   "metadata": {
    "collapsed": false,
    "ExecuteTime": {
     "start_time": "2023-04-07T01:15:33.266138Z",
     "end_time": "2023-04-07T01:15:37.809473Z"
    }
   }
  },
  {
   "cell_type": "code",
   "execution_count": 221,
   "outputs": [],
   "source": [
    "px = pval_func(datam[datam.author=='gpt'].response)"
   ],
   "metadata": {
    "collapsed": false,
    "ExecuteTime": {
     "start_time": "2023-04-07T01:18:24.063382Z",
     "end_time": "2023-04-07T01:18:24.226429Z"
    }
   }
  },
  {
   "cell_type": "code",
   "execution_count": 272,
   "outputs": [
    {
     "name": "stdout",
     "output_type": "stream",
     "text": [
      "r_h = 0.07525733267703319\n",
      "sigma_h = 0.6531460676028922\n",
      "HERE!! we actually need to use non-unit standard deviation to evaluate beta\n",
      "r_hat =  0.07525733267703319\n",
      "beta needed:  0.5752573326770332\n",
      "Epsilon:  0.005000007655592983\n"
     ]
    },
    {
     "name": "stderr",
     "output_type": "stream",
     "text": [
      "<ipython-input-272-b68362bc47be>:4: RuntimeWarning: invalid value encountered in sqrt\n",
      "  a = np.sqrt(-2 * np.log(px + 1e-10))\n"
     ]
    }
   ],
   "source": [
    "n = 10000\n",
    "mu_hat = np.mean(np.sqrt(-2 * np.log(np.mean(px))))\n",
    "rh = mu_hat ** 2 / 2 / np.log(n)\n",
    "a = np.sqrt(-2 * np.log(px + 1e-10))\n",
    "sh = np.std(a[~np.isnan(a)])\n",
    "print(f\"r_h = {rh}\")\n",
    "print(f\"sigma_h = {sh}\")\n",
    "\n",
    "print(\"HERE!! we actually need to use non-unit standard deviation to evaluate beta\")\n",
    "\n",
    "print(\"r_hat = \", rh)\n",
    "\n",
    "def rho_inv(r):\n",
    "    if r > 1: return np.nan\n",
    "    return (r + 1/2) * (r < .25) + (1 - (1 - np.sqrt(r))**2) * (r >= 0.25)\n",
    "\n",
    "beta = rho_inv(rh)\n",
    "print(\"beta needed: \", beta)\n",
    "print(\"Epsilon: \", n ** ( - beta))"
   ],
   "metadata": {
    "collapsed": false,
    "ExecuteTime": {
     "start_time": "2023-04-07T02:35:25.086166Z",
     "end_time": "2023-04-07T02:35:25.114784Z"
    }
   }
  },
  {
   "cell_type": "code",
   "execution_count": 269,
   "outputs": [],
   "source": [
    "n ** -beta = al"
   ],
   "metadata": {
    "collapsed": false,
    "ExecuteTime": {
     "start_time": "2023-04-07T02:34:46.004462Z",
     "end_time": "2023-04-07T02:34:46.019062Z"
    }
   }
  },
  {
   "cell_type": "code",
   "execution_count": 270,
   "outputs": [
    {
     "data": {
      "text/plain": "0.015811412509952556"
     },
     "execution_count": 270,
     "metadata": {},
     "output_type": "execute_result"
    }
   ],
   "source": [
    "- beta * log(n) = log(al)"
   ],
   "metadata": {
    "collapsed": false,
    "ExecuteTime": {
     "start_time": "2023-04-07T02:34:50.100404Z",
     "end_time": "2023-04-07T02:34:50.103465Z"
    }
   }
  },
  {
   "cell_type": "code",
   "execution_count": 239,
   "outputs": [
    {
     "data": {
      "text/plain": "array([0.27895368, 0.38353781, 0.05115706, ..., 0.26169788, 0.42610204,\n       0.86905629])"
     },
     "execution_count": 239,
     "metadata": {},
     "output_type": "execute_result"
    }
   ],
   "source": [],
   "metadata": {
    "collapsed": false,
    "ExecuteTime": {
     "start_time": "2023-04-07T01:30:56.024252Z",
     "end_time": "2023-04-07T01:30:56.039045Z"
    }
   }
  },
  {
   "cell_type": "code",
   "execution_count": 62,
   "id": "959f7fbe",
   "metadata": {},
   "outputs": [],
   "source": [
    "pval_func = {}\n",
    "for c in data_gpt.groupby(['length']):\n",
    "    pval_func[c[0]] = fit_pval_func(c[1].logloss)"
   ]
  },
  {
   "cell_type": "code",
   "execution_count": 39,
   "id": "593d3cb0",
   "metadata": {},
   "outputs": [],
   "source": [
    "def pval_per_sentence(texts, model, tokenizer, pval_func):\n",
    "    pvals = []\n",
    "    for text in texts:\n",
    "        x = logloss(model, tokenizer, text)\n",
    "        pval = pval_func()\n",
    "        pvals.append(pval) \n",
    "    return pvals"
   ]
  },
  {
   "cell_type": "code",
   "execution_count": 77,
   "id": "fb43335a",
   "metadata": {},
   "outputs": [
    {
     "data": {
      "image/png": "[encoded data removed]",
      "text/plain": [
       "<Figure size 576x360 with 1 Axes>"
      ]
     },
     "metadata": {
      "needs_background": "light"
     },
     "output_type": "display_data"
    }
   ],
   "source": [
    "def plot_perp_vs_len(data, min_len=5, max_len=40):\n",
    "    df_grouped = (\n",
    "        data[['length', 'logloss']][(data['length'] >= min_len) \n",
    "                                        & (data['length'] <= max_len)\n",
    "                                       ].groupby(['length']).agg(['mean', 'std', 'count'])\n",
    "    )\n",
    "    df_grouped = df_grouped.droplevel(axis=1, level=0).reset_index()\n",
    "    # Calculate a confidence interval as well.\n",
    "    df_grouped['ci'] = 1.96 * df_grouped['std'] / np.sqrt(df_grouped['count'])\n",
    "    df_grouped['ci_lower'] = df_grouped['mean'] - df_grouped['ci']\n",
    "    df_grouped['ci_upper'] = df_grouped['mean'] + df_grouped['ci']\n",
    "    df_grouped.head()\n",
    "\n",
    "\n",
    "    fig, ax = plt.subplots()\n",
    "    x = df_grouped['length']\n",
    "    ax.plot(x, df_grouped['mean'])\n",
    "    ax.fill_between(\n",
    "        x, df_grouped['ci_lower'], df_grouped['ci_upper'], color='b', alpha=.15)\n",
    "    ax.set_ylim(ymin=0)\n",
    "    ax.set_title('log perplexity vs. length')\n",
    "    ax.set_xlabel(\"Sentence Length [tokens]\")\n",
    "    ax.set_ylabel(\"Log Perplexity [nats]\")\n",
    "    ax.set_ylim((2,4))\n",
    "    plt.rcParams[\"figure.figsize\"] = (8,5)\n",
    "    \n",
    "\n",
    "plot_perp_vs_len(data_gpt, min_len=5, max_len=40)\n",
    "plt.savefig(\"logperp_vs_len_gpt.png\")\n",
    "plt.show()"
   ]
  },
  {
   "cell_type": "code",
   "execution_count": 90,
   "id": "c9d023b6",
   "metadata": {},
   "outputs": [
    {
     "data": {
      "text/plain": [
       "length\n",
       "5     Axes(0.125,0.125;0.775x0.755)\n",
       "10    Axes(0.125,0.125;0.775x0.755)\n",
       "20    Axes(0.125,0.125;0.775x0.755)\n",
       "Name: logloss, dtype: object"
      ]
     },
     "execution_count": 90,
     "metadata": {},
     "output_type": "execute_result"
    },
    {
     "data": {
      "image/png": "[encoded data removed]",
      "text/plain": [
       "<Figure size 576x360 with 1 Axes>"
      ]
     },
     "metadata": {
      "needs_background": "light"
     },
     "output_type": "display_data"
    }
   ],
   "source": [
    "data_gpt[data_gpt.length.isin([5, 10, 20])].groupby('length').logloss.hist(bins=np.linspace(0,8,101))"
   ]
  },
  {
   "cell_type": "code",
   "execution_count": null,
   "id": "e11b4ebc",
   "metadata": {},
   "outputs": [],
   "source": []
  }
 ],
 "metadata": {
  "kernelspec": {
   "display_name": "Python 3",
   "language": "python",
   "name": "python3"
  },
  "language_info": {
   "codemirror_mode": {
    "name": "ipython",
    "version": 3
   },
   "file_extension": ".py",
   "mimetype": "text/x-python",
   "name": "python",
   "nbconvert_exporter": "python",
   "pygments_lexer": "ipython3",
   "version": "3.8.5"
  }
 },
 "nbformat": 4,
 "nbformat_minor": 5
}
