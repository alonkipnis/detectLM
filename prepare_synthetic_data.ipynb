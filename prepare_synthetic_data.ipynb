{
 "cells": [
  {
   "cell_type": "code",
   "execution_count": 285,
   "id": "9f302d2c",
   "metadata": {
    "ExecuteTime": {
     "end_time": "2023-06-02T18:26:06.732236Z",
     "start_time": "2023-06-02T18:26:06.641012Z"
    }
   },
   "outputs": [],
   "source": [
    "import numpy as np\n",
    "import scipy\n",
    "import matplotlib.pyplot as plt\n",
    "import matplotlib as mpl\n",
    "mpl.style.use('ggplot')\n",
    "%matplotlib inline\n",
    "from tqdm import tqdm\n",
    "from multitest import MultiTest\n",
    "import pandas as pd\n",
    "\n",
    "from src.DetectLM import DetectLM\n",
    "from src.fit_survival_function import fit_per_length_survival_function"
   ]
  },
  {
   "attachments": {},
   "cell_type": "markdown",
   "id": "d63aad04",
   "metadata": {},
   "source": [
    "HERE (8/7/2023): \n",
    "- There is some issue with the dataset 'wiki-long': the intersection between mahcine and human ids is very small. \n",
    "- It is unclear what is the cause. \n",
    "- Also, right now we sample a fraction of the human sentences but we need to sample a fraction of the machine sentences. \n",
    "- Therefore, we should specify the number of sentences to sample from the human text based on the number of sentences in the machine text. \n"
   ]
  },
  {
   "cell_type": "code",
   "execution_count": 286,
   "id": "992d1ba3",
   "metadata": {},
   "outputs": [],
   "source": [
    "dataset_name = 'wiki-long'\n",
    "model_name = \"gpt2-xl\"\n",
    "\n",
    "params = {}\n",
    "params['ignore-first-sentence'] = True\n",
    "params['null-data-file'] = f\"results/{model_name}_no_context_{dataset_name}_machine.csv\"\n",
    "params['language-model-name'] = model_name\n",
    "params['number-of-interpolation-points'] = 47\n",
    "params['max-tokens-per-sentence'] = 50\n",
    "params['min-tokens-per-sentence'] = 8\n",
    "params['hc-type'] = \"stbl\""
   ]
  },
  {
   "cell_type": "code",
   "execution_count": 287,
   "id": "dbe308a3",
   "metadata": {},
   "outputs": [],
   "source": [
    "def get_null_data(params):\n",
    "    df_null = pd.read_csv(params['null-data-file'])\n",
    "    if params['ignore-first-sentence']: \n",
    "        df_null = df_null[df_null.num > 1]\n",
    "    return df_null\n",
    "\n",
    "def get_survival_function(df, G=101):\n",
    "    \"\"\"\n",
    "    One survival function for every sentence length in tokens\n",
    "\n",
    "    Args:\n",
    "    :df:  data frame with columns 'response' and 'length'\n",
    "\n",
    "    Return:\n",
    "        bivariate function (length, responce) -> (0,1)\n",
    "\n",
    "    \"\"\"\n",
    "    assert not df.empty\n",
    "    value_name = \"response\" if \"response\" in df.columns else \"logloss\"\n",
    "\n",
    "    df1 = df[~df[value_name].isna()]\n",
    "    ll = df1['length']\n",
    "    xx1 = df1[value_name]\n",
    "    return fit_per_length_survival_function(ll, xx1, log_space=True, G=G)\n",
    "\n",
    "       \n",
    "df_null = get_null_data(params)\n",
    "pval_functions = get_survival_function(df_null, G=params['number-of-interpolation-points'])"
   ]
  },
  {
   "cell_type": "code",
   "execution_count": 288,
   "id": "a3d3cd70",
   "metadata": {},
   "outputs": [],
   "source": [
    "ds_machine = pd.read_csv(f\"results/{model_name}_no_context_{dataset_name}_machine.csv\")\n",
    "ds_human = pd.read_csv(f\"results/{model_name}_no_context_{dataset_name}_human.csv\")"
   ]
  },
  {
   "cell_type": "code",
   "execution_count": 290,
   "id": "80e9af73",
   "metadata": {},
   "outputs": [
    {
     "name": "stdout",
     "output_type": "stream",
     "text": [
      "117746\n",
      "361391\n"
     ]
    }
   ],
   "source": [
    "print(len(ds_machine))\n",
    "print(len(ds_human))"
   ]
  },
  {
   "cell_type": "code",
   "execution_count": 284,
   "id": "bfc20f71",
   "metadata": {},
   "outputs": [
    {
     "data": {
      "text/html": [
       "<div>\n",
       "<style scoped>\n",
       "    .dataframe tbody tr th:only-of-type {\n",
       "        vertical-align: middle;\n",
       "    }\n",
       "\n",
       "    .dataframe tbody tr th {\n",
       "        vertical-align: top;\n",
       "    }\n",
       "\n",
       "    .dataframe thead th {\n",
       "        text-align: right;\n",
       "    }\n",
       "</style>\n",
       "<table border=\"1\" class=\"dataframe\">\n",
       "  <thead>\n",
       "    <tr style=\"text-align: right;\">\n",
       "      <th></th>\n",
       "      <th>Unnamed: 0</th>\n",
       "      <th>num</th>\n",
       "      <th>length</th>\n",
       "      <th>response</th>\n",
       "      <th>context_length</th>\n",
       "      <th>name</th>\n",
       "    </tr>\n",
       "  </thead>\n",
       "  <tbody>\n",
       "    <tr>\n",
       "      <th>0</th>\n",
       "      <td>0</td>\n",
       "      <td>1</td>\n",
       "      <td>45</td>\n",
       "      <td>2.818405</td>\n",
       "      <td>0</td>\n",
       "      <td>26709147</td>\n",
       "    </tr>\n",
       "    <tr>\n",
       "      <th>1</th>\n",
       "      <td>1</td>\n",
       "      <td>2</td>\n",
       "      <td>25</td>\n",
       "      <td>5.043517</td>\n",
       "      <td>0</td>\n",
       "      <td>26709147</td>\n",
       "    </tr>\n",
       "    <tr>\n",
       "      <th>2</th>\n",
       "      <td>2</td>\n",
       "      <td>3</td>\n",
       "      <td>14</td>\n",
       "      <td>3.004730</td>\n",
       "      <td>0</td>\n",
       "      <td>26709147</td>\n",
       "    </tr>\n",
       "    <tr>\n",
       "      <th>3</th>\n",
       "      <td>3</td>\n",
       "      <td>4</td>\n",
       "      <td>40</td>\n",
       "      <td>3.169291</td>\n",
       "      <td>0</td>\n",
       "      <td>26709147</td>\n",
       "    </tr>\n",
       "    <tr>\n",
       "      <th>4</th>\n",
       "      <td>4</td>\n",
       "      <td>5</td>\n",
       "      <td>46</td>\n",
       "      <td>4.241125</td>\n",
       "      <td>0</td>\n",
       "      <td>26709147</td>\n",
       "    </tr>\n",
       "    <tr>\n",
       "      <th>5</th>\n",
       "      <td>5</td>\n",
       "      <td>6</td>\n",
       "      <td>26</td>\n",
       "      <td>4.387065</td>\n",
       "      <td>0</td>\n",
       "      <td>26709147</td>\n",
       "    </tr>\n",
       "    <tr>\n",
       "      <th>6</th>\n",
       "      <td>6</td>\n",
       "      <td>7</td>\n",
       "      <td>16</td>\n",
       "      <td>3.758419</td>\n",
       "      <td>0</td>\n",
       "      <td>26709147</td>\n",
       "    </tr>\n",
       "    <tr>\n",
       "      <th>7</th>\n",
       "      <td>7</td>\n",
       "      <td>8</td>\n",
       "      <td>27</td>\n",
       "      <td>4.275131</td>\n",
       "      <td>0</td>\n",
       "      <td>26709147</td>\n",
       "    </tr>\n",
       "    <tr>\n",
       "      <th>8</th>\n",
       "      <td>8</td>\n",
       "      <td>9</td>\n",
       "      <td>16</td>\n",
       "      <td>3.509687</td>\n",
       "      <td>0</td>\n",
       "      <td>26709147</td>\n",
       "    </tr>\n",
       "    <tr>\n",
       "      <th>9</th>\n",
       "      <td>9</td>\n",
       "      <td>10</td>\n",
       "      <td>20</td>\n",
       "      <td>3.944451</td>\n",
       "      <td>0</td>\n",
       "      <td>26709147</td>\n",
       "    </tr>\n",
       "    <tr>\n",
       "      <th>10</th>\n",
       "      <td>10</td>\n",
       "      <td>11</td>\n",
       "      <td>23</td>\n",
       "      <td>3.585383</td>\n",
       "      <td>0</td>\n",
       "      <td>26709147</td>\n",
       "    </tr>\n",
       "  </tbody>\n",
       "</table>\n",
       "</div>"
      ],
      "text/plain": [
       "    Unnamed: 0  num  length  response  context_length      name\n",
       "0            0    1      45  2.818405               0  26709147\n",
       "1            1    2      25  5.043517               0  26709147\n",
       "2            2    3      14  3.004730               0  26709147\n",
       "3            3    4      40  3.169291               0  26709147\n",
       "4            4    5      46  4.241125               0  26709147\n",
       "5            5    6      26  4.387065               0  26709147\n",
       "6            6    7      16  3.758419               0  26709147\n",
       "7            7    8      27  4.275131               0  26709147\n",
       "8            8    9      16  3.509687               0  26709147\n",
       "9            9   10      20  3.944451               0  26709147\n",
       "10          10   11      23  3.585383               0  26709147"
      ]
     },
     "execution_count": 284,
     "metadata": {},
     "output_type": "execute_result"
    }
   ],
   "source": [
    "ds_human[ds_human['name'] == 26709147]"
   ]
  },
  {
   "cell_type": "code",
   "execution_count": 291,
   "id": "5c6c25ee",
   "metadata": {},
   "outputs": [
    {
     "name": "stdout",
     "output_type": "stream",
     "text": [
      "9780\n",
      "0.07752279215394678\n"
     ]
    }
   ],
   "source": [
    "eps = 0.1\n",
    "\n",
    "ds_merged = ds_machine.merge(ds_human, on='name', how='inner')\n",
    "\n",
    "joint_names = ds_merged['name'].tolist()\n",
    "\n",
    "\n",
    "ds_pool = ds_human[ds_human['name'].isin(joint_names)]\n",
    "ds_sample = ds_pool.groupby(\"name\").sample(frac=eps)\n",
    "\n",
    "print(len(ds_sample))\n",
    "\n",
    "ds_sample['human'] = True\n",
    "ds_machine['human'] = False\n",
    "ds_mixed = pd.concat([ds_machine[ds_machine['name'].isin(joint_names)], ds_sample])\n",
    "\n",
    "print(ds_mixed.groupby('name')['human'].mean().mean())"
   ]
  },
  {
   "cell_type": "code",
   "execution_count": 262,
   "id": "871816ba",
   "metadata": {},
   "outputs": [],
   "source": [
    "def group_articles_to_minimum_length(df, min_length):\n",
    "    \"\"\"\n",
    "    Rearrange group names so that every group has at least\n",
    "    :min_length: elements\n",
    "    \"\"\"\n",
    "    df_grouped = df.copy()\n",
    "    df_grouped.loc[:, 'new_name'] = df['name'].copy()\n",
    "    groups = list(ds_mixed.groupby('name'))\n",
    "    lo_names = []\n",
    "    while len(groups) > 0:\n",
    "        c = groups.pop(0)\n",
    "        acc = len(c[1])\n",
    "        while (acc <= min_length) and len(groups)>0:\n",
    "            c1 = groups.pop(0)\n",
    "            acc += len(c1[1])\n",
    "            df_grouped.loc[df['name'] == c1[0], 'new_name'] = c[0]\n",
    "\n",
    "    return df_grouped\n",
    "\n",
    "min_length = 100\n",
    "ds_mixed_grouped = group_articles_to_minimum_length(ds_mixed, min_length)\n"
   ]
  },
  {
   "cell_type": "code",
   "execution_count": 263,
   "id": "ac81684e",
   "metadata": {},
   "outputs": [
    {
     "name": "stderr",
     "output_type": "stream",
     "text": [
      "100%|██████████| 3304/3304 [00:01<00:00, 2527.09it/s]\n"
     ]
    }
   ],
   "source": [
    "detectlm = DetectLM(lambda x: 0,\n",
    "                    pval_functions,\n",
    "                     min_len=params['min-tokens-per-sentence'],\n",
    "                    max_len=params['max-tokens-per-sentence'],\n",
    "                    HC_type=params['hc-type'],\n",
    "                    ignore_first_sentence=params['ignore-first-sentence']\n",
    "                      )\n",
    "stbl = True if params['hc-type']=='stbl' else False\n",
    "\n",
    "min_no_sentences = 10\n",
    "\n",
    "results = []\n",
    "too_short = []\n",
    "for c in tqdm(ds_mixed_grouped.groupby('new_name')):\n",
    "    responses = c[1]['response']\n",
    "    lengths = c[1]['length']\n",
    "    if len(responses) > min_no_sentences:\n",
    "      pvals, comments = detectlm._get_pvals(responses, lengths)\n",
    "      pvals = np.vstack(pvals).squeeze()\n",
    "      mt = MultiTest(pvals, stbl=stbl)\n",
    "      hc = mt.hc()[0]\n",
    "      results.append(dict(id=c[0], HC=hc))\n",
    "    else:\n",
    "       too_short.append(c)"
   ]
  },
  {
   "cell_type": "code",
   "execution_count": 264,
   "id": "a3d34eb9",
   "metadata": {},
   "outputs": [],
   "source": [
    "crit_vals = pd.read_csv(\"HC_critvals.csv\")"
   ]
  },
  {
   "cell_type": "code",
   "execution_count": 265,
   "id": "b7c43be6",
   "metadata": {},
   "outputs": [
    {
     "name": "stdout",
     "output_type": "stream",
     "text": [
      "Model=gpt2-xl, dataset=news, epsilon=0.1, length=100, sig_level=0.05 --> detection rate 0.3662227602905569\n"
     ]
    }
   ],
   "source": [
    "sig_level = 0.05\n",
    "t0 = crit_vals[(crit_vals.n == min_length) & (crit_vals.alpha == sig_level)].q_alpha.values[0]\n",
    "acc = np.mean(pd.DataFrame.from_dict(results)['HC'] > t0)\n",
    "\n",
    "print(f\"Model={model_name}, dataset={dataset_name}, epsilon={eps}, length={min_length}, sig_level={sig_level} --> detection rate {acc}\")"
   ]
  },
  {
   "cell_type": "code",
   "execution_count": null,
   "id": "a12c597c",
   "metadata": {},
   "outputs": [],
   "source": []
  },
  {
   "cell_type": "code",
   "execution_count": null,
   "id": "4e3aabef",
   "metadata": {},
   "outputs": [],
   "source": []
  },
  {
   "cell_type": "code",
   "execution_count": null,
   "id": "687f317b",
   "metadata": {},
   "outputs": [],
   "source": []
  },
  {
   "cell_type": "code",
   "execution_count": null,
   "id": "38c4b354",
   "metadata": {},
   "outputs": [],
   "source": []
  }
 ],
 "metadata": {
  "kernelspec": {
   "display_name": "Python 3",
   "language": "python",
   "name": "python3"
  },
  "language_info": {
   "codemirror_mode": {
    "name": "ipython",
    "version": 3
   },
   "file_extension": ".py",
   "mimetype": "text/x-python",
   "name": "python",
   "nbconvert_exporter": "python",
   "pygments_lexer": "ipython3",
   "version": "3.10.11"
  }
 },
 "nbformat": 4,
 "nbformat_minor": 5
}
