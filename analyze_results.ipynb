{
 "cells": [
  {
   "cell_type": "code",
   "execution_count": 1,
   "id": "9f302d2c",
   "metadata": {
    "ExecuteTime": {
     "end_time": "2023-05-15T09:53:23.184466Z",
     "start_time": "2023-05-15T09:53:22.785221Z"
    }
   },
   "outputs": [],
   "source": [
    "import numpy as np\n",
    "import scipy\n",
    "import matplotlib.pyplot as plt\n",
    "import matplotlib as mpl\n",
    "mpl.style.use('ggplot')\n",
    "%matplotlib inline\n",
    "import json\n"
   ]
  },
  {
   "cell_type": "code",
   "execution_count": 2,
   "id": "0782bd8a",
   "metadata": {
    "ExecuteTime": {
     "end_time": "2023-05-15T09:53:23.653409Z",
     "start_time": "2023-05-15T09:53:23.186096Z"
    }
   },
   "outputs": [],
   "source": [
    "from scipy.interpolate import interp1d\n",
    "import pandas as pd\n",
    "import numpy as np"
   ]
  },
  {
   "cell_type": "code",
   "execution_count": 51,
   "outputs": [],
   "source": [
    "dataset = 'wiki'\n",
    "N = 100\n",
    "eps = \"02\"\n",
    "results_filename0 = f\"results/results_mixed_{dataset}_large_eps00_atleast{N}.json\"\n",
    "\n",
    "with open(results_filename0, \"r\") as f:\n",
    "    data0 = json.load(f)\n",
    "\n",
    "results_filename = f\"results/results_mixed_{dataset}_large_eps{eps}_atleast{N}.json\"\n",
    "\n",
    "with open(results_filename, \"r\") as f:\n",
    "    data = json.load(f)"
   ],
   "metadata": {
    "collapsed": false,
    "ExecuteTime": {
     "end_time": "2023-05-15T10:16:42.340077Z",
     "start_time": "2023-05-15T10:16:42.326099Z"
    }
   }
  },
  {
   "cell_type": "code",
   "execution_count": 52,
   "outputs": [],
   "source": [
    "df0 = pd.DataFrame(data0).T\n",
    "df = pd.DataFrame(data).T"
   ],
   "metadata": {
    "collapsed": false,
    "ExecuteTime": {
     "end_time": "2023-05-15T10:16:43.057620Z",
     "start_time": "2023-05-15T10:16:43.053205Z"
    }
   }
  },
  {
   "cell_type": "code",
   "execution_count": 53,
   "outputs": [
    {
     "name": "stdout",
     "output_type": "stream",
     "text": [
      "HC95 =  1.8178062500292147\n",
      "HC975 =  2.535116275417343\n",
      "fisher_pval005 =  0.29723165156186626\n",
      "fisher_pval0025 =  0.14774678633300464\n"
     ]
    }
   ],
   "source": [
    "hc95 = df0['hc'].quantile(0.95)\n",
    "hc975 = df0['hc'].quantile(0.975)\n",
    "fisher005 = df0['fisher_pval'].quantile(0.05)\n",
    "fisher0025 = df0['fisher_pval'].quantile(0.025)\n",
    "\n",
    "print(\"HC95 = \", hc95)\n",
    "print(\"HC975 = \", hc975)\n",
    "print(\"fisher_pval005 = \", fisher005)\n",
    "print(\"fisher_pval0025 = \", fisher0025)\n"
   ],
   "metadata": {
    "collapsed": false,
    "ExecuteTime": {
     "end_time": "2023-05-15T10:16:43.226464Z",
     "start_time": "2023-05-15T10:16:43.220188Z"
    }
   }
  },
  {
   "cell_type": "code",
   "execution_count": 56,
   "outputs": [
    {
     "name": "stdout",
     "output_type": "stream",
     "text": [
      "HC discoveries:  0.47005444646098005\n",
      "Fisher discoveries:  0.676950998185118\n",
      "Combined:  0.5662431941923775\n",
      "TD rate:  0.6442338615751858\n",
      "Recall:  0.31940018465146036\n"
     ]
    }
   ],
   "source": [
    "print(\"HC discoveries: \", np.mean(df.hc > hc95))\n",
    "print(\"Fisher discoveries: \", np.mean(df.fisher_pval < fisher005))\n",
    "print(\"Combined: \", np.mean( (df.hc > hc975) | (df.fisher_pval < fisher0025) ))\n",
    "print(\"TD rate: \", np.mean(df.TDP))\n",
    "print(\"Recall: \", np.mean(df['recall']))\n"
   ],
   "metadata": {
    "collapsed": false,
    "ExecuteTime": {
     "end_time": "2023-05-15T10:46:25.107351Z",
     "start_time": "2023-05-15T10:46:25.104821Z"
    }
   }
  },
  {
   "cell_type": "code",
   "execution_count": 94,
   "outputs": [],
   "source": [
    "def report_results(eps, N, dataset, null_values = \"file\"):\n",
    "\n",
    "    if null_values == \"file\":\n",
    "        results_filename0 = f\"results/results_mixed_{dataset}_large_eps00_atleast{N}.json\"\n",
    "\n",
    "        with open(results_filename0, \"r\") as f:\n",
    "            data0 = json.load(f)\n",
    "\n",
    "        df0 = pd.DataFrame(data0).T\n",
    "        hc95 = df0['hc'].quantile(0.95)\n",
    "        hc975 = df0['hc'].quantile(0.975)\n",
    "        fisher005 = df0['fisher_pval'].quantile(0.05)\n",
    "        fisher0025 = df0['fisher_pval'].quantile(0.025)\n",
    "    else:\n",
    "        hc95 = 1.9\n",
    "        hc975 = 2.5\n",
    "        fisher005 = 0.05\n",
    "        fisher0025 = 0.025\n",
    "\n",
    "    results_filename = f\"results/results_mixed_{dataset}_large_eps{eps}_atleast{N}.json\"\n",
    "    with open(results_filename, \"r\") as f:\n",
    "        data = json.load(f)\n",
    "    df = pd.DataFrame(data).T\n",
    "\n",
    "    print(\"HC95 = \", hc95)\n",
    "    print(\"HC975 = \", hc975)\n",
    "    print(\"fisher_pval005 = \", fisher005)\n",
    "    print(\"fisher_pval0025 = \", fisher0025)\n",
    "\n",
    "    print(\"HC discoveries: \", np.mean(df.hc > hc95))\n",
    "    print(\"Fisher discoveries: \", np.mean(df.fisher_pval < fisher005))\n",
    "    print(\"Combined: \", np.mean( (df.hc > hc975) | (df.fisher_pval < fisher0025) ))\n",
    "    print(\"TD rate: \", np.mean(df.TDP))\n",
    "    print(\"Recall: \", np.mean(df['recall']))\n",
    "    precision = np.mean(df.TDP)\n",
    "    recall  = np.mean(df['recall'])\n",
    "    print(\"F1: \", 2 * (precision * recall) / (precision + recall) )\n"
   ],
   "metadata": {
    "collapsed": false,
    "ExecuteTime": {
     "end_time": "2023-05-15T13:15:37.818982Z",
     "start_time": "2023-05-15T13:15:37.802509Z"
    }
   }
  },
  {
   "cell_type": "code",
   "execution_count": 112,
   "outputs": [
    {
     "name": "stdout",
     "output_type": "stream",
     "text": [
      "HC95 =  3.015005190653863\n",
      "HC975 =  3.6875221728066476\n",
      "fisher_pval005 =  0.056135834216864765\n",
      "fisher_pval0025 =  0.019863872627446013\n",
      "HC discoveries:  0.7096188747731398\n",
      "Fisher discoveries:  0.6352087114337568\n",
      "Combined:  0.6842105263157895\n",
      "TD rate:  0.6982262791077891\n",
      "Recall:  0.20576222395340626\n",
      "F1:  0.31785490971494096\n"
     ]
    }
   ],
   "source": [
    "# to run: news_00_100\n",
    "report_results(\"02\", 100, 'news', null_values='file')"
   ],
   "metadata": {
    "collapsed": false,
    "ExecuteTime": {
     "end_time": "2023-05-15T17:03:35.655565Z",
     "start_time": "2023-05-15T17:03:35.602175Z"
    }
   }
  },
  {
   "cell_type": "code",
   "execution_count": null,
   "outputs": [],
   "source": [],
   "metadata": {
    "collapsed": false
   }
  }
 ],
 "metadata": {
  "kernelspec": {
   "display_name": "Python 3",
   "language": "python",
   "name": "python3"
  },
  "language_info": {
   "codemirror_mode": {
    "name": "ipython",
    "version": 3
   },
   "file_extension": ".py",
   "mimetype": "text/x-python",
   "name": "python",
   "nbconvert_exporter": "python",
   "pygments_lexer": "ipython3",
   "version": "3.8.5"
  }
 },
 "nbformat": 4,
 "nbformat_minor": 5
}
